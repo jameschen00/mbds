{
 "cells": [
  {
   "cell_type": "markdown",
   "metadata": {},
   "source": [
    "<div style=\"height:400px;padding:10px;background:#eeeeee;\">\n",
    "<h1 align=\"center\">A Crash Course in Programming in Python</h1>\n",
    "<h2 align=\"center\">https://github.com/smkautz/mbds/blob/master/mbds.ipynb</h2>\n",
    "<img src=\"http://web.cs.iastate.edu/~smkautz/mbds/python.png\" alt=\"See https://xkcd.com/353/\">\n",
    "<h3 align=\"center\">Midwest Big Data Summer School, July 2017<br>\n",
    "Steve Kautz (<a href=\"http://web.cs.iastate.edu/~smkautz/\">http://web.cs.iastate.edu/~smkautz/</a>)<br>\n",
    "</h3>\n",
    "</div>"
   ]
  },
  {
   "cell_type": "markdown",
   "metadata": {},
   "source": [
    "<div style=\"height:350px;padding:10px;background:#eeeeee;\">\n",
    "<h1 align=\"center\">Getting started\n",
    "</h1>\n",
    "<ul>\n",
    "<li><h2>These \"slides\" are in the form of a <em>Jupyter notebook</em> (aka IPython) in which we can edit and run Python code\n",
    "</h2>\n",
    "<li><h2>Before you jump in...\n",
    "</h2>\n",
    "<li><h2>... let's start with an introduction (10-15 min)\n",
    "</h2>\n",
    "<li><h2>After that we'll start writing Python code, and we'll go over how to use the notebook, and then you can experiment with the code as we go\n",
    "</h2>\n",
    "\n",
    "</ul>\n",
    "</div>"
   ]
  },
  {
   "cell_type": "markdown",
   "metadata": {},
   "source": [
    "<div style=\"height:350px;padding:10px;background:#eeeeee;\">\n",
    "<h1 align=\"center\">Who is Steve Kautz?\n",
    "</h1>\n",
    "<ul>\n",
    "<li><h2>Are you a real data scientist?\n",
    "</h2>\n",
    "<ul>\n",
    "  <li><h3>Nope\n",
    "  </h3>\n",
    "  <li><h3>But my son-in-law went to a data science conference this summer, and brought me back a t-shirt...\n",
    "  </h3>\n",
    "  </ul>\n",
    "<li><h2>Oh, and I did this same workshop last year...\n",
    "</h2>\n",
    "</ul>\n",
    "</div>"
   ]
  },
  {
   "cell_type": "markdown",
   "metadata": {
    "collapsed": true
   },
   "source": [
    "<div style=\"height:350px;padding:10px;background:#eeeeee;\">\n",
    "<h1 align=\"center\">My day job\n",
    "</h1>\n",
    "<ul>\n",
    "<li><h2>Senior Lecturer at ISU\n",
    "</h2>\n",
    "<ul>\n",
    "  <li><h3>(That means ISU gets the senior discount when they calculate my salary...)\n",
    "  </h3>\n",
    "  </ul>\n",
    "<li><h2>I teach intro programming for about 1000 undergrads each year\n",
    "</h2>\n",
    "<ul>\n",
    "  <li><h3>Com S 127 is a gentle introduction to programming using Python\n",
    "  </h3>\n",
    "  <li><h3>Check out the resources page for book links and more info\n",
    "  </h3>\n",
    "  </ul>\n",
    "<li><h2>I taught myself Python about 8 years ago to handle a bunch of tedious data processing tasks\n",
    "</h2> \n",
    "<ul>\n",
    "  <li><h3>I'm not a Python \"expert\", I just use it a lot for practical stuff\n",
    "  </h3>\n",
    "\n",
    "</ul>\n",
    "</div>"
   ]
  },
  {
   "cell_type": "markdown",
   "metadata": {},
   "source": [
    "<div style=\"height:350px;padding:10px;background:#eeeeee;\">\n",
    "<h1 align=\"center\">What is Python?\n",
    "</h1>\n",
    "<ul>\n",
    "<li><h2>A general-purpose programming language\n",
    "</h2>\n",
    "<li><h2>Flexible in supporting several \"styles\" of programming (imperative, functional, object-oriented)\n",
    "</h2>\n",
    "<ul>\n",
    "  <li><h3>Can be used to write standalone applications\n",
    "  </h3>\n",
    "  <li><h3>The language interpreter can be used interactively\n",
    "  </h3>\n",
    "  <li><h3>Commonly used to write \"scripts\" to make use of existing code libraries\n",
    "  </h3>\n",
    "  </ul>\n",
    "</ul>\n",
    "</div>"
   ]
  },
  {
   "cell_type": "markdown",
   "metadata": {},
   "source": [
    "<div style=\"height:350px;padding:10px;background:#eeeeee;\">\n",
    "<h1 align=\"center\">What are we doing here?\n",
    "</h1>\n",
    "<ul>\n",
    "<li><h2>Com S 127 is 15 weeks...\n",
    "</h2>\n",
    "<li><h2>We have, what, 3 hours today?\n",
    "</h2>\n",
    "<ul>\n",
    "  <li><h3>So we will have to do the 5-minute version!\n",
    "  </h3>\n",
    "\n",
    "  </ul>\n",
    "</ul>\n",
    "</div>"
   ]
  },
  {
   "cell_type": "markdown",
   "metadata": {},
   "source": [
    "<div style=\"height:350px;padding:10px;background:#eeeeee;\">\n",
    "<h1 align=\"center\">I Don't Want to be a Programmer\n",
    "</h1>\n",
    "<ul>\n",
    "<li><h2>You don't need to be an expert to do useful things!\n",
    "</h2>\n",
    "<ul>\n",
    "  <li><h3>The appeal of Python is that you can accomplish a lot without getting too bogged down in the details of the language\n",
    "  </h3> \n",
    "    <li><h3>Most of the complex code you need is already written\n",
    "  </h3> \n",
    "  </ul>\n",
    "<li><h2>Today:\n",
    "</h2>\n",
    "<ul>\n",
    "  <li><h3>Emphasize using tools, not \"software development\"\n",
    "  </h3> \n",
    "    <li><h3>Enough so that you can make sense of documentation when you look stuff up\n",
    "  </h3>  \n",
    "  </ul>\n",
    "</ul>\n",
    "</div>\n"
   ]
  },
  {
   "cell_type": "markdown",
   "metadata": {},
   "source": [
    "<div style=\"height:350px;padding:10px;background:#eeeeee;\">\n",
    "<h1 align=\"center\">I Don't Want to be a Programmer\n",
    "</h1>\n",
    "<ul>\n",
    "<li><h2>Ok, forget about programming for a sec\n",
    "</h2>\n",
    "\n",
    "<li><h2>How do you answer simple questions about data?\n",
    "</h2>\n",
    "</ul>\n",
    "</div>"
   ]
  },
  {
   "cell_type": "markdown",
   "metadata": {},
   "source": [
    "<div style=\"height:350px;padding:10px;background:#eeeeee;\">\n",
    "</h1>\n",
    "<ul>\n",
    "<li><h2>What's the largest number in this list?\n",
    "</h2>\n",
    "</ul>\n",
    "<h2 align=\"center\">43 17 67 32 86 79 18</h2>\n",
    "\n",
    "</div>"
   ]
  },
  {
   "cell_type": "markdown",
   "metadata": {},
   "source": [
    "<div style=\"height:350px;padding:10px;background:#eeeeee;\">\n",
    "<ul>\n",
    "<li><h2>What's the largest number in this list?\n",
    "</h2>\n",
    "196 61 429 105 522 398 144 274 23 354 145 47 511 516 278 507 526 404 27 16 486 320 284 56 395 318 178 4 217 354 160 279 510 98 345 568 257 98 435 234 493 124 171 96 542 397 349 393 540 379 37 513 159 329 213 58 404 526 170 33 422 399 535 323 150 432 422 116 231 140 434 188 305 542 449 504 108 99 410 189 259 83 573 310 332 51 120 244 325 530 417 84 180 407 391 93 264 484 570 530 17 102 324 76 248 564 265 247 170 262 370 509 108 398 176 370 21 527 61 544 517 495 49 29 185 198 395 112 77 37 417 350 83 444 149 469 299 346 281 512 351 95 474 443 488 517 83  494 18 330 438 336 49 371 32 402 241 442 549 64 43 338 206 571 246 519 18 284 513 133 205 305 481 90 518 297 565 184 210 131 270 238 24 532 142 168 28 1 364 128 90 355 277 42 543 440 223 546 193 245 490 270 218 226 259 442 392 481\n",
    " 316 185 395 437 231 148 40 34 21 407 14 109 312 274 350 372 516 445 566 354 247 80 281 318 501 60 297 291 66 134 501 275 271 190 91 298 23 506 511 313 337 408 496 544 478 282 138 342 215 384 227 525 103 18 52 378 436 519 371 164\n",
    " 552 309 355 336 373 37 457 27 574 515 37 166 317 351 213 499 296 30 282 156 361 465 483 568 186 525 103 18 34 305 19 445 374 379 486 112 522 392 388 287\n",
    "\n",
    "\n",
    "</ul>\n",
    "</div>"
   ]
  },
  {
   "cell_type": "markdown",
   "metadata": {},
   "source": [
    "<div style=\"height:350px;padding:10px;background:#eeeeee;\">\n",
    "<h1 align=\"center\">More generally: given any list, what would be a strategy (\"algorithm\") for finding the largest value?\n",
    "</h1>\n",
    "<ul>\n",
    "<li><h2>Picture a reasonably bright 4th grader, and describe the steps you want to carry out...\n",
    "</h2>\n",
    "<img src=\"http://web.cs.iastate.edu/~smkautz/bigdata/temp/fourth_grader.png\" alt=\"Picture of a girl holding a calculator\" width=\"400\">\n",
    "</ul>\n",
    "</div>"
   ]
  },
  {
   "cell_type": "markdown",
   "metadata": {},
   "source": [
    "<div style=\"height:350px;padding:10px;background:#eeeeee;\">\n",
    "<h1 align=\"center\">A strategy described in \"pseudocode\"\n",
    "</h1>\n",
    "&nbsp;\n",
    "<pre style=\"font-size:120%\">\n",
    "    write down the first number\n",
    "    for each number in the list\n",
    "        if it’s bigger than the one we have,\n",
    "             write that one down instead\n",
    "    return the last number we wrote down\n",
    "</pre>\n",
    "\n",
    "</div>"
   ]
  },
  {
   "cell_type": "markdown",
   "metadata": {},
   "source": [
    "<div style=\"height:350px;padding:10px;background:#eeeeee;\">\n",
    "<h1 align=\"center\">Is that really programming?\n",
    "</h1>\n",
    "<ul>\n",
    "<li><h2>The hard part is done!\n",
    "</h2>\n",
    "  <ul>\n",
    "  <li><h3>Identify the problem and criteria for correctness\n",
    "  </h3>\n",
    "    <li><h3>Describe the steps for solving it (the \"algorithm\")\n",
    "  </h3>\n",
    "  </ul>\n",
    "<li><h2>All we have to do is translate the steps into statements in some programming language\n",
    "</h2>\n",
    "  <ul>\n",
    "  <li><h3>Hmm, and figure out how to read input and represent data...\n",
    "  </h3>\n",
    "  </ul>\n",
    "</ul>\n",
    "\n",
    "</ul>\n",
    "<h1 align=\"center\"><em>So we can all go home now!</em>\n",
    "</h1>\n",
    "</div>"
   ]
  },
  {
   "cell_type": "markdown",
   "metadata": {},
   "source": [
    "<div style=\"height:350px;padding:10px;background:#eeeeee;\">\n",
    "<h1 align=\"center\">Running Python code\n",
    "</h1>\n",
    "<ul>\n",
    "<li><h2>There are many ways to edit and run Python code\n",
    "</h2>\n",
    "<ul>\n",
    "  <li><h3>(Will take a quick look at some alternatives later)\n",
    "  </h3>\n",
    "  </ul>\n",
    "<li><h2>This document is a <em>Jupyter (aka IPython) notebook</em> in which we can directly edit and execute Python code\n",
    "</h2>\n",
    "\n",
    "</ul>\n",
    "</div>"
   ]
  },
  {
   "cell_type": "markdown",
   "metadata": {},
   "source": [
    "<div style=\"height:400px;padding:10px;background:#eeeeee;\">\n",
    "<h1 align=\"center\">Options for following along\n",
    "</h1>\n",
    "<ul>\n",
    "<li><h3>Go to <a href=\"https://github.com/smkautz/mbds\">https://github.com/smkautz/mbds</a> and download the file <code>mbds.ipynb</code>\n",
    "</h3>\n",
    "<li><h3>If you have installed Anaconda</h3>\n",
    "  <ol><li>\n",
    "  <h4>start the notebook server locally (start the Anaconda navigator application, or run <code>jupyter notebook</code> at command prompt)</h4>\n",
    "  <li><h4>open http://localhost:8888 (you may need to enter a \"token\")\n",
    "  <li><h4>navigate to the downloaded file</h4>\n",
    "  </ol>\n",
    "<li><h3>If you haven't installed Anaconda, you can go to <a href=\"https://try.jupyter.org/\">https://try.jupyter.org/</a>\n",
    "and use the \"upload\" button\n",
    "</h3>\n",
    "  <ul><li>\n",
    "  <h4>this sets up a temporary server - when the connection fails, you'll need to upload the notebook again</h4>\n",
    "  </ul>\n",
    "\n",
    "\n",
    "<li><h3>Or, you can view it statically using the <a href=\"https://nbviewer.jupyter.org/\">nbviewer</a> \n",
    "</h3>\n",
    "\n",
    "</ul>\n",
    "</div>"
   ]
  },
  {
   "cell_type": "markdown",
   "metadata": {},
   "source": [
    "### *Example: a simple Python program (Click in the cell and then shift-enter to run)*"
   ]
  },
  {
   "cell_type": "code",
   "execution_count": 1,
   "metadata": {},
   "outputs": [
    {
     "name": "stdout",
     "output_type": "stream",
     "text": [
      "Hello, World!\n",
      "5\n"
     ]
    }
   ],
   "source": [
    "# Our first Python program\n",
    "print(\"Hello, World!\")\n",
    "print(2 + 3)"
   ]
  },
  {
   "cell_type": "code",
   "execution_count": 2,
   "metadata": {},
   "outputs": [
    {
     "name": "stdout",
     "output_type": "stream",
     "text": [
      "Steve said, \"Hello, World!\"\n"
     ]
    }
   ],
   "source": [
    "# String literals may be single-quoted too\n",
    "print('Steve said, \"Hello, World!\"')"
   ]
  },
  {
   "cell_type": "markdown",
   "metadata": {},
   "source": [
    "<div style=\"height:350px;padding:10px;background:#eeeeee;\">\n",
    "<h1 align=\"center\">Things to notice about the notebook\n",
    "</h1>\n",
    "<ul>\n",
    "<li><h2>Click in a cell, Shift-Enter to \"execute\"\n",
    "</h2>\n",
    "<ul>\n",
    "  <li><h3>Double-click to edit markdown, green bar means \"edit mode\"\n",
    "  </h3>\n",
    "  </ul>\n",
    "<li><h2>Toolbar: \"+\" to add a cell, scissors to delete, arrows to move\n",
    "</h2>\n",
    "<li><h2>Dropdown to select Code or \"Markdown\"\n",
    "</h2>\n",
    "<li><h2>File menu -  options to rename, save, or \"download\" (save as)\n",
    "</h2>\n",
    "<li><h2>Kernel menu - options to clear, re-run all cells\n",
    "</h2>\n",
    "<li><h2>Cells may refer to variables/functions defined in previous cells (which may need to be re-run)\n",
    "</h2>\n",
    "</ul>\n",
    "</div>"
   ]
  },
  {
   "cell_type": "markdown",
   "metadata": {},
   "source": [
    "<div style=\"height:350px;padding:10px;background:#eeeeee;\">\n",
    "<h1 align=\"center\">Other ways to run Python code\n",
    "</h1>\n",
    "<ul>\n",
    "<li><h2>Type statements into the traditional Python shell\n",
    "</h2>\n",
    "<li><h2>Save as a text file, invoke Python interpreter at command prompt\n",
    "</h2>\n",
    "<li><h2>Use an IDE (\"Integrated Development Environment\") e.g. Wing 101\n",
    "</h2>\n",
    "<li><h2>Use an ActiveCode window in an interactive book such as \n",
    "<a href=\"http://interactivepython.org/runestone/static/thinkcspy/index.html\">How to Think Like a Computer Scientist</a>\n",
    "</h2>\n",
    "<li><h2>Philip Guo's <a href=\"http://pythontutor.com/\">Python Tutor</a>\n",
    "</h2>\n",
    "</ul>\n",
    "</div>"
   ]
  },
  {
   "cell_type": "markdown",
   "metadata": {},
   "source": [
    "### *Example - another Python program*"
   ]
  },
  {
   "cell_type": "code",
   "execution_count": 3,
   "metadata": {},
   "outputs": [
    {
     "name": "stdout",
     "output_type": "stream",
     "text": [
      "34.5\n"
     ]
    }
   ],
   "source": [
    "# Our second Python program\n",
    "miles = 345\n",
    "gallons = 10\n",
    "print(miles / gallons)"
   ]
  },
  {
   "cell_type": "markdown",
   "metadata": {},
   "source": [
    "### (Note that the last 'print' is redundant in Jupyter, which automatically displays the value of the last expression in a cell) "
   ]
  },
  {
   "cell_type": "markdown",
   "metadata": {},
   "source": [
    "<div style=\"height:350px;padding:10px;background:#eeeeee;\">\n",
    "<h1 align=\"center\">A few things to notice\n",
    "</h1>\n",
    "<ul>\n",
    "<li><h2>We use the operator <code>=</code> to assign values to <em>variables</em>\n",
    "</h2>\n",
    "<li><h2>Values have types (though the type of a variable is dynamic)\n",
    "</h2>\n",
    "<li><h2>Use the built-in <code>type()</code> function to examine the type of an expression\n",
    "</h2>\n",
    "</ul>\n",
    "</div>"
   ]
  },
  {
   "cell_type": "code",
   "execution_count": 4,
   "metadata": {},
   "outputs": [
    {
     "data": {
      "text/plain": [
       "int"
      ]
     },
     "execution_count": 4,
     "metadata": {},
     "output_type": "execute_result"
    }
   ],
   "source": [
    "type(345)"
   ]
  },
  {
   "cell_type": "code",
   "execution_count": 30,
   "metadata": {},
   "outputs": [
    {
     "data": {
      "text/plain": [
       "float"
      ]
     },
     "execution_count": 30,
     "metadata": {},
     "output_type": "execute_result"
    }
   ],
   "source": [
    "type(miles / gallons)"
   ]
  },
  {
   "cell_type": "code",
   "execution_count": 6,
   "metadata": {},
   "outputs": [
    {
     "data": {
      "text/plain": [
       "str"
      ]
     },
     "execution_count": 6,
     "metadata": {},
     "output_type": "execute_result"
    }
   ],
   "source": [
    "type(\"Hello, World!\")"
   ]
  },
  {
   "cell_type": "code",
   "execution_count": 7,
   "metadata": {},
   "outputs": [
    {
     "name": "stdout",
     "output_type": "stream",
     "text": [
      "False\n"
     ]
    },
    {
     "data": {
      "text/plain": [
       "bool"
      ]
     },
     "execution_count": 7,
     "metadata": {},
     "output_type": "execute_result"
    }
   ],
   "source": [
    "print(miles > 500)\n",
    "type(miles > 500)"
   ]
  },
  {
   "cell_type": "markdown",
   "metadata": {},
   "source": [
    "<div style=\"height:350px;padding:10px;background:#eeeeee;\">\n",
    "<h1 align=\"center\">A few things to notice\n",
    "</h1>\n",
    "<ul>\n",
    "<li><h2>The operator <code>/</code> performs floating-point division in Python 3\n",
    "</h2>\n",
    "<ul>\n",
    "  <li><h3>Use <code>//</code> for integer division, <code>%</code> for remainder (modulus)\n",
    "  </h3>\n",
    "  </ul>\n",
    "<li><h2>Python 2 vs Python 3 - many subtle differences, two obvious ones\n",
    "</h2>\n",
    "<ul>\n",
    "  <li><h3><code>25 / 10</code> is 2, not 2.5\n",
    "  </h3>\n",
    "  <li><h3><code>print</code> is invoked without parens\n",
    "  </h3>\n",
    "  </ul>\n",
    "<li><h2>The operator <code>=</code> does not mean \"equals\", it's an assignment of a new value\n",
    "</h2>\n",
    "<ul>\n",
    "  <li><h3>To check equality, use <code>==</code> or <code>!=</code>\n",
    "  </h3>\n",
    "  </ul>\n",
    "</ul>\n",
    "</div>"
   ]
  },
  {
   "cell_type": "markdown",
   "metadata": {},
   "source": [
    "### *A few more things to notice*"
   ]
  },
  {
   "cell_type": "code",
   "execution_count": 8,
   "metadata": {},
   "outputs": [
    {
     "name": "stdout",
     "output_type": "stream",
     "text": [
      "2.5\n",
      "2\n",
      "5\n"
     ]
    }
   ],
   "source": [
    "# In Python 3, the / operator always performs floating-point division\n",
    "# Use // for integer division\n",
    "print(25 / 10)\n",
    "print(25 // 10)\n",
    "print(25 % 10)"
   ]
  },
  {
   "cell_type": "code",
   "execution_count": 9,
   "metadata": {},
   "outputs": [
    {
     "name": "stdout",
     "output_type": "stream",
     "text": [
      "42\n",
      "False\n",
      "42\n",
      "137\n"
     ]
    }
   ],
   "source": [
    "# REMEMBER: the = operator does not mean \"equals\", it assigns a new value\n",
    "# Use == or != to check equality\n",
    "x = 42\n",
    "print(x)\n",
    "print(x == 137)\n",
    "print(x)\n",
    "x = 137\n",
    "print(x)\n"
   ]
  },
  {
   "cell_type": "code",
   "execution_count": 31,
   "metadata": {},
   "outputs": [
    {
     "name": "stdout",
     "output_type": "stream",
     "text": [
      "HelloWorld\n",
      "Your mileage is 34.5\n",
      "34.5\n"
     ]
    }
   ],
   "source": [
    "# The + operator can be used to concatenate strings\n",
    "s = \"Hello\" + \"World\"\n",
    "print(s)\n",
    "\n",
    "# Need to convert number to string in order to concatenate\n",
    "print(\"Your mileage is \" + str(miles / gallons))\n",
    "\n",
    "# Another common conversion is to parse a text string as a number\n",
    "# using the int() or float() functions\n",
    "s = \"345\"\n",
    "print(int(s) / gallons)\n",
    "\n",
    "# error!\n",
    "# print(s / gallons)"
   ]
  },
  {
   "cell_type": "markdown",
   "metadata": {},
   "source": [
    "<div style=\"height:350px;padding:10px;background:#eeeeee;\">\n",
    "<h1 align=\"center\">Remember this?  Finding the max in a list\n",
    "</h1>\n",
    "&nbsp;\n",
    "<pre style=\"font-size:120%\">\n",
    "    write down the first number\n",
    "    for each number in the list\n",
    "        if it’s bigger than the one we have,\n",
    "             write that one down instead\n",
    "    return the last number we wrote down\n",
    "</pre>\n",
    "\n",
    "</div>"
   ]
  },
  {
   "cell_type": "markdown",
   "metadata": {},
   "source": [
    "### *Finding the max - our first version as a Python program*"
   ]
  },
  {
   "cell_type": "code",
   "execution_count": 11,
   "metadata": {},
   "outputs": [
    {
     "name": "stdout",
     "output_type": "stream",
     "text": [
      "86\n"
     ]
    }
   ],
   "source": [
    "# Create a list of literal values to try it out\n",
    "my_list = [43, 17, 67, 32, 86, 79, 18]\n",
    "\n",
    "# Save the first (\"zeroth\") element of the list\n",
    "the_max = my_list[0]\n",
    "\n",
    "# Iterate over elements...\n",
    "for num in my_list:\n",
    "    # ...if we find a bigger one, update 'the_max'\n",
    "    if num > the_max:\n",
    "        the_max = num\n",
    "        \n",
    "# Examine the result\n",
    "print(the_max)"
   ]
  },
  {
   "cell_type": "markdown",
   "metadata": {},
   "source": [
    "<div style=\"height:350px;padding:10px;background:#eeeeee;\">\n",
    "<h1 align=\"center\">Visualization with pythontutor.com\n",
    "</h1>\n",
    "\n",
    "<ul>\n",
    "<li>\n",
    "<h3>\n",
    "<a href=\"http://www.pythontutor.com/visualize.html#code=%23%20Create%20a%20list%20of%20literal%20values%20to%20try%20it%20out%0Amy_list%20%3D%20%5B43,%2017,%2067,%2032,%2086,%2079,%2018%5D%0A%0A%23%20Save%20the%20first%20%28%22zeroth%22%29%20element%20of%20the%20list%0Athe_max%20%3D%20my_list%5B0%5D%0A%0A%23%20Iterate%20over%20elements...%0Afor%20num%20in%20my_list%3A%0A%20%20%20%20%23%20...if%20we%20find%20a%20bigger%20one,%20update%20'the_max'%0A%20%20%20%20if%20num%20%3E%20the_max%3A%0A%20%20%20%20%20%20%20%20the_max%20%3D%20num%0A%20%20%20%20%20%20%20%20%0A%23%20Examine%20the%20result%0Aprint%28the_max%29&cumulative=false&curInstr=0&heapPrimitives=false&mode=display&origin=opt-frontend.js&py=3&rawInputLstJSON=%5B%5D&textReferences=false\">Try it with this link</a>\n",
    "</h3>\n",
    "<li><h3>Nice for learning and experimentation\n",
    "</h3>\n",
    "<li><h3>Works for small, self-contained programs\n",
    "</h3>\n",
    "</ul>\n",
    "</div>"
   ]
  },
  {
   "cell_type": "markdown",
   "metadata": {},
   "source": [
    "<div style=\"height:350px;padding:10px;background:#eeeeee;\">\n",
    "<h1 align=\"center\">Things to notice\n",
    "</h1>\n",
    "<ul>\n",
    "<li><h2>Illustrates basic <em>control structures</em> \n",
    "</h2>\n",
    "  <ul>\n",
    "      <li><h3>iteration (for, while), conditionals (if, if/else, if/elif/elif/.../else)\n",
    "  </h3>\n",
    "  </h3>\n",
    "  </ul>\n",
    "<li><h2>Python uses <em>indentation</em> (whitespace) to show program structure\n",
    "</h2>\n",
    "\n",
    "</div>"
   ]
  },
  {
   "cell_type": "markdown",
   "metadata": {},
   "source": [
    "<div style=\"height:350px;padding:10px;background:#eeeeee;\">\n",
    "<h1 align=\"center\">More things to think about\n",
    "</h1>\n",
    "<ul>\n",
    "<li><h2>What's a list, anyway?  What's up with that `my_list[0]` notation?\n",
    "</h2>\n",
    "  <ul>\n",
    "  <li><h3>A list is just a sequence of values, indexed starting at 0 (More later!)\n",
    "  </h3>\n",
    "\n",
    "  </ul>\n",
    "<li><h2>Do I really have to type all the numbers into my program like that?\n",
    "</h2>\n",
    "  <ul>\n",
    "  <li><h3>Definitely not! We usually read data from files.\n",
    "  </h3>\n",
    "  </ul>\n",
    "<li><h2>How can we re-use this code for a different list?\n",
    "</h2>\n",
    "  <ul>\n",
    "  <li><h3>We need to define a <em>function</em>\n",
    "  </h3>\n",
    "  </ul>\n",
    "</ul>\n",
    "\n",
    "</div>"
   ]
  },
  {
   "cell_type": "markdown",
   "metadata": {},
   "source": [
    "### *Example: Defining a function to find the max*"
   ]
  },
  {
   "cell_type": "code",
   "execution_count": 12,
   "metadata": {
    "collapsed": true
   },
   "outputs": [],
   "source": [
    "def find_max(lst):\n",
    "    the_max = lst[0]\n",
    "    for num in lst:\n",
    "        if num > the_max:\n",
    "            the_max = num\n",
    "    return the_max\n",
    "\n"
   ]
  },
  {
   "cell_type": "code",
   "execution_count": 13,
   "metadata": {},
   "outputs": [
    {
     "name": "stdout",
     "output_type": "stream",
     "text": [
      "86\n",
      "5\n"
     ]
    }
   ],
   "source": [
    "# Now, we can call the function, and it returns the value we want\n",
    "m = find_max(my_list)\n",
    "print(m)\n",
    "print(find_max([3, 5, 4]))"
   ]
  },
  {
   "cell_type": "markdown",
   "metadata": {},
   "source": [
    "<div style=\"height:350px;padding:10px;background:#eeeeee;\">\n",
    "<h1 align=\"center\">Reinventing the wheel\n",
    "</h1>\n",
    "<ul>\n",
    "<li><h2>That was great, but...\n",
    "</h2>\n",
    "<li><h2>Python already has a built-in function to find the max in a list!\n",
    "</h2>\n",
    "<li><h2>Many of the operations you need for data analysis have already been written\n",
    "</h2>\n",
    "<li><h2>We just have to learn how to find and use them\n",
    "</h2>\n",
    "</ul>\n",
    "</div>"
   ]
  },
  {
   "cell_type": "code",
   "execution_count": 14,
   "metadata": {},
   "outputs": [
    {
     "data": {
      "text/plain": [
       "86"
      ]
     },
     "execution_count": 14,
     "metadata": {},
     "output_type": "execute_result"
    }
   ],
   "source": [
    "# Python's built in max() function\n",
    "max(my_list)"
   ]
  },
  {
   "cell_type": "markdown",
   "metadata": {
    "collapsed": true
   },
   "source": [
    "<div style=\"height:350px;padding:10px;background:#eeeeee;\">\n",
    "<h1 align=\"center\">Modules\n",
    "</h1>\n",
    "<ul>\n",
    "<li><h2>There are relatively few built-in functions like <code>print</code> and <code>type</code>\n",
    "</h2>\n",
    "<li><h2>A <em>module</em> is just a file with function definitions\n",
    "</h2>\n",
    "<ul>\n",
    "  <li><h3>May also define <em>data types</em> (\"classes\")\n",
    "  </h3>\n",
    "  <li><h3>Typically not executable as a program by itself\n",
    "  </h3>\n",
    "  </ul>\n",
    "<li><h2>A Python installation includes many modules as part of its \n",
    "<a href=\"https://docs.python.org/3/library/index.html\">standard library</a>\n",
    "</h2>\n",
    "<ul>\n",
    "  <li><h3>You'll use many more that are \"user-defined\", e.g pandas, numpy, pyspark\n",
    "  </h3>\n",
    "  <li><h3>You can also define your own to make your code reusable\n",
    "  </h3>\n",
    "  </ul>\n",
    "</ul>\n",
    "</div>"
   ]
  },
  {
   "cell_type": "markdown",
   "metadata": {},
   "source": [
    "### Example: importing a module"
   ]
  },
  {
   "cell_type": "code",
   "execution_count": 15,
   "metadata": {},
   "outputs": [
    {
     "data": {
      "text/plain": [
       "0.5000000000000001"
      ]
     },
     "execution_count": 15,
     "metadata": {},
     "output_type": "execute_result"
    }
   ],
   "source": [
    "# Importing the module math.py\n",
    "import math\n",
    "\n",
    "# Using the \"qualified name\" for the cosine function (and pi constant)\n",
    "math.cos(math.pi / 3)"
   ]
  },
  {
   "cell_type": "code",
   "execution_count": 16,
   "metadata": {},
   "outputs": [
    {
     "data": {
      "text/plain": [
       "0.5000000000000001"
      ]
     },
     "execution_count": 16,
     "metadata": {},
     "output_type": "execute_result"
    }
   ],
   "source": [
    "# Importing a module, but giving it a different name\n",
    "import math as foo\n",
    "foo.cos(foo.pi / 3)"
   ]
  },
  {
   "cell_type": "code",
   "execution_count": 17,
   "metadata": {},
   "outputs": [
    {
     "data": {
      "text/plain": [
       "0.5000000000000001"
      ]
     },
     "execution_count": 17,
     "metadata": {},
     "output_type": "execute_result"
    }
   ],
   "source": [
    "# Importing just specific names from a module - generally not recommended\n",
    "from math import cos, pi\n",
    "cos(pi / 3)"
   ]
  },
  {
   "cell_type": "markdown",
   "metadata": {},
   "source": [
    "<div style=\"height:350px;padding:10px;background:#eeeeee;\">\n",
    "<h1 align=\"center\">Getting module documentation\n",
    "</h1>\n",
    "<ul>\n",
    "<li><h2>Standard library reference\n",
    "</h2>\n",
    "<a href=\"https://docs.python.org/3/library/index.html\">https://docs.python.org/3/library/index.html</a>\n",
    "<li><h2>Instant help on imported modules\n",
    "</h2>\n",
    "<ul>\n",
    "  <li><h3>just type, e.g., <code>help(math.cos)</code> or <code>help(math)</code>\n",
    "  </h3>\n",
    "  </ul>\n",
    "<ul>\n",
    "<li><h2>Note \"optional arguments\" and \"keyword arguments\" in function documentation...\n",
    "</h2>\n",
    "</ul>\n",
    "</div>"
   ]
  },
  {
   "cell_type": "code",
   "execution_count": 18,
   "metadata": {
    "scrolled": true
   },
   "outputs": [
    {
     "name": "stdout",
     "output_type": "stream",
     "text": [
      "Help on built-in function log in module math:\n",
      "\n",
      "log(...)\n",
      "    log(x[, base])\n",
      "    \n",
      "    Return the logarithm of x to the given base.\n",
      "    If the base not specified, returns the natural logarithm (base e) of x.\n",
      "\n"
     ]
    }
   ],
   "source": [
    "help(math.log)"
   ]
  },
  {
   "cell_type": "code",
   "execution_count": 32,
   "metadata": {},
   "outputs": [
    {
     "name": "stdout",
     "output_type": "stream",
     "text": [
      "Help on built-in function print in module builtins:\n",
      "\n",
      "print(...)\n",
      "    print(value, ..., sep=' ', end='\\n', file=sys.stdout, flush=False)\n",
      "    \n",
      "    Prints the values to a stream, or to sys.stdout by default.\n",
      "    Optional keyword arguments:\n",
      "    file:  a file-like object (stream); defaults to the current sys.stdout.\n",
      "    sep:   string inserted between values, default a space.\n",
      "    end:   string appended after the last value, default a newline.\n",
      "    flush: whether to forcibly flush the stream.\n",
      "\n"
     ]
    }
   ],
   "source": [
    "help(print)"
   ]
  },
  {
   "cell_type": "markdown",
   "metadata": {},
   "source": [
    "<div style=\"height:400px;padding:10px;background:#eeeeee;\">\n",
    "<h1 align=\"center\">How does the interpreter find modules?\n",
    "</h1>\n",
    "<ul>\n",
    "<li><h2>Looks in the current working directory\n",
    "</h2>\n",
    "<li><h2>Looks in <code>sys.path</code>\n",
    "</h2>\n",
    "<ul>\n",
    "  <li><h3>Normally includes a directory called site-packages for user-installed packages\n",
    "  </h3>\n",
    "  </ul>\n",
    "<li><h2>Choices for using a new (non-standard) module\n",
    "</h2>\n",
    "<ul>\n",
    "  <li><h3>Put it in current directory\n",
    "  </h3>\n",
    "  <li><h3>Put it in site-packages directory\n",
    "  </h3>\n",
    "  <li><h3>Append its location to <code>sys.path</code>\n",
    "  </h3>\n",
    "    </ul>\n",
    "    \n",
    "</ul>\n",
    "  <pre>\n",
    "import sys\n",
    "sys.path.append(\"/path/to/some/directory\")\n",
    "  </pre>\n",
    "\n",
    "</div>"
   ]
  },
  {
   "cell_type": "markdown",
   "metadata": {},
   "source": [
    "<div style=\"height:350px;padding:10px;background:#eeeeee;\">\n",
    "<h1 align=\"center\">Next: objects and methods\n",
    "</h1>\n",
    "<ul>\n",
    "<li><h2>We have seen some simple types such as, <code>int</code>,  <code>float</code>,  <code>bool</code>, and functions like <code>math.sqrt</code> that operate on them\n",
    "</h2>\n",
    "<li><h2>A list is something different, an example of an <em>object</em>\n",
    "</h2>\n",
    "<ul>\n",
    "  <li><h3>Part of its definition is a collection of functions, called <em>methods</em>, that operate on the list <em>itself</em>\n",
    "  </h3>\n",
    "    <li><h3>Methods are invoked using a \"dot\" notation (looks similar to qualifying with a module name)\n",
    "  </h3>\n",
    "  </ul>\n",
    "</ul>\n",
    "</div>"
   ]
  },
  {
   "cell_type": "markdown",
   "metadata": {},
   "source": [
    "### *Examples of list methods*"
   ]
  },
  {
   "cell_type": "code",
   "execution_count": 19,
   "metadata": {},
   "outputs": [
    {
     "data": {
      "text/plain": [
       "list"
      ]
     },
     "execution_count": 19,
     "metadata": {},
     "output_type": "execute_result"
    }
   ],
   "source": [
    "# What is the type of a list?\n",
    "my_list = [43, 17, 67, 32, 86, 79, 18]\n",
    "type(my_list)"
   ]
  },
  {
   "cell_type": "code",
   "execution_count": 20,
   "metadata": {},
   "outputs": [
    {
     "data": {
      "text/plain": [
       "[43, 17, 67, 32, 86, 79, 18, 137]"
      ]
     },
     "execution_count": 20,
     "metadata": {},
     "output_type": "execute_result"
    }
   ],
   "source": [
    "# Use a method to append a new element to this list\n",
    "my_list.append(137)\n",
    "my_list"
   ]
  },
  {
   "cell_type": "code",
   "execution_count": 21,
   "metadata": {},
   "outputs": [
    {
     "data": {
      "text/plain": [
       "[17, 18, 32, 43, 67, 79, 86, 137]"
      ]
     },
     "execution_count": 21,
     "metadata": {},
     "output_type": "execute_result"
    }
   ],
   "source": [
    "# Another useful method that modifies the list\n",
    "my_list.sort()\n",
    "my_list"
   ]
  },
  {
   "cell_type": "code",
   "execution_count": 22,
   "metadata": {},
   "outputs": [
    {
     "data": {
      "text/plain": [
       "8"
      ]
     },
     "execution_count": 22,
     "metadata": {},
     "output_type": "execute_result"
    }
   ],
   "source": [
    "# By contrast, getting the length is a call to a built-in function\n",
    "len(my_list)"
   ]
  },
  {
   "cell_type": "markdown",
   "metadata": {},
   "source": [
    "### *Some indexing/slicing examples, while we're at it*"
   ]
  },
  {
   "cell_type": "code",
   "execution_count": 23,
   "metadata": {},
   "outputs": [
    {
     "name": "stdout",
     "output_type": "stream",
     "text": [
      "17\n",
      "137\n",
      "137\n",
      "86\n"
     ]
    }
   ],
   "source": [
    "\n",
    "# Individual elements can be accessed by index\n",
    "print(my_list[0])\n",
    "print(my_list[7])\n",
    "\n",
    "# Negative values count from the end!\n",
    "print(my_list[-1])\n",
    "print(my_list[-2])\n",
    "\n",
    "# Out of range index is an error\n",
    "#print(my_list[8])"
   ]
  },
  {
   "cell_type": "code",
   "execution_count": 24,
   "metadata": {},
   "outputs": [
    {
     "data": {
      "text/plain": [
       "[32, 43, 67]"
      ]
     },
     "execution_count": 24,
     "metadata": {},
     "output_type": "execute_result"
    }
   ],
   "source": [
    "# Can use a range of indices to get a \"slice\"\n",
    "# This gives us elements at indices 2, 3, and 4 (upper bound not included)\n",
    "my_list[2:5]"
   ]
  },
  {
   "cell_type": "code",
   "execution_count": 25,
   "metadata": {},
   "outputs": [
    {
     "data": {
      "text/plain": [
       "[43, 67, 79, 86, 137]"
      ]
     },
     "execution_count": 25,
     "metadata": {},
     "output_type": "execute_result"
    }
   ],
   "source": [
    "# This is everything from index 3 up to the end\n",
    "my_list[3:]"
   ]
  },
  {
   "cell_type": "markdown",
   "metadata": {},
   "source": [
    "<div style=\"height:350px;padding:10px;background:#eeeeee;\">\n",
    "<h1 align=\"center\">Strings are objects too\n",
    "</h1>\n",
    "<ul>\n",
    "<li><h2>A string is indexed like a list of characters, but it is <em>immutable</em>\n",
    "</h2>\n",
    "<li><h2>Has methods specific to text such as `upper()`, `lower()`, `strip()`\n",
    "</h2>\n",
    "<li><h2>One very useful method is `split()` (returns a list of strings)\n",
    "</h2>\n",
    "</ul>\n",
    "</div>"
   ]
  },
  {
   "cell_type": "markdown",
   "metadata": {},
   "source": [
    "### *Example: strings are immutable*"
   ]
  },
  {
   "cell_type": "code",
   "execution_count": 26,
   "metadata": {},
   "outputs": [
    {
     "name": "stdout",
     "output_type": "stream",
     "text": [
      "STEVE\n",
      "Steve\n"
     ]
    }
   ],
   "source": [
    "s = \"Steve\"\n",
    "t = s.upper()\n",
    "print(t)\n",
    "\n",
    "# Note s is unchanged\n",
    "print(s)  "
   ]
  },
  {
   "cell_type": "markdown",
   "metadata": {},
   "source": [
    "### *Example: using the `split()` method*"
   ]
  },
  {
   "cell_type": "code",
   "execution_count": 27,
   "metadata": {},
   "outputs": [
    {
     "data": {
      "text/plain": [
       "'294-4183'"
      ]
     },
     "execution_count": 27,
     "metadata": {},
     "output_type": "execute_result"
    }
   ],
   "source": [
    "# A string of comma-separated tokens\n",
    "s = \"Kautz, Steve, Senior Lecturer, Atanasoff, 101, 294, 4183\"\n",
    "\n",
    "# Grab the last two items and concatenate them together\n",
    "values = s.split(\",\")\n",
    "phone = values[-2].strip() + \"-\" + values[-1].strip()\n",
    "phone"
   ]
  },
  {
   "cell_type": "markdown",
   "metadata": {},
   "source": [
    "<div style=\"height:350px;padding:10px;background:#eeeeee;\">\n",
    "<h1 align=\"center\">Dictionaries and sets\n",
    "</h1>\n",
    "<ul>\n",
    "<li><h2>A list is sequential: it associates integer indices with values\n",
    "</h2>\n",
    "<li><h2>A <em>dictionary</em> associates arbitrary keys to values\n",
    "</h2>\n",
    "<ul>\n",
    "  <li><h3>A <em>set</em> is just a dictionary in which keys have no associated value (all you care about is whether or not the key is present)\n",
    "  </h3>\n",
    "\n",
    "  </ul>\n",
    "<li><h2>Looking up an item in a set or dictionary is generally much faster than searching for it in a list\n",
    "</h2>\n",
    "</ul>\n",
    "</div>"
   ]
  },
  {
   "cell_type": "markdown",
   "metadata": {},
   "source": [
    "### *Example: a dictionary*"
   ]
  },
  {
   "cell_type": "code",
   "execution_count": 28,
   "metadata": {},
   "outputs": [
    {
     "name": "stdout",
     "output_type": "stream",
     "text": [
      "{'Steve': 4183, 'Hridesh': 1234}\n",
      "\n",
      "4183\n",
      "\n",
      "True\n",
      "False\n",
      "\n",
      "Steve:4183\n",
      "Hridesh:1234\n"
     ]
    }
   ],
   "source": [
    "# Creates an empty dictionary\n",
    "d = {}\n",
    "\n",
    "# Add some key/value pairs (keys don't have to be strings)\n",
    "d[\"Steve\"] = 4183\n",
    "d[\"Hridesh\"] = 1234\n",
    "\n",
    "# Literal notation for dictionary\n",
    "print(d)\n",
    "print()\n",
    "\n",
    "# Looking up values\n",
    "print(d[\"Steve\"])\n",
    "print()\n",
    "\n",
    "# Check membership of some keys\n",
    "print(\"Steve\" in d)\n",
    "print(\"James\" in d)\n",
    "print()\n",
    "\n",
    "# Iterate over keys (order is arbitrary)\n",
    "for key in d:\n",
    "    print(key + \":\" + str(d[key]))\n",
    "\n"
   ]
  },
  {
   "cell_type": "markdown",
   "metadata": {
    "collapsed": true
   },
   "source": [
    "<div style=\"height:350px;padding:10px;background:#eeeeee;\">\n",
    "<h1 align=\"center\">Reading text files</h1>\n",
    "<pre>\n",
    "f = open(\"path/to/file\")\n",
    "for line in f:\n",
    "    # do something with the line\n",
    "f.close()\n",
    "</pre>\n",
    "\n",
    "<pre>\n",
    "f = open(\"path/to/file\")\n",
    "lines = f.readlines()\n",
    "    for line in lines:\n",
    "        # do something with the line\n",
    "f.close()\n",
    "</pre>\n",
    "<ul><li><h3>The latter is more flexible; e.g., can ignore every other line or skip the first line\n",
    "</h3>\n",
    "</ul>\n",
    "<pre>\n",
    "    # skips the first line\n",
    "    for line in lines[1:]:\n",
    "</pre>\n",
    "</div>"
   ]
  },
  {
   "cell_type": "markdown",
   "metadata": {},
   "source": [
    "### *File-reading example - for this to work, the tips.csv file needs to be in the current directory for the notebook (check using `pwd`)*"
   ]
  },
  {
   "cell_type": "code",
   "execution_count": 38,
   "metadata": {},
   "outputs": [
    {
     "ename": "FileNotFoundError",
     "evalue": "[Errno 2] No such file or directory: 'tips.csv'",
     "output_type": "error",
     "traceback": [
      "\u001b[0;31m---------------------------------------------------------------------------\u001b[0m",
      "\u001b[0;31mFileNotFoundError\u001b[0m                         Traceback (most recent call last)",
      "\u001b[0;32m<ipython-input-38-76f1f07408ea>\u001b[0m in \u001b[0;36m<module>\u001b[0;34m()\u001b[0m\n\u001b[1;32m      1\u001b[0m \u001b[0;31m# Open the tips.csv file and print the first 5 lines\u001b[0m\u001b[0;34m\u001b[0m\u001b[0;34m\u001b[0m\u001b[0m\n\u001b[0;32m----> 2\u001b[0;31m \u001b[0mf\u001b[0m \u001b[0;34m=\u001b[0m \u001b[0mopen\u001b[0m\u001b[0;34m(\u001b[0m\u001b[0;34m\"tips.csv\"\u001b[0m\u001b[0;34m)\u001b[0m\u001b[0;34m\u001b[0m\u001b[0m\n\u001b[0m\u001b[1;32m      3\u001b[0m \u001b[0mlines\u001b[0m \u001b[0;34m=\u001b[0m \u001b[0mf\u001b[0m\u001b[0;34m.\u001b[0m\u001b[0mreadlines\u001b[0m\u001b[0;34m(\u001b[0m\u001b[0;34m)\u001b[0m\u001b[0;34m\u001b[0m\u001b[0m\n\u001b[1;32m      4\u001b[0m \u001b[0;32mfor\u001b[0m \u001b[0mline\u001b[0m \u001b[0;32min\u001b[0m \u001b[0mlines\u001b[0m\u001b[0;34m[\u001b[0m\u001b[0;34m:\u001b[0m\u001b[0;36m5\u001b[0m\u001b[0;34m]\u001b[0m\u001b[0;34m:\u001b[0m\u001b[0;34m\u001b[0m\u001b[0m\n\u001b[1;32m      5\u001b[0m     \u001b[0mprint\u001b[0m\u001b[0;34m(\u001b[0m\u001b[0mline\u001b[0m\u001b[0;34m,\u001b[0m \u001b[0mend\u001b[0m\u001b[0;34m=\u001b[0m\u001b[0;34m\"\"\u001b[0m\u001b[0;34m)\u001b[0m\u001b[0;34m\u001b[0m\u001b[0m\n",
      "\u001b[0;31mFileNotFoundError\u001b[0m: [Errno 2] No such file or directory: 'tips.csv'"
     ]
    }
   ],
   "source": [
    "# Open the tips.csv file and print the first 5 lines\n",
    "f = open(\"tips.csv\")\n",
    "lines = f.readlines()\n",
    "for line in lines[:5]:\n",
    "    print(line, end=\"\")\n",
    "f.close()"
   ]
  },
  {
   "cell_type": "markdown",
   "metadata": {},
   "source": [
    "<div style=\"height:350px;padding:10px;background:#eeeeee;\">\n",
    "<h1 align=\"center\">What if the file isn't in the current directory?\n",
    "</h1>\n",
    "<ul>\n",
    "<li><h2>Change the working directory?\n",
    "</h2>\n",
    "<ul>\n",
    "  <li><h3>Jupyter allows <code>pwd</code>, <code>cd</code>\n",
    "  </h3>\n",
    "  </ul>\n",
    "<li><h2>Provide an absolute or relative path to the file?\n",
    "</h2>\n",
    "\n",
    "</ul>\n",
    "<h2>(<code>open()</code> can also fail because of file permissions, network connections, ...)\n",
    "</h2>\n",
    "</div>"
   ]
  },
  {
   "cell_type": "markdown",
   "metadata": {},
   "source": [
    "### *More file-reading examples*"
   ]
  },
  {
   "cell_type": "code",
   "execution_count": 37,
   "metadata": {},
   "outputs": [
    {
     "data": {
      "text/plain": [
       "0.16649073632892475"
      ]
     },
     "execution_count": 37,
     "metadata": {},
     "output_type": "execute_result"
    }
   ],
   "source": [
    "# Find the average tip rate for women\n",
    "f = open(\"tips.csv\")\n",
    "lines = f.readlines()\n",
    "total = 0.0\n",
    "count = 0\n",
    "\n",
    "for line in lines[1:]:\n",
    "    tokens = line.split(',')\n",
    "    sex = tokens[2]\n",
    "    if \"Female\" in sex:\n",
    "        bill = float(tokens[0])  # convert text to number\n",
    "        tip = float(tokens[1])\n",
    "        rate = tip / bill\n",
    "        total += rate   # abbreviates total = total + rate\n",
    "        count += 1      # abbreviates count = count + 1\n",
    "f.close()\n",
    "\n",
    "mean = total / count\n",
    "mean\n"
   ]
  },
  {
   "cell_type": "code",
   "execution_count": 35,
   "metadata": {},
   "outputs": [
    {
     "data": {
      "text/plain": [
       "'/Users/smkautz/repo'"
      ]
     },
     "execution_count": 35,
     "metadata": {},
     "output_type": "execute_result"
    }
   ],
   "source": [
    "pwd"
   ]
  },
  {
   "cell_type": "code",
   "execution_count": null,
   "metadata": {
    "collapsed": true
   },
   "outputs": [],
   "source": []
  },
  {
   "cell_type": "code",
   "execution_count": null,
   "metadata": {
    "collapsed": true
   },
   "outputs": [],
   "source": []
  }
 ],
 "metadata": {
  "kernelspec": {
   "display_name": "Python 3",
   "language": "python",
   "name": "python3"
  },
  "language_info": {
   "codemirror_mode": {
    "name": "ipython",
    "version": 3
   },
   "file_extension": ".py",
   "mimetype": "text/x-python",
   "name": "python",
   "nbconvert_exporter": "python",
   "pygments_lexer": "ipython3",
   "version": "3.6.1"
  }
 },
 "nbformat": 4,
 "nbformat_minor": 1
}
