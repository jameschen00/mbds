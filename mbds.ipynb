{
 "cells": [
  {
   "cell_type": "markdown",
   "metadata": {},
   "source": [
    "<div style=\"height:440px;padding:10px;background:#eeeeee;\">\n",
    "<h1 align=\"center\">A Crash Course in Programming in Python</h1>\n",
    "<h2 align=\"center\">https://github.com/smkautz/mbds - (click mbds.ipynb to view slides)</h2>\n",
    "<img src=\"http://web.cs.iastate.edu/~smkautz/mbds/python.png\" alt=\"See https://xkcd.com/353/\">\n",
    "<h3 align=\"center\">Midwest Big Data Summer School, July 2017<br>\n",
    "Steve Kautz (<a href=\"http://web.cs.iastate.edu/~smkautz/\">http://web.cs.iastate.edu/~smkautz/</a>)<br> \n",
    "with David Johnston\n",
    "</h3>\n",
    "</div>"
   ]
  },
  {
   "cell_type": "markdown",
   "metadata": {},
   "source": [
    "<div style=\"height:350px;padding:10px;background:#eeeeee;\">\n",
    "<h1 align=\"center\">Getting started\n",
    "</h1>\n",
    "<ul>\n",
    "<li><h2>These \"slides\" are in the form of a <em>Jupyter notebook</em> (aka IPython) in which we can edit and run Python code\n",
    "</h2>\n",
    "<li><h2>Before you jump in...\n",
    "</h2>\n",
    "<li><h2>... let's start with an introduction (10-15 min)\n",
    "</h2>\n",
    "<li><h2>After that we'll start writing Python code, and we'll go over how to use the notebook, and then you can experiment with the code as we go\n",
    "</h2>\n",
    "\n",
    "</ul>\n",
    "</div>"
   ]
  },
  {
   "cell_type": "markdown",
   "metadata": {},
   "source": [
    "<div style=\"height:350px;padding:10px;background:#eeeeee;\">\n",
    "<h1 align=\"center\">Who is Steve Kautz?\n",
    "</h1>\n",
    "<ul>\n",
    "<li><h2>Are you a real data scientist?\n",
    "</h2>\n",
    "<ul>\n",
    "  <li><h3>Nope\n",
    "  </h3>\n",
    "  <li><h3>But my son-in-law went to a data science conference this summer, and brought me back a t-shirt...\n",
    "  </h3>\n",
    "  </ul>\n",
    "<li><h2>Oh, and I did this same workshop last year...\n",
    "</h2>\n",
    "</ul>\n",
    "</div>"
   ]
  },
  {
   "cell_type": "markdown",
   "metadata": {
    "collapsed": true
   },
   "source": [
    "<div style=\"height:350px;padding:10px;background:#eeeeee;\">\n",
    "<h1 align=\"center\">My day job\n",
    "</h1>\n",
    "<ul>\n",
    "<li><h2>Senior Lecturer at ISU\n",
    "</h2>\n",
    "<ul>\n",
    "  <li><h3>(That means ISU gets the senior discount when they calculate my salary...)\n",
    "  </h3>\n",
    "  </ul>\n",
    "<li><h2>I teach intro programming for about 1000 undergrads each year\n",
    "</h2>\n",
    "<ul>\n",
    "  <li><h3>Com S 127 is a gentle introduction to programming using Python\n",
    "  </h3>\n",
    "  <li><h3>Check out the resources page for book links and more info\n",
    "  </h3>\n",
    "  </ul>\n",
    "<li><h2>I taught myself Python about 8 years ago to handle a bunch of tedious data processing tasks\n",
    "</h2> \n",
    "<ul>\n",
    "  <li><h3>I'm not a Python \"expert\", I just use it a lot for practical stuff\n",
    "  </h3>\n",
    "\n",
    "</ul>\n",
    "</div>"
   ]
  },
  {
   "cell_type": "markdown",
   "metadata": {},
   "source": [
    "<div style=\"height:350px;padding:10px;background:#eeeeee;\">\n",
    "<h1 align=\"center\">What is Python?\n",
    "</h1>\n",
    "<ul>\n",
    "<li><h2>A general-purpose programming language\n",
    "</h2>\n",
    "<li><h2>Flexible in supporting several \"styles\" of programming (imperative, functional, object-oriented)\n",
    "</h2>\n",
    "<ul>\n",
    "  <li><h3>Can be used to write standalone applications\n",
    "  </h3>\n",
    "  <li><h3>The language interpreter can be used interactively\n",
    "  </h3>\n",
    "  <li><h3>Commonly used to write \"scripts\" to make use of existing code libraries\n",
    "  </h3>\n",
    "  </ul>\n",
    "</ul>\n",
    "</div>"
   ]
  },
  {
   "cell_type": "markdown",
   "metadata": {},
   "source": [
    "<div style=\"height:350px;padding:10px;background:#eeeeee;\">\n",
    "<h1 align=\"center\">What are we doing here?\n",
    "</h1>\n",
    "<ul>\n",
    "<li><h2>Com S 127 is 15 weeks...\n",
    "</h2>\n",
    "<li><h2>We have, what, 3 hours today?\n",
    "</h2>\n",
    "<ul>\n",
    "  <li><h3>So we will have to do the 5-minute version!\n",
    "  </h3>\n",
    "\n",
    "  </ul>\n",
    "</ul>\n",
    "</div>"
   ]
  },
  {
   "cell_type": "markdown",
   "metadata": {},
   "source": [
    "<div style=\"height:350px;padding:10px;background:#eeeeee;\">\n",
    "<h1 align=\"center\">I Don't Want to be a Programmer\n",
    "</h1>\n",
    "<ul>\n",
    "<li><h2>You don't need to be an expert to do useful things!\n",
    "</h2>\n",
    "<ul>\n",
    "  <li><h3>The appeal of Python is that you can accomplish a lot without getting too bogged down in the details of the language\n",
    "  </h3> \n",
    "    <li><h3>Most of the complex code you need is already written\n",
    "  </h3> \n",
    "  </ul>\n",
    "<li><h2>Today:\n",
    "</h2>\n",
    "<ul>\n",
    "  <li><h3>Emphasize using tools, not \"software development\"\n",
    "  </h3> \n",
    "    <li><h3>Enough so that you can make sense of documentation when you look stuff up\n",
    "  </h3>  \n",
    "  </ul>\n",
    "</ul>\n",
    "</div>\n"
   ]
  },
  {
   "cell_type": "markdown",
   "metadata": {},
   "source": [
    "<div style=\"height:350px;padding:10px;background:#eeeeee;\">\n",
    "<h1 align=\"center\">I Don't Want to be a Programmer\n",
    "</h1>\n",
    "<ul>\n",
    "<li><h2>Ok, forget about programming for a sec\n",
    "</h2>\n",
    "\n",
    "<li><h2>How do you answer simple questions about data?\n",
    "</h2>\n",
    "</ul>\n",
    "</div>"
   ]
  },
  {
   "cell_type": "markdown",
   "metadata": {},
   "source": [
    "<div style=\"height:350px;padding:10px;background:#eeeeee;\">\n",
    "</h1>\n",
    "<ul>\n",
    "<li><h2>What's the largest number in this list?\n",
    "</h2>\n",
    "</ul>\n",
    "<h2 align=\"center\">43 17 67 32 86 79 18</h2>\n",
    "\n",
    "</div>"
   ]
  },
  {
   "cell_type": "markdown",
   "metadata": {},
   "source": [
    "<div style=\"height:350px;padding:10px;background:#eeeeee;\">\n",
    "<ul>\n",
    "<li><h2>What's the largest number in this list?\n",
    "</h2>\n",
    "196 61 429 105 522 398 144 274 23 354 145 47 511 516 278 507 526 404 27 16 486 320 284 56 395 318 178 4 217 354 160 279 510 98 345 568 257 98 435 234 493 124 171 96 542 397 349 393 540 379 37 513 159 329 213 58 404 526 170 33 422 399 535 323 150 432 422 116 231 140 434 188 305 542 449 504 108 99 410 189 259 83 573 310 332 51 120 244 325 530 417 84 180 407 391 93 264 484 570 530 17 102 324 76 248 564 265 247 170 262 370 509 108 398 176 370 21 527 61 544 517 495 49 29 185 198 395 112 77 37 417 350 83 444 149 469 299 346 281 512 351 95 474 443 488 517 83  494 18 330 438 336 49 371 32 402 241 442 549 64 43 338 206 571 246 519 18 284 513 133 205 305 481 90 518 297 565 184 210 131 270 238 24 532 142 168 28 1 364 128 90 355 277 42 543 440 223 546 193 245 490 270 218 226 259 442 392 481\n",
    " 316 185 395 437 231 148 40 34 21 407 14 109 312 274 350 372 516 445 566 354 247 80 281 318 501 60 297 291 66 134 501 275 271 190 91 298 23 506 511 313 337 408 496 544 478 282 138 342 215 384 227 525 103 18 52 378 436 519 371 164\n",
    " 552 309 355 336 373 37 457 27 574 515 37 166 317 351 213 499 296 30 282 156 361 465 483 568 186 525 103 18 34 305 19 445 374 379 486 112 522 392 388 287\n",
    "\n",
    "\n",
    "</ul>\n",
    "</div>"
   ]
  },
  {
   "cell_type": "markdown",
   "metadata": {},
   "source": [
    "<div style=\"height:350px;padding:10px;background:#eeeeee;\">\n",
    "<h1 align=\"center\">More generally: given any list, what would be a strategy (\"algorithm\") for finding the largest value?\n",
    "</h1>\n",
    "<ul>\n",
    "<li><h2>Picture a reasonably bright 4th grader, and describe the steps you want to carry out...\n",
    "</h2>\n",
    "<img src=\"http://web.cs.iastate.edu/~smkautz/bigdata/temp/fourth_grader.png\" alt=\"Picture of a girl holding a calculator\" width=\"400\">\n",
    "</ul>\n",
    "</div>"
   ]
  },
  {
   "cell_type": "markdown",
   "metadata": {},
   "source": [
    "<div style=\"height:350px;padding:10px;background:#eeeeee;\">\n",
    "<h1 align=\"center\">A strategy described in \"pseudocode\"\n",
    "</h1>\n",
    "&nbsp;\n",
    "<pre style=\"font-size:120%\">\n",
    "    write down the first number\n",
    "    for each number in the list\n",
    "        if it’s bigger than the one we have,\n",
    "             write that one down instead\n",
    "    return the last number we wrote down\n",
    "</pre>\n",
    "\n",
    "</div>"
   ]
  },
  {
   "cell_type": "markdown",
   "metadata": {},
   "source": [
    "<div style=\"height:350px;padding:10px;background:#eeeeee;\">\n",
    "<h1 align=\"center\">Is that really programming?\n",
    "</h1>\n",
    "<ul>\n",
    "<li><h2>The hard part is done!\n",
    "</h2>\n",
    "  <ul>\n",
    "  <li><h3>Identify the problem and criteria for correctness\n",
    "  </h3>\n",
    "    <li><h3>Describe the steps for solving it (the \"algorithm\")\n",
    "  </h3>\n",
    "  </ul>\n",
    "<li><h2>All we have to do is translate the steps into statements in some programming language\n",
    "</h2>\n",
    "  <ul>\n",
    "  <li><h3>Hmm, and figure out how to read input and represent data...\n",
    "  </h3>\n",
    "  </ul>\n",
    "</ul>\n",
    "\n",
    "</ul>\n",
    "<h1 align=\"center\"><em>So we can all go home now!</em>\n",
    "</h1>\n",
    "</div>"
   ]
  },
  {
   "cell_type": "markdown",
   "metadata": {},
   "source": [
    "<div style=\"height:350px;padding:10px;background:#eeeeee;\">\n",
    "<h1 align=\"center\">Running Python code\n",
    "</h1>\n",
    "<ul>\n",
    "<li><h2>There are many ways to edit and run Python code\n",
    "</h2>\n",
    "<ul>\n",
    "  <li><h3>(Will take a quick look at some alternatives later)\n",
    "  </h3>\n",
    "  </ul>\n",
    "<li><h2>This document is a <em>Jupyter (aka IPython) notebook</em> in which we can directly edit and execute Python code\n",
    "</h2>\n",
    "\n",
    "</ul>\n",
    "</div>"
   ]
  },
  {
   "cell_type": "markdown",
   "metadata": {},
   "source": [
    "<div style=\"height:400px;padding:10px;background:#eeeeee;\">\n",
    "<h1 align=\"center\">Options for following along\n",
    "</h1>\n",
    "<ul>\n",
    "<li><h3>Go to <a href=\"https://github.com/smkautz/mbds\">https://github.com/smkautz/mbds</a> and download the file <code>mbds.ipynb</code>\n",
    "</h3>\n",
    "<li><h3>If you have installed Anaconda</h3>\n",
    "  <ol><li>\n",
    "  <h4>start the notebook server locally (start the Anaconda navigator application, or run <code>jupyter notebook</code> at command prompt)</h4>\n",
    "  <li><h4>open http://localhost:8888 (you may need to enter a \"token\")\n",
    "  <li><h4>navigate to the downloaded file</h4>\n",
    "  </ol>\n",
    "<li><h3>If you haven't installed Anaconda, you can go to <a href=\"https://try.jupyter.org/\">https://try.jupyter.org/</a>\n",
    "and use the \"upload\" button\n",
    "</h3>\n",
    "  <ul><li>\n",
    "  <h4>this sets up a temporary server - when the connection fails, you'll need to upload the notebook again</h4>\n",
    "  </ul>\n",
    "\n",
    "\n",
    "<li><h3>Or, you can view it statically using the <a href=\"https://nbviewer.jupyter.org/\">nbviewer</a> \n",
    "</h3>\n",
    "\n",
    "</ul>\n",
    "</div>"
   ]
  },
  {
   "cell_type": "markdown",
   "metadata": {},
   "source": [
    "### *Example: a simple Python program (Click in the cell and then shift-enter to run)*"
   ]
  },
  {
   "cell_type": "code",
   "execution_count": 1,
   "metadata": {},
   "outputs": [
    {
     "name": "stdout",
     "output_type": "stream",
     "text": [
      "Hello, World!\n",
      "5\n"
     ]
    }
   ],
   "source": [
    "# Our first Python program\n",
    "print(\"Hello, World!\")\n",
    "print(2 + 3)"
   ]
  },
  {
   "cell_type": "code",
   "execution_count": 2,
   "metadata": {},
   "outputs": [
    {
     "name": "stdout",
     "output_type": "stream",
     "text": [
      "Steve said, \"Hello, World!\"\n"
     ]
    }
   ],
   "source": [
    "# String literals may be single-quoted too\n",
    "print('Steve said, \"Hello, World!\"')"
   ]
  },
  {
   "cell_type": "markdown",
   "metadata": {},
   "source": [
    "<div style=\"height:350px;padding:10px;background:#eeeeee;\">\n",
    "<h1 align=\"center\">Things to notice about the notebook\n",
    "</h1>\n",
    "<ul>\n",
    "<li><h2>Click in a cell, Shift-Enter to \"execute\"\n",
    "</h2>\n",
    "<ul>\n",
    "  <li><h3>Double-click to edit markdown, green bar means \"edit mode\"\n",
    "  </h3>\n",
    "  </ul>\n",
    "<li><h2>Toolbar: \"+\" to add a cell, scissors to delete, arrows to move\n",
    "</h2>\n",
    "<li><h2>Dropdown to select Code or \"Markdown\"\n",
    "</h2>\n",
    "<li><h2>File menu -  options to rename, save, or \"download\" (save as)\n",
    "</h2>\n",
    "<li><h2>Kernel menu - options to clear, re-run all cells\n",
    "</h2>\n",
    "<li><h2>Cells may refer to variables/functions defined in previous cells (which may need to be re-run)\n",
    "</h2>\n",
    "</ul>\n",
    "</div>"
   ]
  },
  {
   "cell_type": "markdown",
   "metadata": {},
   "source": [
    "<div style=\"height:350px;padding:10px;background:#eeeeee;\">\n",
    "<h1 align=\"center\">Other ways to run Python code\n",
    "</h1>\n",
    "<ul>\n",
    "<li><h2>Type statements into the traditional Python shell\n",
    "</h2>\n",
    "<li><h2>Save as a text file, invoke Python interpreter at command prompt\n",
    "</h2>\n",
    "<li><h2>Use an IDE (\"Integrated Development Environment\") e.g. Wing 101\n",
    "</h2>\n",
    "<li><h2>Use an ActiveCode window in an interactive book such as \n",
    "<a href=\"http://interactivepython.org/runestone/static/thinkcspy/index.html\">How to Think Like a Computer Scientist</a>\n",
    "</h2>\n",
    "<li><h2>Philip Guo's <a href=\"http://pythontutor.com/\">Python Tutor</a>\n",
    "</h2>\n",
    "</ul>\n",
    "</div>"
   ]
  },
  {
   "cell_type": "markdown",
   "metadata": {},
   "source": [
    "### *Example - another Python program*"
   ]
  },
  {
   "cell_type": "code",
   "execution_count": 3,
   "metadata": {},
   "outputs": [
    {
     "name": "stdout",
     "output_type": "stream",
     "text": [
      "34.5\n"
     ]
    }
   ],
   "source": [
    "# Our second Python program\n",
    "miles = 345\n",
    "gallons = 10\n",
    "print(miles / gallons)"
   ]
  },
  {
   "cell_type": "markdown",
   "metadata": {},
   "source": [
    "### (Note that the last 'print' is redundant in Jupyter, which automatically displays the value of the last expression in a cell) "
   ]
  },
  {
   "cell_type": "markdown",
   "metadata": {},
   "source": [
    "<div style=\"height:350px;padding:10px;background:#eeeeee;\">\n",
    "<h1 align=\"center\">A few things to notice\n",
    "</h1>\n",
    "<ul>\n",
    "<li><h2>We use the operator <code>=</code> to assign values to <em>variables</em>\n",
    "</h2>\n",
    "<li><h2>Values have types (though the type of a variable is dynamic)\n",
    "</h2>\n",
    "<li><h2>Use the built-in <code>type()</code> function to examine the type of an expression\n",
    "</h2>\n",
    "</ul>\n",
    "</div>"
   ]
  },
  {
   "cell_type": "code",
   "execution_count": 4,
   "metadata": {},
   "outputs": [
    {
     "data": {
      "text/plain": [
       "int"
      ]
     },
     "execution_count": 4,
     "metadata": {},
     "output_type": "execute_result"
    }
   ],
   "source": [
    "type(345)"
   ]
  },
  {
   "cell_type": "code",
   "execution_count": 5,
   "metadata": {},
   "outputs": [
    {
     "data": {
      "text/plain": [
       "float"
      ]
     },
     "execution_count": 5,
     "metadata": {},
     "output_type": "execute_result"
    }
   ],
   "source": [
    "type(miles / gallons)"
   ]
  },
  {
   "cell_type": "code",
   "execution_count": 6,
   "metadata": {},
   "outputs": [
    {
     "data": {
      "text/plain": [
       "str"
      ]
     },
     "execution_count": 6,
     "metadata": {},
     "output_type": "execute_result"
    }
   ],
   "source": [
    "type(\"Hello, World!\")"
   ]
  },
  {
   "cell_type": "code",
   "execution_count": 7,
   "metadata": {},
   "outputs": [
    {
     "name": "stdout",
     "output_type": "stream",
     "text": [
      "False\n"
     ]
    },
    {
     "data": {
      "text/plain": [
       "bool"
      ]
     },
     "execution_count": 7,
     "metadata": {},
     "output_type": "execute_result"
    }
   ],
   "source": [
    "print(miles > 500)\n",
    "type(miles > 500)"
   ]
  },
  {
   "cell_type": "markdown",
   "metadata": {},
   "source": [
    "<div style=\"height:350px;padding:10px;background:#eeeeee;\">\n",
    "<h1 align=\"center\">A few things to notice\n",
    "</h1>\n",
    "<ul>\n",
    "<li><h2>The operator <code>/</code> performs floating-point division in Python 3\n",
    "</h2>\n",
    "<ul>\n",
    "  <li><h3>Use <code>//</code> for integer division, <code>%</code> for remainder (modulus)\n",
    "  </h3>\n",
    "  </ul>\n",
    "<li><h2>Python 2 vs Python 3 - many subtle differences, two obvious ones\n",
    "</h2>\n",
    "<ul>\n",
    "  <li><h3><code>25 / 10</code> is 2, not 2.5\n",
    "  </h3>\n",
    "  <li><h3><code>print</code> is invoked without parens\n",
    "  </h3>\n",
    "  </ul>\n",
    "<li><h2>The operator <code>=</code> does not mean \"equals\", it's an assignment of a new value\n",
    "</h2>\n",
    "<ul>\n",
    "  <li><h3>To check equality, use <code>==</code> or <code>!=</code>\n",
    "  </h3>\n",
    "  </ul>\n",
    "</ul>\n",
    "</div>"
   ]
  },
  {
   "cell_type": "markdown",
   "metadata": {},
   "source": [
    "### *A few more things to notice*"
   ]
  },
  {
   "cell_type": "code",
   "execution_count": 8,
   "metadata": {},
   "outputs": [
    {
     "name": "stdout",
     "output_type": "stream",
     "text": [
      "2.5\n",
      "2\n",
      "5\n"
     ]
    }
   ],
   "source": [
    "# In Python 3, the / operator always performs floating-point division\n",
    "# Use // for integer division\n",
    "print(25 / 10)\n",
    "print(25 // 10)\n",
    "print(25 % 10)"
   ]
  },
  {
   "cell_type": "code",
   "execution_count": 9,
   "metadata": {},
   "outputs": [
    {
     "name": "stdout",
     "output_type": "stream",
     "text": [
      "42\n",
      "False\n",
      "42\n",
      "137\n"
     ]
    }
   ],
   "source": [
    "# REMEMBER: the = operator does not mean \"equals\", it assigns a new value\n",
    "# Use == or != to check equality\n",
    "x = 42\n",
    "print(x)\n",
    "print(x == 137)\n",
    "print(x)\n",
    "x = 137\n",
    "print(x)\n"
   ]
  },
  {
   "cell_type": "code",
   "execution_count": 10,
   "metadata": {},
   "outputs": [
    {
     "name": "stdout",
     "output_type": "stream",
     "text": [
      "HelloWorld\n",
      "Your mileage is 34.5\n",
      "34.5\n"
     ]
    }
   ],
   "source": [
    "# The + operator can be used to concatenate strings\n",
    "s = \"Hello\" + \"World\"\n",
    "print(s)\n",
    "\n",
    "# Need to convert number to string in order to concatenate\n",
    "print(\"Your mileage is \" + str(miles / gallons))\n",
    "\n",
    "# Another common conversion is to parse a text string as a number\n",
    "# using the int() or float() functions\n",
    "s = \"345\"\n",
    "print(int(s) / gallons)\n",
    "\n",
    "# error!\n",
    "# print(s / gallons)"
   ]
  },
  {
   "cell_type": "markdown",
   "metadata": {},
   "source": [
    "<div style=\"height:350px;padding:10px;background:#eeeeee;\">\n",
    "<h1 align=\"center\">Remember this?  Finding the max in a list\n",
    "</h1>\n",
    "&nbsp;\n",
    "<pre style=\"font-size:120%\">\n",
    "    write down the first number\n",
    "    for each number in the list\n",
    "        if it’s bigger than the one we have,\n",
    "             write that one down instead\n",
    "    return the last number we wrote down\n",
    "</pre>\n",
    "\n",
    "</div>"
   ]
  },
  {
   "cell_type": "markdown",
   "metadata": {},
   "source": [
    "### *Finding the max - our first version as a Python program*"
   ]
  },
  {
   "cell_type": "code",
   "execution_count": 11,
   "metadata": {},
   "outputs": [
    {
     "name": "stdout",
     "output_type": "stream",
     "text": [
      "86\n"
     ]
    }
   ],
   "source": [
    "# Create a list of literal values to try it out\n",
    "my_list = [43, 17, 67, 32, 86, 79, 18]\n",
    "\n",
    "# Save the first (\"zeroth\") element of the list\n",
    "the_max = my_list[0]\n",
    "\n",
    "# Iterate over elements...\n",
    "for num in my_list:\n",
    "    # ...if we find a bigger one, update 'the_max'\n",
    "    if num > the_max:\n",
    "        the_max = num\n",
    "        \n",
    "# Examine the result\n",
    "print(the_max)"
   ]
  },
  {
   "cell_type": "markdown",
   "metadata": {},
   "source": [
    "<div style=\"height:350px;padding:10px;background:#eeeeee;\">\n",
    "<h1 align=\"center\">Visualization with pythontutor.com\n",
    "</h1>\n",
    "\n",
    "<ul>\n",
    "<li>\n",
    "<h3>\n",
    "<a href=\"http://www.pythontutor.com/visualize.html#code=%23%20Create%20a%20list%20of%20literal%20values%20to%20try%20it%20out%0Amy_list%20%3D%20%5B43,%2017,%2067,%2032,%2086,%2079,%2018%5D%0A%0A%23%20Save%20the%20first%20%28%22zeroth%22%29%20element%20of%20the%20list%0Athe_max%20%3D%20my_list%5B0%5D%0A%0A%23%20Iterate%20over%20elements...%0Afor%20num%20in%20my_list%3A%0A%20%20%20%20%23%20...if%20we%20find%20a%20bigger%20one,%20update%20'the_max'%0A%20%20%20%20if%20num%20%3E%20the_max%3A%0A%20%20%20%20%20%20%20%20the_max%20%3D%20num%0A%20%20%20%20%20%20%20%20%0A%23%20Examine%20the%20result%0Aprint%28the_max%29&cumulative=false&curInstr=0&heapPrimitives=false&mode=display&origin=opt-frontend.js&py=3&rawInputLstJSON=%5B%5D&textReferences=false\">Try it with this link</a>\n",
    "</h3>\n",
    "<li><h3>Nice for learning and experimentation\n",
    "</h3>\n",
    "<li><h3>Works for small, self-contained programs\n",
    "</h3>\n",
    "</ul>\n",
    "</div>"
   ]
  },
  {
   "cell_type": "markdown",
   "metadata": {},
   "source": [
    "<div style=\"height:350px;padding:10px;background:#eeeeee;\">\n",
    "<h1 align=\"center\">Things to notice\n",
    "</h1>\n",
    "<ul>\n",
    "<li><h2>Illustrates basic <em>control structures</em> \n",
    "</h2>\n",
    "  <ul>\n",
    "      <li><h3>iteration (for, while), conditionals (if, if/else, if/elif/elif/.../else)\n",
    "  </h3>\n",
    "  </h3>\n",
    "  </ul>\n",
    "<li><h2>Python uses <em>indentation</em> (whitespace) to show program structure\n",
    "</h2>\n",
    "\n",
    "</div>"
   ]
  },
  {
   "cell_type": "markdown",
   "metadata": {},
   "source": [
    "<div style=\"height:350px;padding:10px;background:#eeeeee;\">\n",
    "<h1 align=\"center\">More things to think about\n",
    "</h1>\n",
    "<ul>\n",
    "<li><h2>What's a list, anyway?  What's up with that `my_list[0]` notation?\n",
    "</h2>\n",
    "  <ul>\n",
    "  <li><h3>A list is just a sequence of values, indexed starting at 0 (More later!)\n",
    "  </h3>\n",
    "\n",
    "  </ul>\n",
    "<li><h2>Do I really have to type all the numbers into my program like that?\n",
    "</h2>\n",
    "  <ul>\n",
    "  <li><h3>Definitely not! We usually read data from files.\n",
    "  </h3>\n",
    "  </ul>\n",
    "<li><h2>How can we re-use this code for a different list?\n",
    "</h2>\n",
    "  <ul>\n",
    "  <li><h3>We need to define a <em>function</em>\n",
    "  </h3>\n",
    "  </ul>\n",
    "</ul>\n",
    "\n",
    "</div>"
   ]
  },
  {
   "cell_type": "markdown",
   "metadata": {},
   "source": [
    "### *Example: Defining a function to find the max*"
   ]
  },
  {
   "cell_type": "code",
   "execution_count": 12,
   "metadata": {
    "collapsed": true
   },
   "outputs": [],
   "source": [
    "def find_max(lst):\n",
    "    the_max = lst[0]\n",
    "    for num in lst:\n",
    "        if num > the_max:\n",
    "            the_max = num\n",
    "    return the_max\n",
    "\n"
   ]
  },
  {
   "cell_type": "code",
   "execution_count": 13,
   "metadata": {},
   "outputs": [
    {
     "name": "stdout",
     "output_type": "stream",
     "text": [
      "86\n",
      "5\n"
     ]
    }
   ],
   "source": [
    "# Now, we can call the function, and it returns the value we want\n",
    "m = find_max(my_list)\n",
    "print(m)\n",
    "print(find_max([3, 5, 4]))"
   ]
  },
  {
   "cell_type": "markdown",
   "metadata": {},
   "source": [
    "<div style=\"height:350px;padding:10px;background:#eeeeee;\">\n",
    "<h1 align=\"center\">Reinventing the wheel\n",
    "</h1>\n",
    "<ul>\n",
    "<li><h2>That was great, but...\n",
    "</h2>\n",
    "<li><h2>Python already has a built-in function to find the max in a list!\n",
    "</h2>\n",
    "<li><h2>Many of the operations you need for data analysis have already been written\n",
    "</h2>\n",
    "<li><h2>We just have to learn how to find and use them\n",
    "</h2>\n",
    "</ul>\n",
    "</div>"
   ]
  },
  {
   "cell_type": "code",
   "execution_count": 14,
   "metadata": {},
   "outputs": [
    {
     "data": {
      "text/plain": [
       "86"
      ]
     },
     "execution_count": 14,
     "metadata": {},
     "output_type": "execute_result"
    }
   ],
   "source": [
    "# Python's built in max() function\n",
    "max(my_list)"
   ]
  },
  {
   "cell_type": "markdown",
   "metadata": {
    "collapsed": true
   },
   "source": [
    "<div style=\"height:350px;padding:10px;background:#eeeeee;\">\n",
    "<h1 align=\"center\">Modules\n",
    "</h1>\n",
    "<ul>\n",
    "<li><h2>There are relatively few built-in functions like <code>print</code> and <code>type</code>\n",
    "</h2>\n",
    "<li><h2>A <em>module</em> is just a file with function definitions\n",
    "</h2>\n",
    "<ul>\n",
    "  <li><h3>May also define <em>data types</em> (\"classes\")\n",
    "  </h3>\n",
    "  <li><h3>Typically not executable as a program by itself\n",
    "  </h3>\n",
    "  </ul>\n",
    "<li><h2>A Python installation includes many modules as part of its \n",
    "<a href=\"https://docs.python.org/3/library/index.html\">standard library</a>\n",
    "</h2>\n",
    "<ul>\n",
    "  <li><h3>You'll use many more that are \"user-defined\", e.g pandas, numpy, pyspark\n",
    "  </h3>\n",
    "  <li><h3>You can also define your own to make your code reusable\n",
    "  </h3>\n",
    "  </ul>\n",
    "</ul>\n",
    "</div>"
   ]
  },
  {
   "cell_type": "markdown",
   "metadata": {},
   "source": [
    "### Example: importing a module"
   ]
  },
  {
   "cell_type": "code",
   "execution_count": 15,
   "metadata": {},
   "outputs": [
    {
     "data": {
      "text/plain": [
       "0.5000000000000001"
      ]
     },
     "execution_count": 15,
     "metadata": {},
     "output_type": "execute_result"
    }
   ],
   "source": [
    "# Importing the module math.py\n",
    "import math\n",
    "\n",
    "# Using the \"qualified name\" for the cosine function (and pi constant)\n",
    "math.cos(math.pi / 3)"
   ]
  },
  {
   "cell_type": "code",
   "execution_count": 16,
   "metadata": {},
   "outputs": [
    {
     "data": {
      "text/plain": [
       "0.5000000000000001"
      ]
     },
     "execution_count": 16,
     "metadata": {},
     "output_type": "execute_result"
    }
   ],
   "source": [
    "# Importing a module, but giving it a different name\n",
    "import math as foo\n",
    "foo.cos(foo.pi / 3)"
   ]
  },
  {
   "cell_type": "code",
   "execution_count": 17,
   "metadata": {},
   "outputs": [
    {
     "data": {
      "text/plain": [
       "0.5000000000000001"
      ]
     },
     "execution_count": 17,
     "metadata": {},
     "output_type": "execute_result"
    }
   ],
   "source": [
    "# Importing just specific names from a module - generally not recommended\n",
    "from math import cos, pi\n",
    "cos(pi / 3)"
   ]
  },
  {
   "cell_type": "markdown",
   "metadata": {},
   "source": [
    "<div style=\"height:350px;padding:10px;background:#eeeeee;\">\n",
    "<h1 align=\"center\">Getting module documentation\n",
    "</h1>\n",
    "<ul>\n",
    "<li><h2>Standard library reference\n",
    "</h2>\n",
    "<a href=\"https://docs.python.org/3/library/index.html\">https://docs.python.org/3/library/index.html</a>\n",
    "<li><h2>Instant help on imported modules\n",
    "</h2>\n",
    "<ul>\n",
    "  <li><h3>just type, e.g., <code>help(math.cos)</code> or <code>help(math)</code>\n",
    "  </h3>\n",
    "  </ul>\n",
    "<ul>\n",
    "<li><h2>Note \"optional arguments\" and \"keyword arguments\" in function documentation...\n",
    "</h2>\n",
    "</ul>\n",
    "</div>"
   ]
  },
  {
   "cell_type": "code",
   "execution_count": 18,
   "metadata": {
    "scrolled": true
   },
   "outputs": [
    {
     "name": "stdout",
     "output_type": "stream",
     "text": [
      "Help on built-in function log in module math:\n",
      "\n",
      "log(...)\n",
      "    log(x[, base])\n",
      "    \n",
      "    Return the logarithm of x to the given base.\n",
      "    If the base not specified, returns the natural logarithm (base e) of x.\n",
      "\n"
     ]
    }
   ],
   "source": [
    "help(math.log)"
   ]
  },
  {
   "cell_type": "code",
   "execution_count": 19,
   "metadata": {},
   "outputs": [
    {
     "name": "stdout",
     "output_type": "stream",
     "text": [
      "Help on built-in function print in module builtins:\n",
      "\n",
      "print(...)\n",
      "    print(value, ..., sep=' ', end='\\n', file=sys.stdout, flush=False)\n",
      "    \n",
      "    Prints the values to a stream, or to sys.stdout by default.\n",
      "    Optional keyword arguments:\n",
      "    file:  a file-like object (stream); defaults to the current sys.stdout.\n",
      "    sep:   string inserted between values, default a space.\n",
      "    end:   string appended after the last value, default a newline.\n",
      "    flush: whether to forcibly flush the stream.\n",
      "\n"
     ]
    }
   ],
   "source": [
    "help(print)"
   ]
  },
  {
   "cell_type": "markdown",
   "metadata": {},
   "source": [
    "<div style=\"height:400px;padding:10px;background:#eeeeee;\">\n",
    "<h1 align=\"center\">How does the interpreter find modules?\n",
    "</h1>\n",
    "<ul>\n",
    "<li><h2>Looks in the current working directory\n",
    "</h2>\n",
    "<li><h2>Looks in <code>sys.path</code>\n",
    "</h2>\n",
    "<ul>\n",
    "  <li><h3>Normally includes a directory called site-packages for user-installed packages\n",
    "  </h3>\n",
    "  </ul>\n",
    "<li><h2>Choices for using a new (non-standard) module\n",
    "</h2>\n",
    "<ul>\n",
    "  <li><h3>Put it in current directory\n",
    "  </h3>\n",
    "  <li><h3>Put it in site-packages directory\n",
    "  </h3>\n",
    "  <li><h3>Append its location to <code>sys.path</code>\n",
    "  </h3>\n",
    "    </ul>\n",
    "    \n",
    "</ul>\n",
    "  <pre>\n",
    "import sys\n",
    "sys.path.append(\"/path/to/some/directory\")\n",
    "  </pre>\n",
    "\n",
    "</div>"
   ]
  },
  {
   "cell_type": "markdown",
   "metadata": {},
   "source": [
    "<div style=\"height:350px;padding:10px;background:#eeeeee;\">\n",
    "<h1 align=\"center\">Next: objects and methods\n",
    "</h1>\n",
    "<ul>\n",
    "<li><h2>We have seen some simple types such as, <code>int</code>,  <code>float</code>,  <code>bool</code>, and functions like <code>math.sqrt</code> that operate on them\n",
    "</h2>\n",
    "<li><h2>A list is something different, an example of an <em>object</em>\n",
    "</h2>\n",
    "<ul>\n",
    "  <li><h3>Part of its definition is a collection of functions, called <em>methods</em>, that operate on the list <em>itself</em>\n",
    "  </h3>\n",
    "    <li><h3>Methods are invoked using a \"dot\" notation (looks similar to qualifying with a module name)\n",
    "  </h3>\n",
    "  </ul>\n",
    "</ul>\n",
    "</div>"
   ]
  },
  {
   "cell_type": "markdown",
   "metadata": {},
   "source": [
    "### *Examples of list methods*"
   ]
  },
  {
   "cell_type": "code",
   "execution_count": 20,
   "metadata": {},
   "outputs": [
    {
     "data": {
      "text/plain": [
       "list"
      ]
     },
     "execution_count": 20,
     "metadata": {},
     "output_type": "execute_result"
    }
   ],
   "source": [
    "# What is the type of a list?\n",
    "my_list = [43, 17, 67, 32, 86, 79, 18]\n",
    "type(my_list)"
   ]
  },
  {
   "cell_type": "code",
   "execution_count": 21,
   "metadata": {},
   "outputs": [
    {
     "data": {
      "text/plain": [
       "[43, 17, 67, 32, 86, 79, 18, 137]"
      ]
     },
     "execution_count": 21,
     "metadata": {},
     "output_type": "execute_result"
    }
   ],
   "source": [
    "# Use a method to append a new element to this list\n",
    "my_list.append(137)\n",
    "my_list"
   ]
  },
  {
   "cell_type": "code",
   "execution_count": 22,
   "metadata": {},
   "outputs": [
    {
     "data": {
      "text/plain": [
       "[17, 18, 32, 43, 67, 79, 86, 137]"
      ]
     },
     "execution_count": 22,
     "metadata": {},
     "output_type": "execute_result"
    }
   ],
   "source": [
    "# Another useful method that modifies the list\n",
    "my_list.sort()\n",
    "my_list"
   ]
  },
  {
   "cell_type": "code",
   "execution_count": 23,
   "metadata": {},
   "outputs": [
    {
     "data": {
      "text/plain": [
       "8"
      ]
     },
     "execution_count": 23,
     "metadata": {},
     "output_type": "execute_result"
    }
   ],
   "source": [
    "# By contrast, getting the length is a call to a built-in function\n",
    "len(my_list)"
   ]
  },
  {
   "cell_type": "markdown",
   "metadata": {},
   "source": [
    "### *Some indexing/slicing examples, while we're at it*"
   ]
  },
  {
   "cell_type": "code",
   "execution_count": 24,
   "metadata": {},
   "outputs": [
    {
     "name": "stdout",
     "output_type": "stream",
     "text": [
      "17\n",
      "137\n",
      "137\n",
      "86\n"
     ]
    }
   ],
   "source": [
    "\n",
    "# Individual elements can be accessed by index\n",
    "print(my_list[0])\n",
    "print(my_list[7])\n",
    "\n",
    "# Negative values count from the end!\n",
    "print(my_list[-1])\n",
    "print(my_list[-2])\n",
    "\n",
    "# Out of range index is an error\n",
    "#print(my_list[8])"
   ]
  },
  {
   "cell_type": "code",
   "execution_count": 25,
   "metadata": {},
   "outputs": [
    {
     "data": {
      "text/plain": [
       "[32, 43, 67]"
      ]
     },
     "execution_count": 25,
     "metadata": {},
     "output_type": "execute_result"
    }
   ],
   "source": [
    "# Can use a range of indices to get a \"slice\"\n",
    "# This gives us elements at indices 2, 3, and 4 (upper bound not included)\n",
    "my_list[2:5]"
   ]
  },
  {
   "cell_type": "code",
   "execution_count": 26,
   "metadata": {},
   "outputs": [
    {
     "data": {
      "text/plain": [
       "[43, 67, 79, 86, 137]"
      ]
     },
     "execution_count": 26,
     "metadata": {},
     "output_type": "execute_result"
    }
   ],
   "source": [
    "# This is everything from index 3 up to the end\n",
    "my_list[3:]"
   ]
  },
  {
   "cell_type": "markdown",
   "metadata": {},
   "source": [
    "<div style=\"height:350px;padding:10px;background:#eeeeee;\">\n",
    "<h1 align=\"center\">Strings are objects too\n",
    "</h1>\n",
    "<ul>\n",
    "<li><h2>A string is indexed like a list of characters, but it is <em>immutable</em>\n",
    "</h2>\n",
    "<li><h2>Has methods specific to text such as `upper()`, `lower()`, `strip()`\n",
    "</h2>\n",
    "<li><h2>One very useful method is `split()` (returns a list of strings)\n",
    "</h2>\n",
    "</ul>\n",
    "</div>"
   ]
  },
  {
   "cell_type": "markdown",
   "metadata": {},
   "source": [
    "### *Example: strings are immutable*"
   ]
  },
  {
   "cell_type": "code",
   "execution_count": 27,
   "metadata": {},
   "outputs": [
    {
     "name": "stdout",
     "output_type": "stream",
     "text": [
      "STEVE\n",
      "Steve\n"
     ]
    }
   ],
   "source": [
    "s = \"Steve\"\n",
    "t = s.upper()\n",
    "print(t)\n",
    "\n",
    "# Note s is unchanged\n",
    "print(s)  "
   ]
  },
  {
   "cell_type": "markdown",
   "metadata": {},
   "source": [
    "### *Example: using the `split()` method*"
   ]
  },
  {
   "cell_type": "code",
   "execution_count": 28,
   "metadata": {},
   "outputs": [
    {
     "data": {
      "text/plain": [
       "'294-4183'"
      ]
     },
     "execution_count": 28,
     "metadata": {},
     "output_type": "execute_result"
    }
   ],
   "source": [
    "# A string of comma-separated tokens\n",
    "s = \"Kautz, Steve, Senior Lecturer, Atanasoff, 101, 294, 4183\"\n",
    "\n",
    "# Grab the last two items and concatenate them together\n",
    "values = s.split(\",\")\n",
    "phone = values[-2].strip() + \"-\" + values[-1].strip()\n",
    "phone"
   ]
  },
  {
   "cell_type": "markdown",
   "metadata": {},
   "source": [
    "<div style=\"height:350px;padding:10px;background:#eeeeee;\">\n",
    "<h1 align=\"center\">Dictionaries and sets\n",
    "</h1>\n",
    "<ul>\n",
    "<li><h2>A list is sequential: it associates integer indices with values\n",
    "</h2>\n",
    "<li><h2>A <em>dictionary</em> associates arbitrary keys to values\n",
    "</h2>\n",
    "<ul>\n",
    "  <li><h3>A <em>set</em> is just a dictionary in which keys have no associated value (all you care about is whether or not the key is present)\n",
    "  </h3>\n",
    "\n",
    "  </ul>\n",
    "<li><h2>Looking up an item in a set or dictionary is generally much faster than searching for it in a list\n",
    "</h2>\n",
    "</ul>\n",
    "</div>"
   ]
  },
  {
   "cell_type": "markdown",
   "metadata": {},
   "source": [
    "### *Example: a dictionary*"
   ]
  },
  {
   "cell_type": "code",
   "execution_count": 29,
   "metadata": {},
   "outputs": [
    {
     "name": "stdout",
     "output_type": "stream",
     "text": [
      "{'Steve': 4183, 'Hridesh': 1234}\n",
      "\n",
      "4183\n",
      "\n",
      "True\n",
      "False\n",
      "\n",
      "Steve:4183\n",
      "Hridesh:1234\n"
     ]
    }
   ],
   "source": [
    "# Creates an empty dictionary\n",
    "d = {}\n",
    "\n",
    "# Add some key/value pairs (keys don't have to be strings)\n",
    "d[\"Steve\"] = 4183\n",
    "d[\"Hridesh\"] = 1234\n",
    "\n",
    "# Literal notation for dictionary\n",
    "print(d)\n",
    "print()\n",
    "\n",
    "# Looking up values\n",
    "print(d[\"Steve\"])\n",
    "print()\n",
    "\n",
    "# Check membership of some keys\n",
    "print(\"Steve\" in d)\n",
    "print(\"James\" in d)\n",
    "print()\n",
    "\n",
    "# Iterate over keys (order is arbitrary)\n",
    "for key in d:\n",
    "    print(key + \":\" + str(d[key]))\n",
    "\n"
   ]
  },
  {
   "cell_type": "markdown",
   "metadata": {
    "collapsed": true
   },
   "source": [
    "<div style=\"height:350px;padding:10px;background:#eeeeee;\">\n",
    "<h1 align=\"center\">Reading text files</h1>\n",
    "<pre>\n",
    "f = open(\"path/to/file\")\n",
    "for line in f:\n",
    "    # do something with the line\n",
    "f.close()\n",
    "</pre>\n",
    "\n",
    "<pre>\n",
    "f = open(\"path/to/file\")\n",
    "lines = f.readlines()\n",
    "    for line in lines:\n",
    "        # do something with the line\n",
    "f.close()\n",
    "</pre>\n",
    "<ul><li><h3>The latter is more flexible; e.g., can ignore every other line or skip the first line\n",
    "</h3>\n",
    "</ul>\n",
    "<pre>\n",
    "    # skips the first line\n",
    "    for line in lines[1:]:\n",
    "</pre>\n",
    "</div>"
   ]
  },
  {
   "cell_type": "markdown",
   "metadata": {},
   "source": [
    "<h3><em>File-reading example - for this to work, the tips.csv file needs to be in the <strong>current directory</strong> for the notebook (check using `pwd`)</em>.\n",
    "<h4>Remember the file came from <br>\n",
    "<a href=\"https://github.com/heike/summerschool-2017/tree/master/01-Introduction-to-R/data\">\n",
    "https://github.com/heike/summerschool-2017/tree/master/01-Introduction-to-R/data</a></h4>"
   ]
  },
  {
   "cell_type": "code",
   "execution_count": 57,
   "metadata": {},
   "outputs": [
    {
     "name": "stdout",
     "output_type": "stream",
     "text": [
      "\"total_bill\",\"tip\",\"sex\",\"smoker\",\"day\",\"time\",\"size\"\n",
      "16.99,1.01,\"Female\",\"No\",\"Sun\",\"Dinner\",2\n",
      "10.34,1.66,\"Male\",\"No\",\"Sun\",\"Dinner\",3\n",
      "21.01,3.5,\"Male\",\"No\",\"Sun\",\"Dinner\",3\n",
      "23.68,3.31,\"Male\",\"No\",\"Sun\",\"Dinner\",2\n"
     ]
    }
   ],
   "source": [
    "# Open the tips.csv file and just print the first 5 lines\n",
    "f = open(\"tips.csv\")\n",
    "lines = f.readlines()\n",
    "for line in lines[:5]:\n",
    "    print(line, end=\"\")\n",
    "f.close()"
   ]
  },
  {
   "cell_type": "markdown",
   "metadata": {},
   "source": [
    "<div style=\"height:350px;padding:10px;background:#eeeeee;\">\n",
    "<h1 align=\"center\">What if the file isn't in the current directory?\n",
    "</h1>\n",
    "<ul>\n",
    "<li><h2>Change the working directory?\n",
    "</h2>\n",
    "<ul>\n",
    "  <li><h3>Jupyter allows <code>pwd</code>, <code>cd</code>\n",
    "  </h3>\n",
    "  </ul>\n",
    "<li><h2>Provide an absolute or relative path to the file?\n",
    "</h2>\n",
    "\n",
    "</ul>\n",
    "<h2>(<code>open()</code> can also fail because of file permissions, network connections, ...)\n",
    "</h2>\n",
    "</div>"
   ]
  },
  {
   "cell_type": "markdown",
   "metadata": {},
   "source": [
    "### *More file-reading examples*"
   ]
  },
  {
   "cell_type": "code",
   "execution_count": 56,
   "metadata": {},
   "outputs": [
    {
     "data": {
      "text/plain": [
       "0.16649073632892475"
      ]
     },
     "execution_count": 56,
     "metadata": {},
     "output_type": "execute_result"
    }
   ],
   "source": [
    "# Find the average tip rate for women\n",
    "f = open(\"tips.csv\")\n",
    "lines = f.readlines()\n",
    "total = 0.0\n",
    "count = 0\n",
    "\n",
    "for line in lines[1:]:\n",
    "    tokens = line.split(',')\n",
    "    sex = tokens[2]\n",
    "    sex = sex[1:-1]    # strip off the quotation marks\n",
    "    if sex == \"Female\":\n",
    "        bill = float(tokens[0])  # convert text to number\n",
    "        tip = float(tokens[1])\n",
    "        rate = tip / bill\n",
    "        total += rate   # abbreviates total = total + rate\n",
    "        count += 1      # abbreviates count = count + 1\n",
    "f.close()\n",
    "\n",
    "mean = total / count\n",
    "mean\n"
   ]
  },
  {
   "cell_type": "markdown",
   "metadata": {
    "collapsed": true
   },
   "source": [
    "<div style=\"height:350px;padding:10px;background:#eeeeee;\">\n",
    "<h1 align=\"center\">Using the pandas module</h1>\n",
    "</h1>\n",
    "<ul>\n",
    "<li><h2>More sophisticated data structures (Series, DataFrame)\n",
    "</h2>\n",
    "<li><h2>Wrappers for numpy and mathplotlib\n",
    "</h2>\n",
    "<li><h2>See\n",
    "</h2>\n",
    "<ul>\n",
    "  <li><h3><a href=\"http://www.oreilly.com/pub/e/2412\">Python for Data Analysis</a> - webcast by Wes McKinney\n",
    "  </h3>\n",
    "  <li><h3><a href=\"https://pandas.pydata.org/pandas-docs/stable/index.html\">Documentation</a>\n",
    "  </h3>\n",
    "  </ul>\n",
    "<li><h3><em>I know just enough about this to be really, really dangerous</em>\n",
    "</h3>\n",
    "</ul>\n",
    "</div>"
   ]
  },
  {
   "cell_type": "code",
   "execution_count": 32,
   "metadata": {
    "collapsed": true
   },
   "outputs": [],
   "source": [
    "# ipython Magic\n",
    "%matplotlib notebook\n",
    "\n",
    "import pandas as pd\n",
    "import numpy as np\n",
    "import matplotlib.pyplot as plt"
   ]
  },
  {
   "cell_type": "code",
   "execution_count": 34,
   "metadata": {},
   "outputs": [
    {
     "data": {
      "text/plain": [
       "a    2\n",
       "b    4\n",
       "c    6\n",
       "d    8\n",
       "dtype: int64"
      ]
     },
     "execution_count": 34,
     "metadata": {},
     "output_type": "execute_result"
    }
   ],
   "source": [
    "data = [2, 4, 6, 8]\n",
    "index = ['a', 'b', 'c', 'd']\n",
    "s = pd.Series(data, index)\n",
    "s\n",
    "# s * 2\n"
   ]
  },
  {
   "cell_type": "code",
   "execution_count": 35,
   "metadata": {},
   "outputs": [
    {
     "data": {
      "text/plain": [
       "5.0"
      ]
     },
     "execution_count": 35,
     "metadata": {},
     "output_type": "execute_result"
    }
   ],
   "source": [
    "s.mean()"
   ]
  },
  {
   "cell_type": "code",
   "execution_count": 36,
   "metadata": {},
   "outputs": [
    {
     "data": {
      "text/plain": [
       "a    46\n",
       "b    47\n",
       "c    48\n",
       "d    53\n",
       "dtype: int64"
      ]
     },
     "execution_count": 36,
     "metadata": {},
     "output_type": "execute_result"
    }
   ],
   "source": [
    "# Note that in combining two Series, data is aligned according to column labels!\n",
    "data2 = [42, 43, 44, 45]\n",
    "index2 = ['c', 'b', 'a', 'd']\n",
    "s2 = pd.Series(data2, index2)\n",
    "s + s2"
   ]
  },
  {
   "cell_type": "code",
   "execution_count": 40,
   "metadata": {},
   "outputs": [
    {
     "data": {
      "text/plain": [
       "pandas.core.frame.DataFrame"
      ]
     },
     "execution_count": 40,
     "metadata": {},
     "output_type": "execute_result"
    }
   ],
   "source": [
    "df = pd.read_csv('tips.csv')\n",
    "type(df)"
   ]
  },
  {
   "cell_type": "code",
   "execution_count": 41,
   "metadata": {},
   "outputs": [
    {
     "data": {
      "text/html": [
       "<div>\n",
       "<style>\n",
       "    .dataframe thead tr:only-child th {\n",
       "        text-align: right;\n",
       "    }\n",
       "\n",
       "    .dataframe thead th {\n",
       "        text-align: left;\n",
       "    }\n",
       "\n",
       "    .dataframe tbody tr th {\n",
       "        vertical-align: top;\n",
       "    }\n",
       "</style>\n",
       "<table border=\"1\" class=\"dataframe\">\n",
       "  <thead>\n",
       "    <tr style=\"text-align: right;\">\n",
       "      <th></th>\n",
       "      <th>total_bill</th>\n",
       "      <th>tip</th>\n",
       "      <th>sex</th>\n",
       "      <th>smoker</th>\n",
       "      <th>day</th>\n",
       "      <th>time</th>\n",
       "      <th>size</th>\n",
       "    </tr>\n",
       "  </thead>\n",
       "  <tbody>\n",
       "    <tr>\n",
       "      <th>0</th>\n",
       "      <td>16.99</td>\n",
       "      <td>1.01</td>\n",
       "      <td>Female</td>\n",
       "      <td>No</td>\n",
       "      <td>Sun</td>\n",
       "      <td>Dinner</td>\n",
       "      <td>2</td>\n",
       "    </tr>\n",
       "    <tr>\n",
       "      <th>1</th>\n",
       "      <td>10.34</td>\n",
       "      <td>1.66</td>\n",
       "      <td>Male</td>\n",
       "      <td>No</td>\n",
       "      <td>Sun</td>\n",
       "      <td>Dinner</td>\n",
       "      <td>3</td>\n",
       "    </tr>\n",
       "    <tr>\n",
       "      <th>2</th>\n",
       "      <td>21.01</td>\n",
       "      <td>3.50</td>\n",
       "      <td>Male</td>\n",
       "      <td>No</td>\n",
       "      <td>Sun</td>\n",
       "      <td>Dinner</td>\n",
       "      <td>3</td>\n",
       "    </tr>\n",
       "    <tr>\n",
       "      <th>3</th>\n",
       "      <td>23.68</td>\n",
       "      <td>3.31</td>\n",
       "      <td>Male</td>\n",
       "      <td>No</td>\n",
       "      <td>Sun</td>\n",
       "      <td>Dinner</td>\n",
       "      <td>2</td>\n",
       "    </tr>\n",
       "    <tr>\n",
       "      <th>4</th>\n",
       "      <td>24.59</td>\n",
       "      <td>3.61</td>\n",
       "      <td>Female</td>\n",
       "      <td>No</td>\n",
       "      <td>Sun</td>\n",
       "      <td>Dinner</td>\n",
       "      <td>4</td>\n",
       "    </tr>\n",
       "  </tbody>\n",
       "</table>\n",
       "</div>"
      ],
      "text/plain": [
       "   total_bill   tip     sex smoker  day    time  size\n",
       "0       16.99  1.01  Female     No  Sun  Dinner     2\n",
       "1       10.34  1.66    Male     No  Sun  Dinner     3\n",
       "2       21.01  3.50    Male     No  Sun  Dinner     3\n",
       "3       23.68  3.31    Male     No  Sun  Dinner     2\n",
       "4       24.59  3.61  Female     No  Sun  Dinner     4"
      ]
     },
     "execution_count": 41,
     "metadata": {},
     "output_type": "execute_result"
    }
   ],
   "source": [
    "df.head()"
   ]
  },
  {
   "cell_type": "code",
   "execution_count": 42,
   "metadata": {},
   "outputs": [
    {
     "data": {
      "text/plain": [
       "pandas.core.series.Series"
      ]
     },
     "execution_count": 42,
     "metadata": {},
     "output_type": "execute_result"
    }
   ],
   "source": [
    "# A DataFrame is like a dictionary mapping column labels to a Series\n",
    "type(df['total_bill'])"
   ]
  },
  {
   "cell_type": "code",
   "execution_count": 46,
   "metadata": {},
   "outputs": [
    {
     "data": {
      "text/plain": [
       "0    16.99\n",
       "1    10.34\n",
       "2    21.01\n",
       "3    23.68\n",
       "4    24.59\n",
       "Name: total_bill, dtype: float64"
      ]
     },
     "execution_count": 46,
     "metadata": {},
     "output_type": "execute_result"
    }
   ],
   "source": [
    "df['total_bill'].head()"
   ]
  },
  {
   "cell_type": "code",
   "execution_count": 52,
   "metadata": {
    "collapsed": true
   },
   "outputs": [],
   "source": [
    "# Add a new column\n",
    "df['rate'] = df['tip'] / df['total_bill']\n",
    "#df"
   ]
  },
  {
   "cell_type": "code",
   "execution_count": 53,
   "metadata": {
    "collapsed": true
   },
   "outputs": [],
   "source": [
    "# can delete a column too (doing it twice is an error!)\n",
    "del df['time']\n",
    "#df"
   ]
  },
  {
   "cell_type": "code",
   "execution_count": null,
   "metadata": {
    "scrolled": true
   },
   "outputs": [],
   "source": [
    "# mean of a column\n",
    "df['tip'].mean()"
   ]
  },
  {
   "cell_type": "code",
   "execution_count": 47,
   "metadata": {},
   "outputs": [
    {
     "data": {
      "text/plain": [
       "2.9982786885245902"
      ]
     },
     "execution_count": 47,
     "metadata": {},
     "output_type": "execute_result"
    }
   ],
   "source": [
    "# simpler notation\n",
    "df.tip.mean()"
   ]
  },
  {
   "cell_type": "code",
   "execution_count": 48,
   "metadata": {},
   "outputs": [
    {
     "data": {
      "text/plain": [
       "total_bill    19.785943\n",
       "tip            2.998279\n",
       "size           2.569672\n",
       "dtype: float64"
      ]
     },
     "execution_count": 48,
     "metadata": {},
     "output_type": "execute_result"
    }
   ],
   "source": [
    "# returns a series associating column labels with column mean, \n",
    "# excluding non-numeric columns\n",
    "df.mean()\n"
   ]
  },
  {
   "cell_type": "code",
   "execution_count": 49,
   "metadata": {},
   "outputs": [
    {
     "data": {
      "text/plain": [
       "0     True\n",
       "1    False\n",
       "2    False\n",
       "3    False\n",
       "4     True\n",
       "Name: sex, dtype: bool"
      ]
     },
     "execution_count": 49,
     "metadata": {},
     "output_type": "execute_result"
    }
   ],
   "source": [
    "# This is a series that is essentially a boolean vector\n",
    "s = (df['sex'] == 'Female')\n",
    "s.head()\n"
   ]
  },
  {
   "cell_type": "code",
   "execution_count": 50,
   "metadata": {},
   "outputs": [
    {
     "data": {
      "text/html": [
       "<div>\n",
       "<style>\n",
       "    .dataframe thead tr:only-child th {\n",
       "        text-align: right;\n",
       "    }\n",
       "\n",
       "    .dataframe thead th {\n",
       "        text-align: left;\n",
       "    }\n",
       "\n",
       "    .dataframe tbody tr th {\n",
       "        vertical-align: top;\n",
       "    }\n",
       "</style>\n",
       "<table border=\"1\" class=\"dataframe\">\n",
       "  <thead>\n",
       "    <tr style=\"text-align: right;\">\n",
       "      <th></th>\n",
       "      <th>total_bill</th>\n",
       "      <th>tip</th>\n",
       "      <th>sex</th>\n",
       "      <th>smoker</th>\n",
       "      <th>day</th>\n",
       "      <th>time</th>\n",
       "      <th>size</th>\n",
       "    </tr>\n",
       "  </thead>\n",
       "  <tbody>\n",
       "    <tr>\n",
       "      <th>0</th>\n",
       "      <td>16.99</td>\n",
       "      <td>1.01</td>\n",
       "      <td>Female</td>\n",
       "      <td>No</td>\n",
       "      <td>Sun</td>\n",
       "      <td>Dinner</td>\n",
       "      <td>2</td>\n",
       "    </tr>\n",
       "    <tr>\n",
       "      <th>4</th>\n",
       "      <td>24.59</td>\n",
       "      <td>3.61</td>\n",
       "      <td>Female</td>\n",
       "      <td>No</td>\n",
       "      <td>Sun</td>\n",
       "      <td>Dinner</td>\n",
       "      <td>4</td>\n",
       "    </tr>\n",
       "    <tr>\n",
       "      <th>11</th>\n",
       "      <td>35.26</td>\n",
       "      <td>5.00</td>\n",
       "      <td>Female</td>\n",
       "      <td>No</td>\n",
       "      <td>Sun</td>\n",
       "      <td>Dinner</td>\n",
       "      <td>4</td>\n",
       "    </tr>\n",
       "    <tr>\n",
       "      <th>14</th>\n",
       "      <td>14.83</td>\n",
       "      <td>3.02</td>\n",
       "      <td>Female</td>\n",
       "      <td>No</td>\n",
       "      <td>Sun</td>\n",
       "      <td>Dinner</td>\n",
       "      <td>2</td>\n",
       "    </tr>\n",
       "    <tr>\n",
       "      <th>16</th>\n",
       "      <td>10.33</td>\n",
       "      <td>1.67</td>\n",
       "      <td>Female</td>\n",
       "      <td>No</td>\n",
       "      <td>Sun</td>\n",
       "      <td>Dinner</td>\n",
       "      <td>3</td>\n",
       "    </tr>\n",
       "  </tbody>\n",
       "</table>\n",
       "</div>"
      ],
      "text/plain": [
       "    total_bill   tip     sex smoker  day    time  size\n",
       "0        16.99  1.01  Female     No  Sun  Dinner     2\n",
       "4        24.59  3.61  Female     No  Sun  Dinner     4\n",
       "11       35.26  5.00  Female     No  Sun  Dinner     4\n",
       "14       14.83  3.02  Female     No  Sun  Dinner     2\n",
       "16       10.33  1.67  Female     No  Sun  Dinner     3"
      ]
     },
     "execution_count": 50,
     "metadata": {},
     "output_type": "execute_result"
    }
   ],
   "source": [
    "# Can select from dataframe based on boolean vector\n",
    "women = df[df['sex'] == 'Female']\n",
    "women.head()"
   ]
  },
  {
   "cell_type": "code",
   "execution_count": 54,
   "metadata": {},
   "outputs": [
    {
     "data": {
      "text/plain": [
       "sex\n",
       "Female    0.166491\n",
       "Male      0.157651\n",
       "Name: rate, dtype: float64"
      ]
     },
     "execution_count": 54,
     "metadata": {},
     "output_type": "execute_result"
    }
   ],
   "source": [
    "s = df.groupby('sex').rate.mean()\n",
    "s"
   ]
  },
  {
   "cell_type": "code",
   "execution_count": 55,
   "metadata": {},
   "outputs": [
    {
     "data": {
      "application/javascript": [
       "/* Put everything inside the global mpl namespace */\n",
       "window.mpl = {};\n",
       "\n",
       "\n",
       "mpl.get_websocket_type = function() {\n",
       "    if (typeof(WebSocket) !== 'undefined') {\n",
       "        return WebSocket;\n",
       "    } else if (typeof(MozWebSocket) !== 'undefined') {\n",
       "        return MozWebSocket;\n",
       "    } else {\n",
       "        alert('Your browser does not have WebSocket support.' +\n",
       "              'Please try Chrome, Safari or Firefox ≥ 6. ' +\n",
       "              'Firefox 4 and 5 are also supported but you ' +\n",
       "              'have to enable WebSockets in about:config.');\n",
       "    };\n",
       "}\n",
       "\n",
       "mpl.figure = function(figure_id, websocket, ondownload, parent_element) {\n",
       "    this.id = figure_id;\n",
       "\n",
       "    this.ws = websocket;\n",
       "\n",
       "    this.supports_binary = (this.ws.binaryType != undefined);\n",
       "\n",
       "    if (!this.supports_binary) {\n",
       "        var warnings = document.getElementById(\"mpl-warnings\");\n",
       "        if (warnings) {\n",
       "            warnings.style.display = 'block';\n",
       "            warnings.textContent = (\n",
       "                \"This browser does not support binary websocket messages. \" +\n",
       "                    \"Performance may be slow.\");\n",
       "        }\n",
       "    }\n",
       "\n",
       "    this.imageObj = new Image();\n",
       "\n",
       "    this.context = undefined;\n",
       "    this.message = undefined;\n",
       "    this.canvas = undefined;\n",
       "    this.rubberband_canvas = undefined;\n",
       "    this.rubberband_context = undefined;\n",
       "    this.format_dropdown = undefined;\n",
       "\n",
       "    this.image_mode = 'full';\n",
       "\n",
       "    this.root = $('<div/>');\n",
       "    this._root_extra_style(this.root)\n",
       "    this.root.attr('style', 'display: inline-block');\n",
       "\n",
       "    $(parent_element).append(this.root);\n",
       "\n",
       "    this._init_header(this);\n",
       "    this._init_canvas(this);\n",
       "    this._init_toolbar(this);\n",
       "\n",
       "    var fig = this;\n",
       "\n",
       "    this.waiting = false;\n",
       "\n",
       "    this.ws.onopen =  function () {\n",
       "            fig.send_message(\"supports_binary\", {value: fig.supports_binary});\n",
       "            fig.send_message(\"send_image_mode\", {});\n",
       "            if (mpl.ratio != 1) {\n",
       "                fig.send_message(\"set_dpi_ratio\", {'dpi_ratio': mpl.ratio});\n",
       "            }\n",
       "            fig.send_message(\"refresh\", {});\n",
       "        }\n",
       "\n",
       "    this.imageObj.onload = function() {\n",
       "            if (fig.image_mode == 'full') {\n",
       "                // Full images could contain transparency (where diff images\n",
       "                // almost always do), so we need to clear the canvas so that\n",
       "                // there is no ghosting.\n",
       "                fig.context.clearRect(0, 0, fig.canvas.width, fig.canvas.height);\n",
       "            }\n",
       "            fig.context.drawImage(fig.imageObj, 0, 0);\n",
       "        };\n",
       "\n",
       "    this.imageObj.onunload = function() {\n",
       "        this.ws.close();\n",
       "    }\n",
       "\n",
       "    this.ws.onmessage = this._make_on_message_function(this);\n",
       "\n",
       "    this.ondownload = ondownload;\n",
       "}\n",
       "\n",
       "mpl.figure.prototype._init_header = function() {\n",
       "    var titlebar = $(\n",
       "        '<div class=\"ui-dialog-titlebar ui-widget-header ui-corner-all ' +\n",
       "        'ui-helper-clearfix\"/>');\n",
       "    var titletext = $(\n",
       "        '<div class=\"ui-dialog-title\" style=\"width: 100%; ' +\n",
       "        'text-align: center; padding: 3px;\"/>');\n",
       "    titlebar.append(titletext)\n",
       "    this.root.append(titlebar);\n",
       "    this.header = titletext[0];\n",
       "}\n",
       "\n",
       "\n",
       "\n",
       "mpl.figure.prototype._canvas_extra_style = function(canvas_div) {\n",
       "\n",
       "}\n",
       "\n",
       "\n",
       "mpl.figure.prototype._root_extra_style = function(canvas_div) {\n",
       "\n",
       "}\n",
       "\n",
       "mpl.figure.prototype._init_canvas = function() {\n",
       "    var fig = this;\n",
       "\n",
       "    var canvas_div = $('<div/>');\n",
       "\n",
       "    canvas_div.attr('style', 'position: relative; clear: both; outline: 0');\n",
       "\n",
       "    function canvas_keyboard_event(event) {\n",
       "        return fig.key_event(event, event['data']);\n",
       "    }\n",
       "\n",
       "    canvas_div.keydown('key_press', canvas_keyboard_event);\n",
       "    canvas_div.keyup('key_release', canvas_keyboard_event);\n",
       "    this.canvas_div = canvas_div\n",
       "    this._canvas_extra_style(canvas_div)\n",
       "    this.root.append(canvas_div);\n",
       "\n",
       "    var canvas = $('<canvas/>');\n",
       "    canvas.addClass('mpl-canvas');\n",
       "    canvas.attr('style', \"left: 0; top: 0; z-index: 0; outline: 0\")\n",
       "\n",
       "    this.canvas = canvas[0];\n",
       "    this.context = canvas[0].getContext(\"2d\");\n",
       "\n",
       "    var backingStore = this.context.backingStorePixelRatio ||\n",
       "\tthis.context.webkitBackingStorePixelRatio ||\n",
       "\tthis.context.mozBackingStorePixelRatio ||\n",
       "\tthis.context.msBackingStorePixelRatio ||\n",
       "\tthis.context.oBackingStorePixelRatio ||\n",
       "\tthis.context.backingStorePixelRatio || 1;\n",
       "\n",
       "    mpl.ratio = (window.devicePixelRatio || 1) / backingStore;\n",
       "\n",
       "    var rubberband = $('<canvas/>');\n",
       "    rubberband.attr('style', \"position: absolute; left: 0; top: 0; z-index: 1;\")\n",
       "\n",
       "    var pass_mouse_events = true;\n",
       "\n",
       "    canvas_div.resizable({\n",
       "        start: function(event, ui) {\n",
       "            pass_mouse_events = false;\n",
       "        },\n",
       "        resize: function(event, ui) {\n",
       "            fig.request_resize(ui.size.width, ui.size.height);\n",
       "        },\n",
       "        stop: function(event, ui) {\n",
       "            pass_mouse_events = true;\n",
       "            fig.request_resize(ui.size.width, ui.size.height);\n",
       "        },\n",
       "    });\n",
       "\n",
       "    function mouse_event_fn(event) {\n",
       "        if (pass_mouse_events)\n",
       "            return fig.mouse_event(event, event['data']);\n",
       "    }\n",
       "\n",
       "    rubberband.mousedown('button_press', mouse_event_fn);\n",
       "    rubberband.mouseup('button_release', mouse_event_fn);\n",
       "    // Throttle sequential mouse events to 1 every 20ms.\n",
       "    rubberband.mousemove('motion_notify', mouse_event_fn);\n",
       "\n",
       "    rubberband.mouseenter('figure_enter', mouse_event_fn);\n",
       "    rubberband.mouseleave('figure_leave', mouse_event_fn);\n",
       "\n",
       "    canvas_div.on(\"wheel\", function (event) {\n",
       "        event = event.originalEvent;\n",
       "        event['data'] = 'scroll'\n",
       "        if (event.deltaY < 0) {\n",
       "            event.step = 1;\n",
       "        } else {\n",
       "            event.step = -1;\n",
       "        }\n",
       "        mouse_event_fn(event);\n",
       "    });\n",
       "\n",
       "    canvas_div.append(canvas);\n",
       "    canvas_div.append(rubberband);\n",
       "\n",
       "    this.rubberband = rubberband;\n",
       "    this.rubberband_canvas = rubberband[0];\n",
       "    this.rubberband_context = rubberband[0].getContext(\"2d\");\n",
       "    this.rubberband_context.strokeStyle = \"#000000\";\n",
       "\n",
       "    this._resize_canvas = function(width, height) {\n",
       "        // Keep the size of the canvas, canvas container, and rubber band\n",
       "        // canvas in synch.\n",
       "        canvas_div.css('width', width)\n",
       "        canvas_div.css('height', height)\n",
       "\n",
       "        canvas.attr('width', width * mpl.ratio);\n",
       "        canvas.attr('height', height * mpl.ratio);\n",
       "        canvas.attr('style', 'width: ' + width + 'px; height: ' + height + 'px;');\n",
       "\n",
       "        rubberband.attr('width', width);\n",
       "        rubberband.attr('height', height);\n",
       "    }\n",
       "\n",
       "    // Set the figure to an initial 600x600px, this will subsequently be updated\n",
       "    // upon first draw.\n",
       "    this._resize_canvas(600, 600);\n",
       "\n",
       "    // Disable right mouse context menu.\n",
       "    $(this.rubberband_canvas).bind(\"contextmenu\",function(e){\n",
       "        return false;\n",
       "    });\n",
       "\n",
       "    function set_focus () {\n",
       "        canvas.focus();\n",
       "        canvas_div.focus();\n",
       "    }\n",
       "\n",
       "    window.setTimeout(set_focus, 100);\n",
       "}\n",
       "\n",
       "mpl.figure.prototype._init_toolbar = function() {\n",
       "    var fig = this;\n",
       "\n",
       "    var nav_element = $('<div/>')\n",
       "    nav_element.attr('style', 'width: 100%');\n",
       "    this.root.append(nav_element);\n",
       "\n",
       "    // Define a callback function for later on.\n",
       "    function toolbar_event(event) {\n",
       "        return fig.toolbar_button_onclick(event['data']);\n",
       "    }\n",
       "    function toolbar_mouse_event(event) {\n",
       "        return fig.toolbar_button_onmouseover(event['data']);\n",
       "    }\n",
       "\n",
       "    for(var toolbar_ind in mpl.toolbar_items) {\n",
       "        var name = mpl.toolbar_items[toolbar_ind][0];\n",
       "        var tooltip = mpl.toolbar_items[toolbar_ind][1];\n",
       "        var image = mpl.toolbar_items[toolbar_ind][2];\n",
       "        var method_name = mpl.toolbar_items[toolbar_ind][3];\n",
       "\n",
       "        if (!name) {\n",
       "            // put a spacer in here.\n",
       "            continue;\n",
       "        }\n",
       "        var button = $('<button/>');\n",
       "        button.addClass('ui-button ui-widget ui-state-default ui-corner-all ' +\n",
       "                        'ui-button-icon-only');\n",
       "        button.attr('role', 'button');\n",
       "        button.attr('aria-disabled', 'false');\n",
       "        button.click(method_name, toolbar_event);\n",
       "        button.mouseover(tooltip, toolbar_mouse_event);\n",
       "\n",
       "        var icon_img = $('<span/>');\n",
       "        icon_img.addClass('ui-button-icon-primary ui-icon');\n",
       "        icon_img.addClass(image);\n",
       "        icon_img.addClass('ui-corner-all');\n",
       "\n",
       "        var tooltip_span = $('<span/>');\n",
       "        tooltip_span.addClass('ui-button-text');\n",
       "        tooltip_span.html(tooltip);\n",
       "\n",
       "        button.append(icon_img);\n",
       "        button.append(tooltip_span);\n",
       "\n",
       "        nav_element.append(button);\n",
       "    }\n",
       "\n",
       "    var fmt_picker_span = $('<span/>');\n",
       "\n",
       "    var fmt_picker = $('<select/>');\n",
       "    fmt_picker.addClass('mpl-toolbar-option ui-widget ui-widget-content');\n",
       "    fmt_picker_span.append(fmt_picker);\n",
       "    nav_element.append(fmt_picker_span);\n",
       "    this.format_dropdown = fmt_picker[0];\n",
       "\n",
       "    for (var ind in mpl.extensions) {\n",
       "        var fmt = mpl.extensions[ind];\n",
       "        var option = $(\n",
       "            '<option/>', {selected: fmt === mpl.default_extension}).html(fmt);\n",
       "        fmt_picker.append(option)\n",
       "    }\n",
       "\n",
       "    // Add hover states to the ui-buttons\n",
       "    $( \".ui-button\" ).hover(\n",
       "        function() { $(this).addClass(\"ui-state-hover\");},\n",
       "        function() { $(this).removeClass(\"ui-state-hover\");}\n",
       "    );\n",
       "\n",
       "    var status_bar = $('<span class=\"mpl-message\"/>');\n",
       "    nav_element.append(status_bar);\n",
       "    this.message = status_bar[0];\n",
       "}\n",
       "\n",
       "mpl.figure.prototype.request_resize = function(x_pixels, y_pixels) {\n",
       "    // Request matplotlib to resize the figure. Matplotlib will then trigger a resize in the client,\n",
       "    // which will in turn request a refresh of the image.\n",
       "    this.send_message('resize', {'width': x_pixels, 'height': y_pixels});\n",
       "}\n",
       "\n",
       "mpl.figure.prototype.send_message = function(type, properties) {\n",
       "    properties['type'] = type;\n",
       "    properties['figure_id'] = this.id;\n",
       "    this.ws.send(JSON.stringify(properties));\n",
       "}\n",
       "\n",
       "mpl.figure.prototype.send_draw_message = function() {\n",
       "    if (!this.waiting) {\n",
       "        this.waiting = true;\n",
       "        this.ws.send(JSON.stringify({type: \"draw\", figure_id: this.id}));\n",
       "    }\n",
       "}\n",
       "\n",
       "\n",
       "mpl.figure.prototype.handle_save = function(fig, msg) {\n",
       "    var format_dropdown = fig.format_dropdown;\n",
       "    var format = format_dropdown.options[format_dropdown.selectedIndex].value;\n",
       "    fig.ondownload(fig, format);\n",
       "}\n",
       "\n",
       "\n",
       "mpl.figure.prototype.handle_resize = function(fig, msg) {\n",
       "    var size = msg['size'];\n",
       "    if (size[0] != fig.canvas.width || size[1] != fig.canvas.height) {\n",
       "        fig._resize_canvas(size[0], size[1]);\n",
       "        fig.send_message(\"refresh\", {});\n",
       "    };\n",
       "}\n",
       "\n",
       "mpl.figure.prototype.handle_rubberband = function(fig, msg) {\n",
       "    var x0 = msg['x0'] / mpl.ratio;\n",
       "    var y0 = (fig.canvas.height - msg['y0']) / mpl.ratio;\n",
       "    var x1 = msg['x1'] / mpl.ratio;\n",
       "    var y1 = (fig.canvas.height - msg['y1']) / mpl.ratio;\n",
       "    x0 = Math.floor(x0) + 0.5;\n",
       "    y0 = Math.floor(y0) + 0.5;\n",
       "    x1 = Math.floor(x1) + 0.5;\n",
       "    y1 = Math.floor(y1) + 0.5;\n",
       "    var min_x = Math.min(x0, x1);\n",
       "    var min_y = Math.min(y0, y1);\n",
       "    var width = Math.abs(x1 - x0);\n",
       "    var height = Math.abs(y1 - y0);\n",
       "\n",
       "    fig.rubberband_context.clearRect(\n",
       "        0, 0, fig.canvas.width, fig.canvas.height);\n",
       "\n",
       "    fig.rubberband_context.strokeRect(min_x, min_y, width, height);\n",
       "}\n",
       "\n",
       "mpl.figure.prototype.handle_figure_label = function(fig, msg) {\n",
       "    // Updates the figure title.\n",
       "    fig.header.textContent = msg['label'];\n",
       "}\n",
       "\n",
       "mpl.figure.prototype.handle_cursor = function(fig, msg) {\n",
       "    var cursor = msg['cursor'];\n",
       "    switch(cursor)\n",
       "    {\n",
       "    case 0:\n",
       "        cursor = 'pointer';\n",
       "        break;\n",
       "    case 1:\n",
       "        cursor = 'default';\n",
       "        break;\n",
       "    case 2:\n",
       "        cursor = 'crosshair';\n",
       "        break;\n",
       "    case 3:\n",
       "        cursor = 'move';\n",
       "        break;\n",
       "    }\n",
       "    fig.rubberband_canvas.style.cursor = cursor;\n",
       "}\n",
       "\n",
       "mpl.figure.prototype.handle_message = function(fig, msg) {\n",
       "    fig.message.textContent = msg['message'];\n",
       "}\n",
       "\n",
       "mpl.figure.prototype.handle_draw = function(fig, msg) {\n",
       "    // Request the server to send over a new figure.\n",
       "    fig.send_draw_message();\n",
       "}\n",
       "\n",
       "mpl.figure.prototype.handle_image_mode = function(fig, msg) {\n",
       "    fig.image_mode = msg['mode'];\n",
       "}\n",
       "\n",
       "mpl.figure.prototype.updated_canvas_event = function() {\n",
       "    // Called whenever the canvas gets updated.\n",
       "    this.send_message(\"ack\", {});\n",
       "}\n",
       "\n",
       "// A function to construct a web socket function for onmessage handling.\n",
       "// Called in the figure constructor.\n",
       "mpl.figure.prototype._make_on_message_function = function(fig) {\n",
       "    return function socket_on_message(evt) {\n",
       "        if (evt.data instanceof Blob) {\n",
       "            /* FIXME: We get \"Resource interpreted as Image but\n",
       "             * transferred with MIME type text/plain:\" errors on\n",
       "             * Chrome.  But how to set the MIME type?  It doesn't seem\n",
       "             * to be part of the websocket stream */\n",
       "            evt.data.type = \"image/png\";\n",
       "\n",
       "            /* Free the memory for the previous frames */\n",
       "            if (fig.imageObj.src) {\n",
       "                (window.URL || window.webkitURL).revokeObjectURL(\n",
       "                    fig.imageObj.src);\n",
       "            }\n",
       "\n",
       "            fig.imageObj.src = (window.URL || window.webkitURL).createObjectURL(\n",
       "                evt.data);\n",
       "            fig.updated_canvas_event();\n",
       "            fig.waiting = false;\n",
       "            return;\n",
       "        }\n",
       "        else if (typeof evt.data === 'string' && evt.data.slice(0, 21) == \"data:image/png;base64\") {\n",
       "            fig.imageObj.src = evt.data;\n",
       "            fig.updated_canvas_event();\n",
       "            fig.waiting = false;\n",
       "            return;\n",
       "        }\n",
       "\n",
       "        var msg = JSON.parse(evt.data);\n",
       "        var msg_type = msg['type'];\n",
       "\n",
       "        // Call the  \"handle_{type}\" callback, which takes\n",
       "        // the figure and JSON message as its only arguments.\n",
       "        try {\n",
       "            var callback = fig[\"handle_\" + msg_type];\n",
       "        } catch (e) {\n",
       "            console.log(\"No handler for the '\" + msg_type + \"' message type: \", msg);\n",
       "            return;\n",
       "        }\n",
       "\n",
       "        if (callback) {\n",
       "            try {\n",
       "                // console.log(\"Handling '\" + msg_type + \"' message: \", msg);\n",
       "                callback(fig, msg);\n",
       "            } catch (e) {\n",
       "                console.log(\"Exception inside the 'handler_\" + msg_type + \"' callback:\", e, e.stack, msg);\n",
       "            }\n",
       "        }\n",
       "    };\n",
       "}\n",
       "\n",
       "// from http://stackoverflow.com/questions/1114465/getting-mouse-location-in-canvas\n",
       "mpl.findpos = function(e) {\n",
       "    //this section is from http://www.quirksmode.org/js/events_properties.html\n",
       "    var targ;\n",
       "    if (!e)\n",
       "        e = window.event;\n",
       "    if (e.target)\n",
       "        targ = e.target;\n",
       "    else if (e.srcElement)\n",
       "        targ = e.srcElement;\n",
       "    if (targ.nodeType == 3) // defeat Safari bug\n",
       "        targ = targ.parentNode;\n",
       "\n",
       "    // jQuery normalizes the pageX and pageY\n",
       "    // pageX,Y are the mouse positions relative to the document\n",
       "    // offset() returns the position of the element relative to the document\n",
       "    var x = e.pageX - $(targ).offset().left;\n",
       "    var y = e.pageY - $(targ).offset().top;\n",
       "\n",
       "    return {\"x\": x, \"y\": y};\n",
       "};\n",
       "\n",
       "/*\n",
       " * return a copy of an object with only non-object keys\n",
       " * we need this to avoid circular references\n",
       " * http://stackoverflow.com/a/24161582/3208463\n",
       " */\n",
       "function simpleKeys (original) {\n",
       "  return Object.keys(original).reduce(function (obj, key) {\n",
       "    if (typeof original[key] !== 'object')\n",
       "        obj[key] = original[key]\n",
       "    return obj;\n",
       "  }, {});\n",
       "}\n",
       "\n",
       "mpl.figure.prototype.mouse_event = function(event, name) {\n",
       "    var canvas_pos = mpl.findpos(event)\n",
       "\n",
       "    if (name === 'button_press')\n",
       "    {\n",
       "        this.canvas.focus();\n",
       "        this.canvas_div.focus();\n",
       "    }\n",
       "\n",
       "    var x = canvas_pos.x * mpl.ratio;\n",
       "    var y = canvas_pos.y * mpl.ratio;\n",
       "\n",
       "    this.send_message(name, {x: x, y: y, button: event.button,\n",
       "                             step: event.step,\n",
       "                             guiEvent: simpleKeys(event)});\n",
       "\n",
       "    /* This prevents the web browser from automatically changing to\n",
       "     * the text insertion cursor when the button is pressed.  We want\n",
       "     * to control all of the cursor setting manually through the\n",
       "     * 'cursor' event from matplotlib */\n",
       "    event.preventDefault();\n",
       "    return false;\n",
       "}\n",
       "\n",
       "mpl.figure.prototype._key_event_extra = function(event, name) {\n",
       "    // Handle any extra behaviour associated with a key event\n",
       "}\n",
       "\n",
       "mpl.figure.prototype.key_event = function(event, name) {\n",
       "\n",
       "    // Prevent repeat events\n",
       "    if (name == 'key_press')\n",
       "    {\n",
       "        if (event.which === this._key)\n",
       "            return;\n",
       "        else\n",
       "            this._key = event.which;\n",
       "    }\n",
       "    if (name == 'key_release')\n",
       "        this._key = null;\n",
       "\n",
       "    var value = '';\n",
       "    if (event.ctrlKey && event.which != 17)\n",
       "        value += \"ctrl+\";\n",
       "    if (event.altKey && event.which != 18)\n",
       "        value += \"alt+\";\n",
       "    if (event.shiftKey && event.which != 16)\n",
       "        value += \"shift+\";\n",
       "\n",
       "    value += 'k';\n",
       "    value += event.which.toString();\n",
       "\n",
       "    this._key_event_extra(event, name);\n",
       "\n",
       "    this.send_message(name, {key: value,\n",
       "                             guiEvent: simpleKeys(event)});\n",
       "    return false;\n",
       "}\n",
       "\n",
       "mpl.figure.prototype.toolbar_button_onclick = function(name) {\n",
       "    if (name == 'download') {\n",
       "        this.handle_save(this, null);\n",
       "    } else {\n",
       "        this.send_message(\"toolbar_button\", {name: name});\n",
       "    }\n",
       "};\n",
       "\n",
       "mpl.figure.prototype.toolbar_button_onmouseover = function(tooltip) {\n",
       "    this.message.textContent = tooltip;\n",
       "};\n",
       "mpl.toolbar_items = [[\"Home\", \"Reset original view\", \"fa fa-home icon-home\", \"home\"], [\"Back\", \"Back to  previous view\", \"fa fa-arrow-left icon-arrow-left\", \"back\"], [\"Forward\", \"Forward to next view\", \"fa fa-arrow-right icon-arrow-right\", \"forward\"], [\"\", \"\", \"\", \"\"], [\"Pan\", \"Pan axes with left mouse, zoom with right\", \"fa fa-arrows icon-move\", \"pan\"], [\"Zoom\", \"Zoom to rectangle\", \"fa fa-square-o icon-check-empty\", \"zoom\"], [\"\", \"\", \"\", \"\"], [\"Download\", \"Download plot\", \"fa fa-floppy-o icon-save\", \"download\"]];\n",
       "\n",
       "mpl.extensions = [\"eps\", \"jpeg\", \"pdf\", \"png\", \"ps\", \"raw\", \"svg\", \"tif\"];\n",
       "\n",
       "mpl.default_extension = \"png\";var comm_websocket_adapter = function(comm) {\n",
       "    // Create a \"websocket\"-like object which calls the given IPython comm\n",
       "    // object with the appropriate methods. Currently this is a non binary\n",
       "    // socket, so there is still some room for performance tuning.\n",
       "    var ws = {};\n",
       "\n",
       "    ws.close = function() {\n",
       "        comm.close()\n",
       "    };\n",
       "    ws.send = function(m) {\n",
       "        //console.log('sending', m);\n",
       "        comm.send(m);\n",
       "    };\n",
       "    // Register the callback with on_msg.\n",
       "    comm.on_msg(function(msg) {\n",
       "        //console.log('receiving', msg['content']['data'], msg);\n",
       "        // Pass the mpl event to the overriden (by mpl) onmessage function.\n",
       "        ws.onmessage(msg['content']['data'])\n",
       "    });\n",
       "    return ws;\n",
       "}\n",
       "\n",
       "mpl.mpl_figure_comm = function(comm, msg) {\n",
       "    // This is the function which gets called when the mpl process\n",
       "    // starts-up an IPython Comm through the \"matplotlib\" channel.\n",
       "\n",
       "    var id = msg.content.data.id;\n",
       "    // Get hold of the div created by the display call when the Comm\n",
       "    // socket was opened in Python.\n",
       "    var element = $(\"#\" + id);\n",
       "    var ws_proxy = comm_websocket_adapter(comm)\n",
       "\n",
       "    function ondownload(figure, format) {\n",
       "        window.open(figure.imageObj.src);\n",
       "    }\n",
       "\n",
       "    var fig = new mpl.figure(id, ws_proxy,\n",
       "                           ondownload,\n",
       "                           element.get(0));\n",
       "\n",
       "    // Call onopen now - mpl needs it, as it is assuming we've passed it a real\n",
       "    // web socket which is closed, not our websocket->open comm proxy.\n",
       "    ws_proxy.onopen();\n",
       "\n",
       "    fig.parent_element = element.get(0);\n",
       "    fig.cell_info = mpl.find_output_cell(\"<div id='\" + id + \"'></div>\");\n",
       "    if (!fig.cell_info) {\n",
       "        console.error(\"Failed to find cell for figure\", id, fig);\n",
       "        return;\n",
       "    }\n",
       "\n",
       "    var output_index = fig.cell_info[2]\n",
       "    var cell = fig.cell_info[0];\n",
       "\n",
       "};\n",
       "\n",
       "mpl.figure.prototype.handle_close = function(fig, msg) {\n",
       "    var width = fig.canvas.width/mpl.ratio\n",
       "    fig.root.unbind('remove')\n",
       "\n",
       "    // Update the output cell to use the data from the current canvas.\n",
       "    fig.push_to_output();\n",
       "    var dataURL = fig.canvas.toDataURL();\n",
       "    // Re-enable the keyboard manager in IPython - without this line, in FF,\n",
       "    // the notebook keyboard shortcuts fail.\n",
       "    IPython.keyboard_manager.enable()\n",
       "    $(fig.parent_element).html('<img src=\"' + dataURL + '\" width=\"' + width + '\">');\n",
       "    fig.close_ws(fig, msg);\n",
       "}\n",
       "\n",
       "mpl.figure.prototype.close_ws = function(fig, msg){\n",
       "    fig.send_message('closing', msg);\n",
       "    // fig.ws.close()\n",
       "}\n",
       "\n",
       "mpl.figure.prototype.push_to_output = function(remove_interactive) {\n",
       "    // Turn the data on the canvas into data in the output cell.\n",
       "    var width = this.canvas.width/mpl.ratio\n",
       "    var dataURL = this.canvas.toDataURL();\n",
       "    this.cell_info[1]['text/html'] = '<img src=\"' + dataURL + '\" width=\"' + width + '\">';\n",
       "}\n",
       "\n",
       "mpl.figure.prototype.updated_canvas_event = function() {\n",
       "    // Tell IPython that the notebook contents must change.\n",
       "    IPython.notebook.set_dirty(true);\n",
       "    this.send_message(\"ack\", {});\n",
       "    var fig = this;\n",
       "    // Wait a second, then push the new image to the DOM so\n",
       "    // that it is saved nicely (might be nice to debounce this).\n",
       "    setTimeout(function () { fig.push_to_output() }, 1000);\n",
       "}\n",
       "\n",
       "mpl.figure.prototype._init_toolbar = function() {\n",
       "    var fig = this;\n",
       "\n",
       "    var nav_element = $('<div/>')\n",
       "    nav_element.attr('style', 'width: 100%');\n",
       "    this.root.append(nav_element);\n",
       "\n",
       "    // Define a callback function for later on.\n",
       "    function toolbar_event(event) {\n",
       "        return fig.toolbar_button_onclick(event['data']);\n",
       "    }\n",
       "    function toolbar_mouse_event(event) {\n",
       "        return fig.toolbar_button_onmouseover(event['data']);\n",
       "    }\n",
       "\n",
       "    for(var toolbar_ind in mpl.toolbar_items){\n",
       "        var name = mpl.toolbar_items[toolbar_ind][0];\n",
       "        var tooltip = mpl.toolbar_items[toolbar_ind][1];\n",
       "        var image = mpl.toolbar_items[toolbar_ind][2];\n",
       "        var method_name = mpl.toolbar_items[toolbar_ind][3];\n",
       "\n",
       "        if (!name) { continue; };\n",
       "\n",
       "        var button = $('<button class=\"btn btn-default\" href=\"#\" title=\"' + name + '\"><i class=\"fa ' + image + ' fa-lg\"></i></button>');\n",
       "        button.click(method_name, toolbar_event);\n",
       "        button.mouseover(tooltip, toolbar_mouse_event);\n",
       "        nav_element.append(button);\n",
       "    }\n",
       "\n",
       "    // Add the status bar.\n",
       "    var status_bar = $('<span class=\"mpl-message\" style=\"text-align:right; float: right;\"/>');\n",
       "    nav_element.append(status_bar);\n",
       "    this.message = status_bar[0];\n",
       "\n",
       "    // Add the close button to the window.\n",
       "    var buttongrp = $('<div class=\"btn-group inline pull-right\"></div>');\n",
       "    var button = $('<button class=\"btn btn-mini btn-primary\" href=\"#\" title=\"Stop Interaction\"><i class=\"fa fa-power-off icon-remove icon-large\"></i></button>');\n",
       "    button.click(function (evt) { fig.handle_close(fig, {}); } );\n",
       "    button.mouseover('Stop Interaction', toolbar_mouse_event);\n",
       "    buttongrp.append(button);\n",
       "    var titlebar = this.root.find($('.ui-dialog-titlebar'));\n",
       "    titlebar.prepend(buttongrp);\n",
       "}\n",
       "\n",
       "mpl.figure.prototype._root_extra_style = function(el){\n",
       "    var fig = this\n",
       "    el.on(\"remove\", function(){\n",
       "\tfig.close_ws(fig, {});\n",
       "    });\n",
       "}\n",
       "\n",
       "mpl.figure.prototype._canvas_extra_style = function(el){\n",
       "    // this is important to make the div 'focusable\n",
       "    el.attr('tabindex', 0)\n",
       "    // reach out to IPython and tell the keyboard manager to turn it's self\n",
       "    // off when our div gets focus\n",
       "\n",
       "    // location in version 3\n",
       "    if (IPython.notebook.keyboard_manager) {\n",
       "        IPython.notebook.keyboard_manager.register_events(el);\n",
       "    }\n",
       "    else {\n",
       "        // location in version 2\n",
       "        IPython.keyboard_manager.register_events(el);\n",
       "    }\n",
       "\n",
       "}\n",
       "\n",
       "mpl.figure.prototype._key_event_extra = function(event, name) {\n",
       "    var manager = IPython.notebook.keyboard_manager;\n",
       "    if (!manager)\n",
       "        manager = IPython.keyboard_manager;\n",
       "\n",
       "    // Check for shift+enter\n",
       "    if (event.shiftKey && event.which == 13) {\n",
       "        this.canvas_div.blur();\n",
       "        // select the cell after this one\n",
       "        var index = IPython.notebook.find_cell_index(this.cell_info[0]);\n",
       "        IPython.notebook.select(index + 1);\n",
       "    }\n",
       "}\n",
       "\n",
       "mpl.figure.prototype.handle_save = function(fig, msg) {\n",
       "    fig.ondownload(fig, null);\n",
       "}\n",
       "\n",
       "\n",
       "mpl.find_output_cell = function(html_output) {\n",
       "    // Return the cell and output element which can be found *uniquely* in the notebook.\n",
       "    // Note - this is a bit hacky, but it is done because the \"notebook_saving.Notebook\"\n",
       "    // IPython event is triggered only after the cells have been serialised, which for\n",
       "    // our purposes (turning an active figure into a static one), is too late.\n",
       "    var cells = IPython.notebook.get_cells();\n",
       "    var ncells = cells.length;\n",
       "    for (var i=0; i<ncells; i++) {\n",
       "        var cell = cells[i];\n",
       "        if (cell.cell_type === 'code'){\n",
       "            for (var j=0; j<cell.output_area.outputs.length; j++) {\n",
       "                var data = cell.output_area.outputs[j];\n",
       "                if (data.data) {\n",
       "                    // IPython >= 3 moved mimebundle to data attribute of output\n",
       "                    data = data.data;\n",
       "                }\n",
       "                if (data['text/html'] == html_output) {\n",
       "                    return [cell, data, j];\n",
       "                }\n",
       "            }\n",
       "        }\n",
       "    }\n",
       "}\n",
       "\n",
       "// Register the function which deals with the matplotlib target/channel.\n",
       "// The kernel may be null if the page has been refreshed.\n",
       "if (IPython.notebook.kernel != null) {\n",
       "    IPython.notebook.kernel.comm_manager.register_target('matplotlib', mpl.mpl_figure_comm);\n",
       "}\n"
      ],
      "text/plain": [
       "<IPython.core.display.Javascript object>"
      ]
     },
     "metadata": {},
     "output_type": "display_data"
    },
    {
     "data": {
      "text/html": [
       "<img src=\"data:image/png;base64,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\" width=\"640\">"
      ],
      "text/plain": [
       "<IPython.core.display.HTML object>"
      ]
     },
     "metadata": {},
     "output_type": "display_data"
    }
   ],
   "source": [
    "df.plot(kind='scatter', x='total_bill', y='tip');"
   ]
  },
  {
   "cell_type": "markdown",
   "metadata": {},
   "source": [
    "<div style=\"height:350px;padding:10px;background:#eeeeee;\">\n",
    "<h1 align=\"center\">Thank you!\n",
    "</h1>\n",
    "\n",
    "</div>"
   ]
  }
 ],
 "metadata": {
  "kernelspec": {
   "display_name": "Python 3",
   "language": "python",
   "name": "python3"
  },
  "language_info": {
   "codemirror_mode": {
    "name": "ipython",
    "version": 3
   },
   "file_extension": ".py",
   "mimetype": "text/x-python",
   "name": "python",
   "nbconvert_exporter": "python",
   "pygments_lexer": "ipython3",
   "version": "3.6.1"
  }
 },
 "nbformat": 4,
 "nbformat_minor": 1
}
