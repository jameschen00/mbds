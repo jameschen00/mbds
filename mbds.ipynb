{
 "cells": [
  {
   "cell_type": "markdown",
   "metadata": {},
   "source": [
    "<div style=\"height:480px;padding:10px;background:#eeeeee;\">\n",
    "<h1 align=\"center\">A Crash Course in Programming in Python</h1>\n",
    "<ul><li>\n",
    "<h3><a href=\"https://github.com/smkautz/mbds\"> https://github.com/smkautz/mbds</a></h3>\n",
    "<li><h3><a href=\"http://web.cs.iastate.edu/~smkautz/mbds2017/resources.html\">Links for resources discussed in the workshop</a> </h3>\n",
    "</ul>\n",
    "<img src=\"http://web.cs.iastate.edu/~smkautz/mbds/python.png\" alt=\"For image see https://xkcd.com/353/\">\n",
    "<h3 align=\"center\">Midwest Big Data Summer School, July 2017<br>\n",
    "Steve Kautz (<a href=\"http://web.cs.iastate.edu/~smkautz/\">http://web.cs.iastate.edu/~smkautz/</a>)<br> \n",
    "with David Johnston\n",
    "</h3>\n",
    "</div>"
   ]
  },
  {
   "cell_type": "markdown",
   "metadata": {},
   "source": [
    "<div style=\"height:350px;padding:10px;background:#eeeeee;\">\n",
    "<h1 align=\"center\">Using this document\n",
    "</h1>\n",
    "<ul>\n",
    "<li><h2>These \"slides\" are in the form of a <em>Jupyter notebook</em> (aka IPython) in which we can edit and run Python code\n",
    "</h2>\n",
    "<ul>\n",
    "<li><h3>Github automatically converts the notebook to html, which allows you to view it statically\n",
    "</h3></ul>\n",
    "<li><h2>To actually run the code, you'll need to load it from the notebook server, which you can do in two ways \n",
    "</h2>\n",
    "  <ul><li>\n",
    "  <h3>Install <a href=\"http://jupyter.org/install.html\">Jupyter Notebook</a> and run the server locally. This is the most robust and flexible option. (Note: The recommended way to install Jupyter is to install \n",
    "  <a href=\"https://www.continuum.io/\">Anaconda</a>, which also includes the pandas library and its dependencies along with other useful stuff, but requires about 1.2G.)\n",
    "  </h3>\n",
    "  <li>\n",
    "  <h3>Use <a href=\"https://try.jupyter.org/\">https://try.jupyter.org/</a></h3> \n",
    "  </ul>\n",
    "</ul>\n",
    "</div>"
   ]
  },
  {
   "cell_type": "markdown",
   "metadata": {},
   "source": [
    "<div style=\"height:400px;padding:10px;background:#eeeeee;\">\n",
    "<h1 align=\"center\">Options for following along\n",
    "</h1>\n",
    "<ul>\n",
    "<li><h3>Go to <a href=\"https://github.com/smkautz/mbds\">https://github.com/smkautz/mbds</a>.  Download the repository as a zip file and extract it locally (or clone the repository, if you prefer). \n",
    "</h3>\n",
    "<li><h3>If you have installed Anaconda</h3>\n",
    "  <ol><li>\n",
    "  <h4>Start the notebook server (start from the Anaconda navigator application, or run <code>jupyter notebook</code> at command prompt)</h4>.  This should bring up a browser window.\n",
    "  <li><h4>Mac users: you may need to copy/paste the URL from the terminal, which looks like http://localhost:8888 followed by a \"security token\"\n",
    "  <li><h4>Navigate to your downloaded file <code>mbds.ipynb</code></h4>\n",
    "  </ol>\n",
    "<li><h3>If you haven't installed Anaconda, you can go to <a href=\"https://try.jupyter.org/\">https://try.jupyter.org/</a>\n",
    "and use the \"upload\" button\n",
    "</h3>\n",
    "  <ul><li>\n",
    "  <h4>this sets up a temporary server and you'll be disconnected periodically - when the connection fails, you'll need to upload the notebook again</h4>\n",
    "  </ul>\n",
    "\n",
    "\n",
    "</ul>\n",
    "</div>"
   ]
  },
  {
   "cell_type": "markdown",
   "metadata": {},
   "source": [
    "<div style=\"height:400px;padding:10px;background:#eeeeee;\">\n",
    "<h1 align=\"center\">Things to notice about the notebook\n",
    "</h1>\n",
    "<ul>\n",
    "<li><h2>Click in a cell, Shift-Enter to \"execute\"\n",
    "</h2>\n",
    "<ul>\n",
    "  <li><h3>Double-click to edit markdown, green bar means \"edit mode\"\n",
    "  </h3>\n",
    "  </ul>\n",
    "<li><h2>Toolbar: \"+\" to add a cell, scissors to delete, arrows to move\n",
    "</h2>\n",
    "<li><h2>Dropdown to select Code or \"Markdown\"\n",
    "</h2>\n",
    "<li><h2>File menu -  options to rename, save, or \"download\" (save as)\n",
    "</h2>\n",
    "<li><h2>Kernel menu - options to clear, re-run all cells\n",
    "</h2>\n",
    "<li><h2>Cells may refer to variables/functions defined in previous cells (which may need to be re-run)\n",
    "</h2>\n",
    "</ul>\n",
    "</div>"
   ]
  },
  {
   "cell_type": "markdown",
   "metadata": {},
   "source": [
    "<div style=\"height:350px;padding:10px;background:#eeeeee;\">\n",
    "<h1 align=\"center\">Getting started\n",
    "</h1>\n",
    "<ul>\n",
    "<li><h2>Before you jump in...\n",
    "</h2>\n",
    "<li><h2>... let's start with an introduction (10-15 min)\n",
    "</h2>\n",
    "<li><h2>After that we'll start writing Python code, and we'll go over how to use the notebook, and then you can experiment with the code as we go\n",
    "</h2>\n",
    "\n",
    "</ul>\n",
    "</div>"
   ]
  },
  {
   "cell_type": "markdown",
   "metadata": {},
   "source": [
    "<div style=\"height:350px;padding:10px;background:#eeeeee;\">\n",
    "<h1 align=\"center\">Who is Steve Kautz?\n",
    "</h1>\n",
    "<ul>\n",
    "<li><h2>Are you a real data scientist?\n",
    "</h2>\n",
    "<ul>\n",
    "  <li><h3>Nope\n",
    "  </h3>\n",
    "  <li><h3>But my son-in-law went to a data science conference this summer, and brought me back a t-shirt...\n",
    "  </h3>\n",
    "  </ul>\n",
    "<li><h2>Oh, and I did this same workshop last year...\n",
    "</h2>\n",
    "</ul>\n",
    "</div>"
   ]
  },
  {
   "cell_type": "markdown",
   "metadata": {
    "collapsed": true
   },
   "source": [
    "<div style=\"height:350px;padding:10px;background:#eeeeee;\">\n",
    "<h1 align=\"center\">My day job\n",
    "</h1>\n",
    "<ul>\n",
    "<li><h2>Senior Lecturer at ISU\n",
    "</h2>\n",
    "<ul>\n",
    "  <li><h3>(That means ISU gets the senior discount when they calculate my salary...)\n",
    "  </h3>\n",
    "  </ul>\n",
    "<li><h2>I teach intro programming for about 1000 undergrads each year\n",
    "</h2>\n",
    "<ul>\n",
    "  <li><h3>Com S 127 is a gentle introduction to programming using Python\n",
    "  </h3>\n",
    "  <li><h3>Check out the resources page for book links and more info\n",
    "  </h3>\n",
    "  </ul>\n",
    "<li><h2>I taught myself Python about 8 years ago to handle a bunch of tedious data processing tasks\n",
    "</h2> \n",
    "<ul>\n",
    "  <li><h3>I'm not a Python \"expert\", I just use it a lot for practical stuff\n",
    "  </h3>\n",
    "\n",
    "</ul>\n",
    "</div>"
   ]
  },
  {
   "cell_type": "markdown",
   "metadata": {},
   "source": [
    "<div style=\"height:350px;padding:10px;background:#eeeeee;\">\n",
    "<h1 align=\"center\">What is Python?\n",
    "</h1>\n",
    "<ul>\n",
    "<li><h2>A general-purpose programming language\n",
    "</h2>\n",
    "<li><h2>Flexible in supporting several \"styles\" of programming (imperative, functional, object-oriented)\n",
    "</h2>\n",
    "<ul>\n",
    "  <li><h3>Can be used to write standalone applications\n",
    "  </h3>\n",
    "  <li><h3>The language interpreter can be used interactively\n",
    "  </h3>\n",
    "  <li><h3>Commonly used to write \"scripts\" to make use of existing code libraries\n",
    "  </h3>\n",
    "  </ul>\n",
    "</ul>\n",
    "</div>"
   ]
  },
  {
   "cell_type": "markdown",
   "metadata": {},
   "source": [
    "<div style=\"height:350px;padding:10px;background:#eeeeee;\">\n",
    "<h1 align=\"center\">What are we doing here?\n",
    "</h1>\n",
    "<ul>\n",
    "<li><h2>Com S 127 is 15 weeks...\n",
    "</h2>\n",
    "<li><h2>We have, what, 3 hours today?\n",
    "</h2>\n",
    "<ul>\n",
    "  <li><h3>So we will have to do the 5-minute version!\n",
    "  </h3>\n",
    "\n",
    "  </ul>\n",
    "</ul>\n",
    "</div>"
   ]
  },
  {
   "cell_type": "markdown",
   "metadata": {},
   "source": [
    "<div style=\"height:350px;padding:10px;background:#eeeeee;\">\n",
    "<h1 align=\"center\">I Don't Want to be a Programmer\n",
    "</h1>\n",
    "<ul>\n",
    "<li><h2>You don't need to be an expert to do useful things!\n",
    "</h2>\n",
    "<ul>\n",
    "  <li><h3>The appeal of Python is that you can accomplish a lot without getting too bogged down in the details of the language\n",
    "  </h3> \n",
    "    <li><h3>Most of the complex code you need is already written\n",
    "  </h3> \n",
    "  </ul>\n",
    "<li><h2>Today:\n",
    "</h2>\n",
    "<ul>\n",
    "  <li><h3>Emphasize using tools, not \"software development\"\n",
    "  </h3> \n",
    "    <li><h3>Enough so that you can make sense of documentation when you look stuff up\n",
    "  </h3>  \n",
    "  </ul>\n",
    "</ul>\n",
    "</div>\n"
   ]
  },
  {
   "cell_type": "markdown",
   "metadata": {},
   "source": [
    "<div style=\"height:350px;padding:10px;background:#eeeeee;\">\n",
    "<h1 align=\"center\">I Don't Want to be a Programmer\n",
    "</h1>\n",
    "<ul>\n",
    "<li><h2>Ok, forget about programming for a sec\n",
    "</h2>\n",
    "\n",
    "<li><h2>How do you answer simple questions about data?\n",
    "</h2>\n",
    "</ul>\n",
    "</div>"
   ]
  },
  {
   "cell_type": "markdown",
   "metadata": {},
   "source": [
    "<div style=\"height:350px;padding:10px;background:#eeeeee;\">\n",
    "</h1>\n",
    "<ul>\n",
    "<li><h2>What's the largest number in this list?\n",
    "</h2>\n",
    "</ul>\n",
    "<h2 align=\"center\">43 17 67 32 86 79 18</h2>\n",
    "\n",
    "</div>"
   ]
  },
  {
   "cell_type": "markdown",
   "metadata": {},
   "source": [
    "<div style=\"height:350px;padding:10px;background:#eeeeee;\">\n",
    "<ul>\n",
    "<li><h2>What's the largest number in this list?\n",
    "</h2>\n",
    "196 61 429 105 522 398 144 274 23 354 145 47 511 516 278 507 526 404 27 16 486 320 284 56 395 318 178 4 217 354 160 279 510 98 345 568 257 98 435 234 493 124 171 96 542 397 349 393 540 379 37 513 159 329 213 58 404 526 170 33 422 399 535 323 150 432 422 116 231 140 434 188 305 542 449 504 108 99 410 189 259 83 573 310 332 51 120 244 325 530 417 84 180 407 391 93 264 484 570 530 17 102 324 76 248 564 265 247 170 262 370 509 108 398 176 370 21 527 61 544 517 495 49 29 185 198 395 112 77 37 417 350 83 444 149 469 299 346 281 512 351 95 474 443 488 517 83  494 18 330 438 336 49 371 32 402 241 442 549 64 43 338 206 571 246 519 18 284 513 133 205 305 481 90 518 297 565 184 210 131 270 238 24 532 142 168 28 1 364 128 90 355 277 42 543 440 223 546 193 245 490 270 218 226 259 442 392 481\n",
    " 316 185 395 437 231 148 40 34 21 407 14 109 312 274 350 372 516 445 566 354 247 80 281 318 501 60 297 291 66 134 501 275 271 190 91 298 23 506 511 313 337 408 496 544 478 282 138 342 215 384 227 525 103 18 52 378 436 519 371 164\n",
    " 552 309 355 336 373 37 457 27 574 515 37 166 317 351 213 499 296 30 282 156 361 465 483 568 186 525 103 18 34 305 19 445 374 379 486 112 522 392 388 287\n",
    "\n",
    "\n",
    "</ul>\n",
    "</div>"
   ]
  },
  {
   "cell_type": "markdown",
   "metadata": {},
   "source": [
    "<div style=\"height:350px;padding:10px;background:#eeeeee;\">\n",
    "<h1 align=\"center\">More generally: given any list, what would be a strategy (\"algorithm\") for finding the largest value?\n",
    "</h1>\n",
    "<ul>\n",
    "<li><h2>Picture a reasonably bright 4th grader, and describe the steps you want to carry out...\n",
    "</h2>\n",
    "<img src=\"http://web.cs.iastate.edu/~smkautz/bigdata/temp/fourth_grader.png\" alt=\"Picture of a girl holding a calculator\" width=\"400\">\n",
    "</ul>\n",
    "</div>"
   ]
  },
  {
   "cell_type": "markdown",
   "metadata": {},
   "source": [
    "<div style=\"height:350px;padding:10px;background:#eeeeee;\">\n",
    "<h1 align=\"center\">A strategy described in \"pseudocode\"\n",
    "</h1>\n",
    "&nbsp;\n",
    "<pre style=\"font-size:120%\">\n",
    "    write down the first number\n",
    "    for each number in the list\n",
    "        if it’s bigger than the one we have,\n",
    "             write that one down instead\n",
    "    return the last number we wrote down\n",
    "</pre>\n",
    "\n",
    "</div>"
   ]
  },
  {
   "cell_type": "markdown",
   "metadata": {},
   "source": [
    "<div style=\"height:350px;padding:10px;background:#eeeeee;\">\n",
    "<h1 align=\"center\">Is that really programming?\n",
    "</h1>\n",
    "<ul>\n",
    "<li><h2>The hard part is done!\n",
    "</h2>\n",
    "  <ul>\n",
    "  <li><h3>Identify the problem and criteria for correctness\n",
    "  </h3>\n",
    "    <li><h3>Describe the steps for solving it (the \"algorithm\")\n",
    "  </h3>\n",
    "  </ul>\n",
    "<li><h2>All we have to do is translate the steps into statements in some programming language\n",
    "</h2>\n",
    "  <ul>\n",
    "  <li><h3>Hmm, and figure out how to read input and represent data...\n",
    "  </h3>\n",
    "  </ul>\n",
    "</ul>\n",
    "\n",
    "</ul>\n",
    "<h1 align=\"center\"><em>So we can all go home now!</em>\n",
    "</h1>\n",
    "</div>"
   ]
  },
  {
   "cell_type": "markdown",
   "metadata": {},
   "source": [
    "<div style=\"height:350px;padding:10px;background:#eeeeee;\">\n",
    "<h1 align=\"center\">Running Python code\n",
    "</h1>\n",
    "<ul>\n",
    "<li><h2>There are many ways to edit and run Python code\n",
    "</h2>\n",
    "<ul>\n",
    "  <li><h3>(Will take a quick look at some alternatives later)\n",
    "  </h3>\n",
    "  </ul>\n",
    "<li><h2>This document is a <em>Jupyter (aka IPython) notebook</em> in which we can directly edit and execute Python code\n",
    "</h2>\n",
    "\n",
    "</ul>\n",
    "</div>"
   ]
  },
  {
   "cell_type": "markdown",
   "metadata": {},
   "source": [
    "### *Example: a simple Python program (Click in the cell and then shift-enter to run)*"
   ]
  },
  {
   "cell_type": "code",
   "execution_count": 136,
   "metadata": {},
   "outputs": [
    {
     "name": "stdout",
     "output_type": "stream",
     "text": [
      "Hello, World!\n",
      "5\n"
     ]
    }
   ],
   "source": [
    "# Our first Python program\n",
    "print(\"Hello, World!\")\n",
    "print(2 + 3)"
   ]
  },
  {
   "cell_type": "code",
   "execution_count": 2,
   "metadata": {},
   "outputs": [
    {
     "name": "stdout",
     "output_type": "stream",
     "text": [
      "Steve said, \"Hello, World!\"\n"
     ]
    }
   ],
   "source": [
    "# String literals may be single-quoted too\n",
    "print('Steve said, \"Hello, World!\"')"
   ]
  },
  {
   "cell_type": "markdown",
   "metadata": {},
   "source": [
    "<div style=\"height:350px;padding:10px;background:#eeeeee;\">\n",
    "<h1 align=\"center\">Other ways to run Python code\n",
    "</h1>\n",
    "<ul>\n",
    "<li><h2>Type statements into the traditional Python shell\n",
    "</h2>\n",
    "<li><h2>Save as a text file, invoke Python interpreter at command prompt\n",
    "</h2>\n",
    "<li><h2>Use an IDE (\"Integrated Development Environment\") e.g. Wing 101\n",
    "</h2>\n",
    "<li><h2>Use an ActiveCode window in an interactive book such as \n",
    "<a href=\"http://interactivepython.org/runestone/static/thinkcspy/index.html\">How to Think Like a Computer Scientist</a>\n",
    "</h2>\n",
    "<li><h2>Philip Guo's <a href=\"http://pythontutor.com/\">Python Tutor</a>\n",
    "</h2>\n",
    "</ul>\n",
    "</div>"
   ]
  },
  {
   "cell_type": "markdown",
   "metadata": {},
   "source": [
    "### *Example - another Python program*"
   ]
  },
  {
   "cell_type": "code",
   "execution_count": 61,
   "metadata": {},
   "outputs": [
    {
     "data": {
      "text/plain": [
       "34.5"
      ]
     },
     "execution_count": 61,
     "metadata": {},
     "output_type": "execute_result"
    }
   ],
   "source": [
    "# Our second Python program\n",
    "miles = 345\n",
    "gallons = 10\n",
    "print(miles / gallons)"
   ]
  },
  {
   "cell_type": "markdown",
   "metadata": {},
   "source": [
    "### (Note that the last 'print' is redundant in Jupyter, which automatically displays the value of the last expression in a cell) "
   ]
  },
  {
   "cell_type": "markdown",
   "metadata": {},
   "source": [
    "<div style=\"height:350px;padding:10px;background:#eeeeee;\">\n",
    "<h1 align=\"center\">A few things to notice\n",
    "</h1>\n",
    "<ul>\n",
    "<li><h2>We use the operator <code>=</code> to assign values to <em>variables</em>\n",
    "</h2>\n",
    "<li><h2>Values have types (though the type of a variable is dynamic)\n",
    "</h2>\n",
    "<li><h2>Use the built-in <code>type()</code> function to examine the type of an expression\n",
    "</h2>\n",
    "</ul>\n",
    "</div>"
   ]
  },
  {
   "cell_type": "code",
   "execution_count": 4,
   "metadata": {},
   "outputs": [
    {
     "data": {
      "text/plain": [
       "int"
      ]
     },
     "execution_count": 4,
     "metadata": {},
     "output_type": "execute_result"
    }
   ],
   "source": [
    "type(345)"
   ]
  },
  {
   "cell_type": "code",
   "execution_count": 5,
   "metadata": {},
   "outputs": [
    {
     "data": {
      "text/plain": [
       "float"
      ]
     },
     "execution_count": 5,
     "metadata": {},
     "output_type": "execute_result"
    }
   ],
   "source": [
    "type(miles / gallons)"
   ]
  },
  {
   "cell_type": "code",
   "execution_count": 6,
   "metadata": {},
   "outputs": [
    {
     "data": {
      "text/plain": [
       "str"
      ]
     },
     "execution_count": 6,
     "metadata": {},
     "output_type": "execute_result"
    }
   ],
   "source": [
    "type(\"Hello, World!\")"
   ]
  },
  {
   "cell_type": "code",
   "execution_count": 7,
   "metadata": {},
   "outputs": [
    {
     "name": "stdout",
     "output_type": "stream",
     "text": [
      "False\n"
     ]
    },
    {
     "data": {
      "text/plain": [
       "bool"
      ]
     },
     "execution_count": 7,
     "metadata": {},
     "output_type": "execute_result"
    }
   ],
   "source": [
    "print(miles > 500)\n",
    "type(miles > 500)"
   ]
  },
  {
   "cell_type": "markdown",
   "metadata": {},
   "source": [
    "<div style=\"height:350px;padding:10px;background:#eeeeee;\">\n",
    "<h1 align=\"center\">A few things to notice\n",
    "</h1>\n",
    "<ul>\n",
    "<li><h2>The operator <code>/</code> performs floating-point division in Python 3\n",
    "</h2>\n",
    "<ul>\n",
    "  <li><h3>Use <code>//</code> for integer division, <code>%</code> for remainder (modulus)\n",
    "  </h3>\n",
    "  </ul>\n",
    "<li><h2>Python 2 vs Python 3 - many subtle differences, two obvious ones\n",
    "</h2>\n",
    "<ul>\n",
    "  <li><h3><code>25 / 10</code> is 2, not 2.5\n",
    "  </h3>\n",
    "  <li><h3><code>print</code> is invoked without parens\n",
    "  </h3>\n",
    "  </ul>\n",
    "<li><h2>The operator <code>=</code> does not mean \"equals\", it's an assignment of a new value\n",
    "</h2>\n",
    "<ul>\n",
    "  <li><h3>To check equality, use <code>==</code> or <code>!=</code>\n",
    "  </h3>\n",
    "  </ul>\n",
    "</ul>\n",
    "</div>"
   ]
  },
  {
   "cell_type": "markdown",
   "metadata": {},
   "source": [
    "### *A few more things to notice*"
   ]
  },
  {
   "cell_type": "code",
   "execution_count": 8,
   "metadata": {},
   "outputs": [
    {
     "name": "stdout",
     "output_type": "stream",
     "text": [
      "2.5\n",
      "2\n",
      "5\n"
     ]
    }
   ],
   "source": [
    "# In Python 3, the / operator always performs floating-point division\n",
    "# Use // for integer division\n",
    "print(25 / 10)\n",
    "print(25 // 10)\n",
    "print(25 % 10)"
   ]
  },
  {
   "cell_type": "code",
   "execution_count": 9,
   "metadata": {},
   "outputs": [
    {
     "name": "stdout",
     "output_type": "stream",
     "text": [
      "42\n",
      "False\n",
      "42\n",
      "137\n"
     ]
    }
   ],
   "source": [
    "# REMEMBER: the = operator does not mean \"equals\", it assigns a new value\n",
    "# Use == or != to check equality\n",
    "x = 42\n",
    "print(x)\n",
    "print(x == 137)\n",
    "print(x)\n",
    "x = 137\n",
    "print(x)\n"
   ]
  },
  {
   "cell_type": "code",
   "execution_count": 127,
   "metadata": {},
   "outputs": [
    {
     "name": "stdout",
     "output_type": "stream",
     "text": [
      "HelloWorld\n",
      "Your mileage is 34.5\n",
      "34.5\n"
     ]
    }
   ],
   "source": [
    "# The + operator can be used to concatenate strings\n",
    "s = \"Hello\" + \"World\"\n",
    "print(s)\n",
    "\n",
    "# Need to convert number to string in order to concatenate\n",
    "print(\"Your mileage is \" + str(miles / gallons))\n",
    "\n",
    "# Another common conversion is to parse a text string as a number\n",
    "# using the int() or float() functions\n",
    "s = \"345\"\n",
    "print(int(s) / gallons)\n",
    "\n",
    "# error!\n",
    "#print(s / gallons)"
   ]
  },
  {
   "cell_type": "markdown",
   "metadata": {},
   "source": [
    "<div style=\"height:350px;padding:10px;background:#eeeeee;\">\n",
    "<h1 align=\"center\">Remember this?  Finding the max in a list\n",
    "</h1>\n",
    "&nbsp;\n",
    "<pre style=\"font-size:120%\">\n",
    "    write down the first number\n",
    "    for each number in the list\n",
    "        if it’s bigger than the one we have,\n",
    "             write that one down instead\n",
    "    return the last number we wrote down\n",
    "</pre>\n",
    "\n",
    "</div>"
   ]
  },
  {
   "cell_type": "markdown",
   "metadata": {},
   "source": [
    "### *Finding the max - our first version as a Python program*"
   ]
  },
  {
   "cell_type": "code",
   "execution_count": 129,
   "metadata": {},
   "outputs": [
    {
     "name": "stdout",
     "output_type": "stream",
     "text": [
      "86\n"
     ]
    }
   ],
   "source": [
    "# Create a list of literal values to try it out\n",
    "my_list = [43, 17, 67, 32, 86, 79, 18]\n",
    "\n",
    "# Save the first (\"zeroth\") element of the list\n",
    "the_max = my_list[0]\n",
    "\n",
    "# Iterate over elements...\n",
    "for num in my_list:\n",
    "    # ...if we find a bigger one, update 'the_max'\n",
    "    if num > the_max:\n",
    "        the_max = num\n",
    "        \n",
    "# Examine the result\n",
    "print(the_max)"
   ]
  },
  {
   "cell_type": "markdown",
   "metadata": {},
   "source": [
    "<div style=\"height:350px;padding:10px;background:#eeeeee;\">\n",
    "<h1 align=\"center\">Visualization with pythontutor.com\n",
    "</h1>\n",
    "\n",
    "<ul>\n",
    "<li>\n",
    "<h3>\n",
    "<a href=\"http://www.pythontutor.com/visualize.html#code=%23%20Create%20a%20list%20of%20literal%20values%20to%20try%20it%20out%0Amy_list%20%3D%20%5B43,%2017,%2067,%2032,%2086,%2079,%2018%5D%0A%0A%23%20Save%20the%20first%20%28%22zeroth%22%29%20element%20of%20the%20list%0Athe_max%20%3D%20my_list%5B0%5D%0A%0A%23%20Iterate%20over%20elements...%0Afor%20num%20in%20my_list%3A%0A%20%20%20%20%23%20...if%20we%20find%20a%20bigger%20one,%20update%20'the_max'%0A%20%20%20%20if%20num%20%3E%20the_max%3A%0A%20%20%20%20%20%20%20%20the_max%20%3D%20num%0A%20%20%20%20%20%20%20%20%0A%23%20Examine%20the%20result%0Aprint%28the_max%29&cumulative=false&curInstr=0&heapPrimitives=false&mode=display&origin=opt-frontend.js&py=3&rawInputLstJSON=%5B%5D&textReferences=false\">Try it with this link</a>\n",
    "</h3>\n",
    "<li><h3>Nice for learning and experimentation\n",
    "</h3>\n",
    "<li><h3>Works for small, self-contained programs\n",
    "</h3>\n",
    "</ul>\n",
    "</div>"
   ]
  },
  {
   "cell_type": "markdown",
   "metadata": {},
   "source": [
    "<div style=\"height:350px;padding:10px;background:#eeeeee;\">\n",
    "<h1 align=\"center\">Things to notice\n",
    "</h1>\n",
    "<ul>\n",
    "<li><h2>Illustrates basic <em>control structures</em> \n",
    "</h2>\n",
    "  <ul>\n",
    "      <li><h3>iteration (for, while), conditionals (if, if/else, if/elif/elif/.../else)\n",
    "  </h3>\n",
    "  </h3>\n",
    "  </ul>\n",
    "<li><h2>Python uses <em>indentation</em> (whitespace) to show program structure\n",
    "</h2>\n",
    "\n",
    "</div>"
   ]
  },
  {
   "cell_type": "markdown",
   "metadata": {},
   "source": [
    "<div style=\"height:350px;padding:10px;background:#eeeeee;\">\n",
    "<h1 align=\"center\">More things to think about\n",
    "</h1>\n",
    "<ul>\n",
    "<li><h2>What's a list, anyway?  What's up with that `my_list[0]` notation?\n",
    "</h2>\n",
    "  <ul>\n",
    "  <li><h3>A list is just a sequence of values, indexed starting at 0 (More later!)\n",
    "  </h3>\n",
    "\n",
    "  </ul>\n",
    "<li><h2>Do I really have to type all the numbers into my program like that?\n",
    "</h2>\n",
    "  <ul>\n",
    "  <li><h3>Definitely not! We usually read data from files.\n",
    "  </h3>\n",
    "  </ul>\n",
    "<li><h2>How can we re-use this code for a different list?\n",
    "</h2>\n",
    "  <ul>\n",
    "  <li><h3>We need to define a <em>function</em>\n",
    "  </h3>\n",
    "  </ul>\n",
    "</ul>\n",
    "\n",
    "</div>"
   ]
  },
  {
   "cell_type": "markdown",
   "metadata": {},
   "source": [
    "### *Example: Defining a function to find the max*"
   ]
  },
  {
   "cell_type": "code",
   "execution_count": 12,
   "metadata": {
    "collapsed": true
   },
   "outputs": [],
   "source": [
    "def find_max(lst):\n",
    "    the_max = lst[0]\n",
    "    for num in lst:\n",
    "        if num > the_max:\n",
    "            the_max = num\n",
    "    return the_max\n",
    "\n"
   ]
  },
  {
   "cell_type": "code",
   "execution_count": 13,
   "metadata": {},
   "outputs": [
    {
     "name": "stdout",
     "output_type": "stream",
     "text": [
      "86\n",
      "5\n"
     ]
    }
   ],
   "source": [
    "# Now, we can call the function, and it returns the value we want\n",
    "m = find_max(my_list)\n",
    "print(m)\n",
    "find_max([3, 5, 4])"
   ]
  },
  {
   "cell_type": "markdown",
   "metadata": {},
   "source": [
    "<div style=\"height:350px;padding:10px;background:#eeeeee;\">\n",
    "<h1 align=\"center\">Reinventing the wheel\n",
    "</h1>\n",
    "<ul>\n",
    "<li><h2>That was great, but...\n",
    "</h2>\n",
    "<li><h2>Python already has a built-in function to find the max in a list!\n",
    "</h2>\n",
    "<li><h2>Many of the operations you need for data analysis have already been written\n",
    "</h2>\n",
    "<li><h2>We just have to learn how to find and use them\n",
    "</h2>\n",
    "</ul>\n",
    "</div>"
   ]
  },
  {
   "cell_type": "code",
   "execution_count": 71,
   "metadata": {},
   "outputs": [
    {
     "data": {
      "text/plain": [
       "5"
      ]
     },
     "execution_count": 71,
     "metadata": {},
     "output_type": "execute_result"
    }
   ],
   "source": [
    "# Python's built in max() function\n",
    "max([3, 5, 4])"
   ]
  },
  {
   "cell_type": "markdown",
   "metadata": {
    "collapsed": true
   },
   "source": [
    "<div style=\"height:350px;padding:10px;background:#eeeeee;\">\n",
    "<h1 align=\"center\">Modules\n",
    "</h1>\n",
    "<ul>\n",
    "<li><h2>There are relatively few built-in functions like <code>print</code> and <code>type</code>\n",
    "</h2>\n",
    "<li><h2>A <em>module</em> is just a file with function definitions\n",
    "</h2>\n",
    "<ul>\n",
    "  <li><h3>May also define <em>data types</em> (\"classes\")\n",
    "  </h3>\n",
    "  <li><h3>Typically not executable as a program by itself\n",
    "  </h3>\n",
    "  </ul>\n",
    "<li><h2>A Python installation includes many modules as part of its \n",
    "<a href=\"https://docs.python.org/3/library/index.html\">standard library</a>\n",
    "</h2>\n",
    "<ul>\n",
    "  <li><h3>You'll use many more that are \"user-defined\", e.g pandas, numpy, pyspark\n",
    "  </h3>\n",
    "  <li><h3>You can also define your own to make your code reusable\n",
    "  </h3>\n",
    "  </ul>\n",
    "</ul>\n",
    "</div>"
   ]
  },
  {
   "cell_type": "markdown",
   "metadata": {},
   "source": [
    "### Example: importing a module"
   ]
  },
  {
   "cell_type": "code",
   "execution_count": 130,
   "metadata": {},
   "outputs": [
    {
     "data": {
      "text/plain": [
       "0.5000000000000001"
      ]
     },
     "execution_count": 130,
     "metadata": {},
     "output_type": "execute_result"
    }
   ],
   "source": [
    "# Importing the module math.py\n",
    "import math\n",
    "\n",
    "# Using the \"qualified name\" for the cosine function (and pi constant)\n",
    "math.cos(math.pi / 3)"
   ]
  },
  {
   "cell_type": "code",
   "execution_count": 16,
   "metadata": {},
   "outputs": [
    {
     "data": {
      "text/plain": [
       "0.5000000000000001"
      ]
     },
     "execution_count": 16,
     "metadata": {},
     "output_type": "execute_result"
    }
   ],
   "source": [
    "# Importing a module, but giving it a different name\n",
    "import math as foo\n",
    "foo.cos(foo.pi / 3)"
   ]
  },
  {
   "cell_type": "code",
   "execution_count": 17,
   "metadata": {},
   "outputs": [
    {
     "data": {
      "text/plain": [
       "0.5000000000000001"
      ]
     },
     "execution_count": 17,
     "metadata": {},
     "output_type": "execute_result"
    }
   ],
   "source": [
    "# Importing just specific names from a module - generally not recommended\n",
    "from math import cos, pi\n",
    "cos(pi / 3)"
   ]
  },
  {
   "cell_type": "markdown",
   "metadata": {},
   "source": [
    "<div style=\"height:350px;padding:10px;background:#eeeeee;\">\n",
    "<h1 align=\"center\">Getting module documentation\n",
    "</h1>\n",
    "<ul>\n",
    "<li><h2>Standard library reference\n",
    "</h2>\n",
    "<a href=\"https://docs.python.org/3/library/index.html\">https://docs.python.org/3/library/index.html</a>\n",
    "<li><h2>Instant help on imported modules\n",
    "</h2>\n",
    "<ul>\n",
    "  <li><h3>just type, e.g., <code>help(math.cos)</code> or <code>help(math)</code>\n",
    "  </h3>\n",
    "  </ul>\n",
    "<ul>\n",
    "<li><h2>Note \"optional arguments\" and \"keyword arguments\" in function documentation...\n",
    "</h2>\n",
    "</ul>\n",
    "</div>"
   ]
  },
  {
   "cell_type": "code",
   "execution_count": 75,
   "metadata": {
    "scrolled": true
   },
   "outputs": [
    {
     "name": "stdout",
     "output_type": "stream",
     "text": [
      "Help on built-in function log in module math:\n",
      "\n",
      "log(...)\n",
      "    log(x[, base])\n",
      "    \n",
      "    Return the logarithm of x to the given base.\n",
      "    If the base not specified, returns the natural logarithm (base e) of x.\n",
      "\n"
     ]
    }
   ],
   "source": [
    "help(math.log)\n"
   ]
  },
  {
   "cell_type": "code",
   "execution_count": 19,
   "metadata": {},
   "outputs": [
    {
     "name": "stdout",
     "output_type": "stream",
     "text": [
      "Help on built-in function print in module builtins:\n",
      "\n",
      "print(...)\n",
      "    print(value, ..., sep=' ', end='\\n', file=sys.stdout, flush=False)\n",
      "    \n",
      "    Prints the values to a stream, or to sys.stdout by default.\n",
      "    Optional keyword arguments:\n",
      "    file:  a file-like object (stream); defaults to the current sys.stdout.\n",
      "    sep:   string inserted between values, default a space.\n",
      "    end:   string appended after the last value, default a newline.\n",
      "    flush: whether to forcibly flush the stream.\n",
      "\n"
     ]
    }
   ],
   "source": [
    "help(print)"
   ]
  },
  {
   "cell_type": "code",
   "execution_count": 77,
   "metadata": {},
   "outputs": [
    {
     "name": "stdout",
     "output_type": "stream",
     "text": [
      "HelloWorld\n"
     ]
    }
   ],
   "source": [
    "print(\"Hello\", end=\"\")\n",
    "print(\"World\")"
   ]
  },
  {
   "cell_type": "markdown",
   "metadata": {},
   "source": [
    "<div style=\"height:400px;padding:10px;background:#eeeeee;\">\n",
    "<h1 align=\"center\">How does the interpreter find modules?\n",
    "</h1>\n",
    "<ul>\n",
    "<li><h2>Looks in the current working directory\n",
    "</h2>\n",
    "<li><h2>Looks in <code>sys.path</code>\n",
    "</h2>\n",
    "<ul>\n",
    "  <li><h3>Normally includes a directory called site-packages for user-installed packages\n",
    "  </h3>\n",
    "  </ul>\n",
    "<li><h2>Choices for using a new (non-standard) module\n",
    "</h2>\n",
    "<ul>\n",
    "  <li><h3>Put it in current directory\n",
    "  </h3>\n",
    "  <li><h3>Put it in site-packages directory\n",
    "  </h3>\n",
    "  <li><h3>Append its location to <code>sys.path</code>\n",
    "  </h3>\n",
    "    </ul>\n",
    "    \n",
    "</ul>\n",
    "  <pre>\n",
    "import sys\n",
    "sys.path.append(\"/path/to/some/directory\")\n",
    "  </pre>\n",
    "\n",
    "</div>"
   ]
  },
  {
   "cell_type": "markdown",
   "metadata": {},
   "source": [
    "<div style=\"height:350px;padding:10px;background:#eeeeee;\">\n",
    "<h1 align=\"center\">Next: objects and methods\n",
    "</h1>\n",
    "<ul>\n",
    "<li><h2>We have seen some simple types such as, <code>int</code>,  <code>float</code>,  <code>bool</code>, and functions like <code>math.sqrt</code> that operate on them\n",
    "</h2>\n",
    "<li><h2>A list is something different, an example of an <em>object</em>\n",
    "</h2>\n",
    "<ul>\n",
    "  <li><h3>Part of its definition is a collection of functions, called <em>methods</em>, that operate on the list <em>itself</em>\n",
    "  </h3>\n",
    "    <li><h3>Methods are invoked using a \"dot\" notation (looks similar to qualifying with a module name)\n",
    "  </h3>\n",
    "  </ul>\n",
    "</ul>\n",
    "</div>"
   ]
  },
  {
   "cell_type": "markdown",
   "metadata": {},
   "source": [
    "### *Examples of list methods*"
   ]
  },
  {
   "cell_type": "code",
   "execution_count": 21,
   "metadata": {},
   "outputs": [
    {
     "data": {
      "text/plain": [
       "[43, 17, 67, 32, 86, 79, 18, 137]"
      ]
     },
     "execution_count": 21,
     "metadata": {},
     "output_type": "execute_result"
    }
   ],
   "source": [
    "# Use a method to append a new element to this list\n",
    "my_list.append(137)\n",
    "#append(137)\n",
    "my_list"
   ]
  },
  {
   "cell_type": "code",
   "execution_count": 87,
   "metadata": {},
   "outputs": [
    {
     "name": "stdout",
     "output_type": "stream",
     "text": [
      "None\n"
     ]
    }
   ],
   "source": [
    "# Another useful method that modifies the list\n",
    "print(my_list.sort())"
   ]
  },
  {
   "cell_type": "code",
   "execution_count": 23,
   "metadata": {},
   "outputs": [
    {
     "data": {
      "text/plain": [
       "8"
      ]
     },
     "execution_count": 23,
     "metadata": {},
     "output_type": "execute_result"
    }
   ],
   "source": [
    "# By contrast, getting the length is a call to a built-in function\n",
    "len(my_list)"
   ]
  },
  {
   "cell_type": "code",
   "execution_count": 20,
   "metadata": {},
   "outputs": [
    {
     "data": {
      "text/plain": [
       "list"
      ]
     },
     "execution_count": 20,
     "metadata": {},
     "output_type": "execute_result"
    }
   ],
   "source": [
    "# What is the type of a list?\n",
    "my_list = [43, 17, 67, 32, 86, 79, 18]\n",
    "type(my_list)"
   ]
  },
  {
   "cell_type": "markdown",
   "metadata": {},
   "source": [
    "### *Some indexing/slicing examples, while we're at it*"
   ]
  },
  {
   "cell_type": "code",
   "execution_count": 24,
   "metadata": {},
   "outputs": [
    {
     "name": "stdout",
     "output_type": "stream",
     "text": [
      "17\n",
      "137\n",
      "137\n",
      "86\n"
     ]
    }
   ],
   "source": [
    "\n",
    "# Individual elements can be accessed by index\n",
    "print(my_list[0])\n",
    "print(my_list[7])\n",
    "\n",
    "# Negative values count from the end!\n",
    "print(my_list[-1])\n",
    "print(my_list[-2])\n",
    "\n",
    "# Out of range index is an error\n",
    "#print(my_list[8])"
   ]
  },
  {
   "cell_type": "code",
   "execution_count": 25,
   "metadata": {},
   "outputs": [
    {
     "data": {
      "text/plain": [
       "[32, 43, 67]"
      ]
     },
     "execution_count": 25,
     "metadata": {},
     "output_type": "execute_result"
    }
   ],
   "source": [
    "# Can use a range of indices to get a \"slice\"\n",
    "# This gives us elements at indices 2, 3, and 4 (upper bound not included)\n",
    "my_list[2:5]"
   ]
  },
  {
   "cell_type": "code",
   "execution_count": 132,
   "metadata": {},
   "outputs": [
    {
     "data": {
      "text/plain": [
       "[32, 86, 79, 18]"
      ]
     },
     "execution_count": 132,
     "metadata": {},
     "output_type": "execute_result"
    }
   ],
   "source": [
    "# This is everything from index 3 up to the end\n",
    "my_list[3:]"
   ]
  },
  {
   "cell_type": "markdown",
   "metadata": {},
   "source": [
    "<div style=\"height:350px;padding:10px;background:#eeeeee;\">\n",
    "<h1 align=\"center\">Strings are objects too\n",
    "</h1>\n",
    "<ul>\n",
    "<li><h2>A string is indexed like a list of characters, but it is <em>immutable</em>\n",
    "</h2>\n",
    "<li><h2>Has methods specific to text such as `upper()`, `lower()`, `strip()`\n",
    "</h2>\n",
    "<li><h2>One very useful method is `split()` (returns a list of strings)\n",
    "</h2>\n",
    "</ul>\n",
    "</div>"
   ]
  },
  {
   "cell_type": "markdown",
   "metadata": {},
   "source": [
    "### *Example: strings are immutable*"
   ]
  },
  {
   "cell_type": "code",
   "execution_count": 84,
   "metadata": {},
   "outputs": [
    {
     "name": "stdout",
     "output_type": "stream",
     "text": [
      "STEVE\n",
      "Steve\n"
     ]
    }
   ],
   "source": [
    "s = \"Steve\"\n",
    "t = s.upper()\n",
    "print(t)\n",
    "\n",
    "# Note s is unchanged\n",
    "print(s)  "
   ]
  },
  {
   "cell_type": "markdown",
   "metadata": {},
   "source": [
    "### *Example: using the `split()` method*"
   ]
  },
  {
   "cell_type": "code",
   "execution_count": 131,
   "metadata": {},
   "outputs": [
    {
     "data": {
      "text/plain": [
       "'294-4183'"
      ]
     },
     "execution_count": 131,
     "metadata": {},
     "output_type": "execute_result"
    }
   ],
   "source": [
    "# A string of comma-separated tokens\n",
    "s = \"Kautz, Steve, Senior Lecturer, Atanasoff, 101, 294, 4183\"\n",
    "\n",
    "# Grab the last two items and concatenate them together\n",
    "values = s.split(\",\")\n",
    "#values\n",
    "phone = values[-2].strip() + \"-\" + values[-1].strip()\n",
    "phone"
   ]
  },
  {
   "cell_type": "markdown",
   "metadata": {},
   "source": [
    "<div style=\"height:350px;padding:10px;background:#eeeeee;\">\n",
    "<h1 align=\"center\">Try it\n",
    "</h1>\n",
    "<ul>\n",
    "<li><h2>Write a function that finds the average of a list of numbers\n",
    "</h2>\n",
    "<li><h2>Write a function that finds the average length in a list of strings\n",
    "</h2>\n",
    "<li><h2>Write a function that, given a string of text, finds the longest \"word\"\n",
    "</h2>\n",
    "<ul>\n",
    "  <li><h3>Tip - the <code>len</code> function works for strings too\n",
    "  </h3>\n",
    "  </ul>\n",
    "</ul>\n",
    "</div>"
   ]
  },
  {
   "cell_type": "code",
   "execution_count": 92,
   "metadata": {},
   "outputs": [
    {
     "data": {
      "text/plain": [
       "2.5"
      ]
     },
     "execution_count": 92,
     "metadata": {},
     "output_type": "execute_result"
    }
   ],
   "source": [
    "def find_average(lst):\n",
    "    total = 0\n",
    "    for num in lst:\n",
    "        total = total + num\n",
    "    return total / len(lst)\n",
    "\n",
    "test = [1, 2, 3, 4]\n",
    "find_average(test)"
   ]
  },
  {
   "cell_type": "code",
   "execution_count": 139,
   "metadata": {},
   "outputs": [
    {
     "data": {
      "text/plain": [
       "2.5"
      ]
     },
     "execution_count": 139,
     "metadata": {},
     "output_type": "execute_result"
    }
   ],
   "source": [
    "def find_average_string_length(lst):\n",
    "    total = 0\n",
    "    for s in lst:\n",
    "        total = total + len(s)\n",
    "    return total / len(lst)\n",
    "\n",
    "test = [\"a\", \"if\", \"for\", \"pear\"]\n",
    "find_average_string_length(test)"
   ]
  },
  {
   "cell_type": "code",
   "execution_count": 100,
   "metadata": {},
   "outputs": [
    {
     "data": {
      "text/plain": [
       "2.5"
      ]
     },
     "execution_count": 100,
     "metadata": {},
     "output_type": "execute_result"
    }
   ],
   "source": [
    "# Using a \"list comprehension\" to convert the list of strings to a list of lengths\n",
    "find_average([len(s) for s in test])"
   ]
  },
  {
   "cell_type": "code",
   "execution_count": 140,
   "metadata": {},
   "outputs": [
    {
     "data": {
      "text/plain": [
       "'thanks'"
      ]
     },
     "execution_count": 140,
     "metadata": {},
     "output_type": "execute_result"
    }
   ],
   "source": [
    "def find_longest_word(text):\n",
    "    words = text.split(\" \")\n",
    "    longest = words[0]\n",
    "    for w in words:\n",
    "        if len(w) > len(longest):\n",
    "            longest = w\n",
    "    return longest   \n",
    "\n",
    "test = \"so long and thanks for all the fish\"\n",
    "find_max_word(test)\n"
   ]
  },
  {
   "cell_type": "markdown",
   "metadata": {},
   "source": [
    "<div style=\"height:350px;padding:10px;background:#eeeeee;\">\n",
    "<h1 align=\"center\">Dictionaries and sets\n",
    "</h1>\n",
    "<ul>\n",
    "<li><h2>A list is sequential: it associates integer indices with values\n",
    "</h2>\n",
    "<li><h2>A <em>dictionary</em> associates arbitrary keys to values\n",
    "</h2>\n",
    "<ul>\n",
    "  <li><h3>A <em>set</em> is just a dictionary in which keys have no associated value (all you care about is whether or not the key is present)\n",
    "  </h3>\n",
    "\n",
    "  </ul>\n",
    "<li><h2>Looking up an item in a set or dictionary is generally much faster than searching for it in a list\n",
    "</h2>\n",
    "</ul>\n",
    "</div>"
   ]
  },
  {
   "cell_type": "markdown",
   "metadata": {},
   "source": [
    "### *Example: a dictionary*"
   ]
  },
  {
   "cell_type": "code",
   "execution_count": 29,
   "metadata": {},
   "outputs": [
    {
     "name": "stdout",
     "output_type": "stream",
     "text": [
      "{'Steve': 4183, 'Hridesh': 1234}\n",
      "\n",
      "4183\n",
      "\n",
      "True\n",
      "False\n",
      "\n",
      "Steve:4183\n",
      "Hridesh:1234\n"
     ]
    }
   ],
   "source": [
    "# Creates an empty dictionary\n",
    "d = {}\n",
    "\n",
    "# Add some key/value pairs (keys don't have to be strings)\n",
    "d[\"Steve\"] = 4183\n",
    "d[\"Hridesh\"] = 1234\n",
    "\n",
    "# Literal notation for dictionary\n",
    "print(d)\n",
    "print()\n",
    "\n",
    "# Looking up values\n",
    "print(d[\"Steve\"])\n",
    "print()\n",
    "\n",
    "# Check membership of some keys\n",
    "print(\"Steve\" in d)\n",
    "print(\"James\" in d)\n",
    "print()\n",
    "\n",
    "# Iterate over keys (order is arbitrary)\n",
    "for key in d:\n",
    "    print(key + \":\" + str(d[key]))\n",
    "\n"
   ]
  },
  {
   "cell_type": "markdown",
   "metadata": {
    "collapsed": true
   },
   "source": [
    "<div style=\"height:360px;padding:10px;background:#eeeeee;\">\n",
    "<h1 align=\"center\">Reading text files</h1>\n",
    "<pre>\n",
    "f = open(\"path/to/file\")\n",
    "for line in f:\n",
    "    # do something with the line\n",
    "f.close()\n",
    "</pre>\n",
    "\n",
    "<pre>\n",
    "f = open(\"path/to/file\")\n",
    "lines = f.readlines()\n",
    "f.close()\n",
    "for line in lines:\n",
    "    # do something with the line\n",
    "\n",
    "</pre>\n",
    "<ul><li><h3>The latter is more flexible; e.g., can ignore every other line or skip the first line\n",
    "</h3>\n",
    "</ul>\n",
    "<pre>\n",
    "    # skips the first line\n",
    "    for line in lines[1:]:\n",
    "</pre>\n",
    "</div>"
   ]
  },
  {
   "cell_type": "markdown",
   "metadata": {},
   "source": [
    "<h3><em>File-reading example - for this to work, the tips.csv file needs to be in the <strong>current directory</strong> for the notebook (check using `pwd`)</em>.\n",
    "<h4>Remember the file came from <br>\n",
    "<a href=\"https://github.com/heike/summerschool-2017/tree/master/01-Introduction-to-R/data\">\n",
    "https://github.com/heike/summerschool-2017/tree/master/01-Introduction-to-R/data</a></h4>"
   ]
  },
  {
   "cell_type": "code",
   "execution_count": 109,
   "metadata": {},
   "outputs": [
    {
     "name": "stdout",
     "output_type": "stream",
     "text": [
      "\"total_bill\",\"tip\",\"sex\",\"smoker\",\"day\",\"time\",\"size\"\n",
      "16.99,1.01,\"Female\",\"No\",\"Sun\",\"Dinner\",2\n",
      "10.34,1.66,\"Male\",\"No\",\"Sun\",\"Dinner\",3\n",
      "21.01,3.5,\"Male\",\"No\",\"Sun\",\"Dinner\",3\n",
      "23.68,3.31,\"Male\",\"No\",\"Sun\",\"Dinner\",2\n"
     ]
    }
   ],
   "source": [
    "# Open the tips.csv file and just print the first 5 lines\n",
    "f = open(\"tips.csv\")\n",
    "lines = f.readlines()\n",
    "for line in lines[:5]:\n",
    "    print(line, end=\"\")\n",
    "f.close()"
   ]
  },
  {
   "cell_type": "markdown",
   "metadata": {},
   "source": [
    "<div style=\"height:350px;padding:10px;background:#eeeeee;\">\n",
    "<h1 align=\"center\">What if the file isn't in the current directory?\n",
    "</h1>\n",
    "<ul>\n",
    "<li><h2>Change the working directory?\n",
    "</h2>\n",
    "<ul>\n",
    "  <li><h3>Jupyter allows <code>pwd</code>, <code>cd</code>\n",
    "  </h3>\n",
    "  </ul>\n",
    "<li><h2>Provide an absolute or relative path to the file?\n",
    "</h2>\n",
    "\n",
    "</ul>\n",
    "<h2>(<code>open()</code> can also fail because of file permissions, network connections, ...)\n",
    "</h2>\n",
    "</div>"
   ]
  },
  {
   "cell_type": "markdown",
   "metadata": {},
   "source": [
    "### *More file-reading examples*"
   ]
  },
  {
   "cell_type": "code",
   "execution_count": 163,
   "metadata": {},
   "outputs": [
    {
     "data": {
      "text/plain": [
       "0.16649073632892475"
      ]
     },
     "execution_count": 163,
     "metadata": {},
     "output_type": "execute_result"
    }
   ],
   "source": [
    "# Find the average tip rate for women\n",
    "\n",
    "# Note: There is a little \"gotcha\" here, which is that in the csv file, the string indicating\n",
    "# the sex of the tipper actually includes the double-quote characters, so we have to\n",
    "# strip them off \n",
    "\n",
    "f = open(\"tips.csv\")\n",
    "lines = f.readlines()\n",
    "total = 0.0\n",
    "count = 0\n",
    "\n",
    "for line in lines[1:]:\n",
    "    tokens = line.split(',')\n",
    "    sex = tokens[2]\n",
    "    sex = sex[1:-1]    # strip off the quotation marks\n",
    "    if sex == 'Female':\n",
    "        bill = float(tokens[0])  # convert text to number\n",
    "        tip = float(tokens[1])\n",
    "        rate = tip / bill\n",
    "        total += rate   # abbreviates total = total + rate\n",
    "        count += 1      # abbreviates count = count + 1\n",
    "f.close()\n",
    "\n",
    "mean = total / count\n",
    "mean\n"
   ]
  },
  {
   "cell_type": "markdown",
   "metadata": {
    "collapsed": true
   },
   "source": [
    "<div style=\"height:350px;padding:10px;background:#eeeeee;\">\n",
    "<h1 align=\"center\">Using the pandas module</h1>\n",
    "</h1>\n",
    "<ul>\n",
    "<li><h2>More sophisticated data structures (Series, DataFrame)\n",
    "</h2>\n",
    "<li><h2>Wrappers for then <code>numpy</code> and <code>mathplotlib</code> modules\n",
    "</h2>\n",
    "<li><h2>See\n",
    "</h2>\n",
    "<ul>\n",
    "  <li><h3><a href=\"http://www.oreilly.com/pub/e/2412\">Python for Data Analysis</a> - webcast by Wes McKinney\n",
    "  </h3>\n",
    "  <li><h3><a href=\"https://pandas.pydata.org/pandas-docs/stable/index.html\">pandas Documentation</a>\n",
    "  </h3>\n",
    "  </ul>\n",
    "<li><h3>What follows is a very brief demo of what's possible with this library using very little programming\n",
    "</h3>\n",
    "<li><h3><em>Disclaimer: I know just enough about this to be really, really dangerous</em>\n",
    "</h3>\n",
    "</ul>\n",
    "</div>"
   ]
  },
  {
   "cell_type": "code",
   "execution_count": 32,
   "metadata": {
    "collapsed": true
   },
   "outputs": [],
   "source": [
    "# ipython Magic\n",
    "%matplotlib notebook\n",
    "\n",
    "import pandas as pd\n",
    "import numpy as np\n",
    "import matplotlib.pyplot as plt"
   ]
  },
  {
   "cell_type": "markdown",
   "metadata": {},
   "source": [
    "### *A Series is a linear data structure like a list or array, but values can have associated labels*"
   ]
  },
  {
   "cell_type": "code",
   "execution_count": 144,
   "metadata": {},
   "outputs": [
    {
     "data": {
      "text/plain": [
       "a    2\n",
       "b    4\n",
       "c    6\n",
       "d    8\n",
       "dtype: int64"
      ]
     },
     "execution_count": 144,
     "metadata": {},
     "output_type": "execute_result"
    }
   ],
   "source": [
    "data = [2, 4, 6, 8]\n",
    "index = ['a', 'b', 'c', 'd']\n",
    "ser = pd.Series(data, index)\n",
    "ser"
   ]
  },
  {
   "cell_type": "markdown",
   "metadata": {},
   "source": [
    "### *Arithmetic operations can be performed in the aggregate*"
   ]
  },
  {
   "cell_type": "code",
   "execution_count": 145,
   "metadata": {},
   "outputs": [
    {
     "data": {
      "text/plain": [
       "a     4\n",
       "b     8\n",
       "c    12\n",
       "d    16\n",
       "dtype: int64"
      ]
     },
     "execution_count": 145,
     "metadata": {},
     "output_type": "execute_result"
    }
   ],
   "source": [
    "ser * 2"
   ]
  },
  {
   "cell_type": "markdown",
   "metadata": {},
   "source": [
    "### *There are lots of statistical methods too*"
   ]
  },
  {
   "cell_type": "code",
   "execution_count": 115,
   "metadata": {},
   "outputs": [
    {
     "data": {
      "text/plain": [
       "5.0"
      ]
     },
     "execution_count": 115,
     "metadata": {},
     "output_type": "execute_result"
    }
   ],
   "source": [
    "s.mean()"
   ]
  },
  {
   "cell_type": "code",
   "execution_count": null,
   "metadata": {
    "collapsed": true
   },
   "outputs": [],
   "source": [
    "### *When operations are performed on two Series objects, values are aligned by the labels*"
   ]
  },
  {
   "cell_type": "code",
   "execution_count": 147,
   "metadata": {},
   "outputs": [
    {
     "data": {
      "text/plain": [
       "a    32\n",
       "b    24\n",
       "c    16\n",
       "d    48\n",
       "dtype: int64"
      ]
     },
     "execution_count": 147,
     "metadata": {},
     "output_type": "execute_result"
    }
   ],
   "source": [
    "\n",
    "data2 = [10, 20, 30, 40]\n",
    "index2 = ['c', 'b', 'a', 'd']\n",
    "ser2 = pd.Series(data2, index2)\n",
    "\n",
    "# Add corresponding values\n",
    "ser + ser2"
   ]
  },
  {
   "cell_type": "markdown",
   "metadata": {},
   "source": [
    "### *A DataFrame is like a spreadsheet, with rows and columns and possible row and column labels. We can create a DataFrame in several ways, but the most obvious is to read data from a file such as a csv file*"
   ]
  },
  {
   "cell_type": "code",
   "execution_count": 135,
   "metadata": {},
   "outputs": [
    {
     "data": {
      "text/plain": [
       "pandas.core.frame.DataFrame"
      ]
     },
     "execution_count": 135,
     "metadata": {},
     "output_type": "execute_result"
    }
   ],
   "source": [
    "df = pd.read_csv('tips.csv')\n",
    "type(df)"
   ]
  },
  {
   "cell_type": "markdown",
   "metadata": {},
   "source": [
    "### *Examine the first few lines*"
   ]
  },
  {
   "cell_type": "code",
   "execution_count": 148,
   "metadata": {},
   "outputs": [
    {
     "data": {
      "text/html": [
       "<div>\n",
       "<style>\n",
       "    .dataframe thead tr:only-child th {\n",
       "        text-align: right;\n",
       "    }\n",
       "\n",
       "    .dataframe thead th {\n",
       "        text-align: left;\n",
       "    }\n",
       "\n",
       "    .dataframe tbody tr th {\n",
       "        vertical-align: top;\n",
       "    }\n",
       "</style>\n",
       "<table border=\"1\" class=\"dataframe\">\n",
       "  <thead>\n",
       "    <tr style=\"text-align: right;\">\n",
       "      <th></th>\n",
       "      <th>total_bill</th>\n",
       "      <th>tip</th>\n",
       "      <th>sex</th>\n",
       "      <th>smoker</th>\n",
       "      <th>day</th>\n",
       "      <th>time</th>\n",
       "      <th>size</th>\n",
       "    </tr>\n",
       "  </thead>\n",
       "  <tbody>\n",
       "    <tr>\n",
       "      <th>0</th>\n",
       "      <td>16.99</td>\n",
       "      <td>1.01</td>\n",
       "      <td>Female</td>\n",
       "      <td>No</td>\n",
       "      <td>Sun</td>\n",
       "      <td>Dinner</td>\n",
       "      <td>2</td>\n",
       "    </tr>\n",
       "    <tr>\n",
       "      <th>1</th>\n",
       "      <td>10.34</td>\n",
       "      <td>1.66</td>\n",
       "      <td>Male</td>\n",
       "      <td>No</td>\n",
       "      <td>Sun</td>\n",
       "      <td>Dinner</td>\n",
       "      <td>3</td>\n",
       "    </tr>\n",
       "    <tr>\n",
       "      <th>2</th>\n",
       "      <td>21.01</td>\n",
       "      <td>3.50</td>\n",
       "      <td>Male</td>\n",
       "      <td>No</td>\n",
       "      <td>Sun</td>\n",
       "      <td>Dinner</td>\n",
       "      <td>3</td>\n",
       "    </tr>\n",
       "    <tr>\n",
       "      <th>3</th>\n",
       "      <td>23.68</td>\n",
       "      <td>3.31</td>\n",
       "      <td>Male</td>\n",
       "      <td>No</td>\n",
       "      <td>Sun</td>\n",
       "      <td>Dinner</td>\n",
       "      <td>2</td>\n",
       "    </tr>\n",
       "    <tr>\n",
       "      <th>4</th>\n",
       "      <td>24.59</td>\n",
       "      <td>3.61</td>\n",
       "      <td>Female</td>\n",
       "      <td>No</td>\n",
       "      <td>Sun</td>\n",
       "      <td>Dinner</td>\n",
       "      <td>4</td>\n",
       "    </tr>\n",
       "  </tbody>\n",
       "</table>\n",
       "</div>"
      ],
      "text/plain": [
       "   total_bill   tip     sex smoker  day    time  size\n",
       "0       16.99  1.01  Female     No  Sun  Dinner     2\n",
       "1       10.34  1.66    Male     No  Sun  Dinner     3\n",
       "2       21.01  3.50    Male     No  Sun  Dinner     3\n",
       "3       23.68  3.31    Male     No  Sun  Dinner     2\n",
       "4       24.59  3.61  Female     No  Sun  Dinner     4"
      ]
     },
     "execution_count": 148,
     "metadata": {},
     "output_type": "execute_result"
    }
   ],
   "source": [
    "df.head()"
   ]
  },
  {
   "cell_type": "markdown",
   "metadata": {},
   "source": [
    "### *A DataFrame acts like a dictionary mapping column labels to a Series, so we can select one column using the column label as a \"key\"*"
   ]
  },
  {
   "cell_type": "code",
   "execution_count": 42,
   "metadata": {},
   "outputs": [
    {
     "data": {
      "text/plain": [
       "pandas.core.series.Series"
      ]
     },
     "execution_count": 42,
     "metadata": {},
     "output_type": "execute_result"
    }
   ],
   "source": [
    "type(df['total_bill'])"
   ]
  },
  {
   "cell_type": "code",
   "execution_count": 46,
   "metadata": {},
   "outputs": [
    {
     "data": {
      "text/plain": [
       "0    16.99\n",
       "1    10.34\n",
       "2    21.01\n",
       "3    23.68\n",
       "4    24.59\n",
       "Name: total_bill, dtype: float64"
      ]
     },
     "execution_count": 46,
     "metadata": {},
     "output_type": "execute_result"
    }
   ],
   "source": [
    "df['total_bill'].head()"
   ]
  },
  {
   "cell_type": "markdown",
   "metadata": {},
   "source": [
    "### *We can add a new column for the tip rate, computed from existing columns*"
   ]
  },
  {
   "cell_type": "code",
   "execution_count": 152,
   "metadata": {
    "collapsed": true
   },
   "outputs": [],
   "source": [
    "# Add a new column\n",
    "df['rate'] = df['tip'] / df['total_bill']"
   ]
  },
  {
   "cell_type": "markdown",
   "metadata": {},
   "source": [
    "### *It's possible to delete a column too.  (If you accidentally do it twice, it will generate an error.)*"
   ]
  },
  {
   "cell_type": "code",
   "execution_count": 150,
   "metadata": {
    "collapsed": true
   },
   "outputs": [],
   "source": [
    "# can delete a column too (doing it twice is an error!)\n",
    "del df['time']\n"
   ]
  },
  {
   "cell_type": "code",
   "execution_count": 153,
   "metadata": {},
   "outputs": [
    {
     "data": {
      "text/html": [
       "<div>\n",
       "<style>\n",
       "    .dataframe thead tr:only-child th {\n",
       "        text-align: right;\n",
       "    }\n",
       "\n",
       "    .dataframe thead th {\n",
       "        text-align: left;\n",
       "    }\n",
       "\n",
       "    .dataframe tbody tr th {\n",
       "        vertical-align: top;\n",
       "    }\n",
       "</style>\n",
       "<table border=\"1\" class=\"dataframe\">\n",
       "  <thead>\n",
       "    <tr style=\"text-align: right;\">\n",
       "      <th></th>\n",
       "      <th>total_bill</th>\n",
       "      <th>tip</th>\n",
       "      <th>sex</th>\n",
       "      <th>smoker</th>\n",
       "      <th>day</th>\n",
       "      <th>size</th>\n",
       "      <th>rate</th>\n",
       "    </tr>\n",
       "  </thead>\n",
       "  <tbody>\n",
       "    <tr>\n",
       "      <th>0</th>\n",
       "      <td>16.99</td>\n",
       "      <td>1.01</td>\n",
       "      <td>Female</td>\n",
       "      <td>No</td>\n",
       "      <td>Sun</td>\n",
       "      <td>2</td>\n",
       "      <td>0.059447</td>\n",
       "    </tr>\n",
       "    <tr>\n",
       "      <th>1</th>\n",
       "      <td>10.34</td>\n",
       "      <td>1.66</td>\n",
       "      <td>Male</td>\n",
       "      <td>No</td>\n",
       "      <td>Sun</td>\n",
       "      <td>3</td>\n",
       "      <td>0.160542</td>\n",
       "    </tr>\n",
       "    <tr>\n",
       "      <th>2</th>\n",
       "      <td>21.01</td>\n",
       "      <td>3.50</td>\n",
       "      <td>Male</td>\n",
       "      <td>No</td>\n",
       "      <td>Sun</td>\n",
       "      <td>3</td>\n",
       "      <td>0.166587</td>\n",
       "    </tr>\n",
       "    <tr>\n",
       "      <th>3</th>\n",
       "      <td>23.68</td>\n",
       "      <td>3.31</td>\n",
       "      <td>Male</td>\n",
       "      <td>No</td>\n",
       "      <td>Sun</td>\n",
       "      <td>2</td>\n",
       "      <td>0.139780</td>\n",
       "    </tr>\n",
       "    <tr>\n",
       "      <th>4</th>\n",
       "      <td>24.59</td>\n",
       "      <td>3.61</td>\n",
       "      <td>Female</td>\n",
       "      <td>No</td>\n",
       "      <td>Sun</td>\n",
       "      <td>4</td>\n",
       "      <td>0.146808</td>\n",
       "    </tr>\n",
       "  </tbody>\n",
       "</table>\n",
       "</div>"
      ],
      "text/plain": [
       "   total_bill   tip     sex smoker  day  size      rate\n",
       "0       16.99  1.01  Female     No  Sun     2  0.059447\n",
       "1       10.34  1.66    Male     No  Sun     3  0.160542\n",
       "2       21.01  3.50    Male     No  Sun     3  0.166587\n",
       "3       23.68  3.31    Male     No  Sun     2  0.139780\n",
       "4       24.59  3.61  Female     No  Sun     4  0.146808"
      ]
     },
     "execution_count": 153,
     "metadata": {},
     "output_type": "execute_result"
    }
   ],
   "source": [
    "df.head()"
   ]
  },
  {
   "cell_type": "markdown",
   "metadata": {},
   "source": [
    "### *Applying a method to one column*"
   ]
  },
  {
   "cell_type": "code",
   "execution_count": 122,
   "metadata": {
    "scrolled": true
   },
   "outputs": [
    {
     "data": {
      "text/plain": [
       "2.9982786885245902"
      ]
     },
     "execution_count": 122,
     "metadata": {},
     "output_type": "execute_result"
    }
   ],
   "source": [
    "# mean of a column\n",
    "df['tip'].mean()"
   ]
  },
  {
   "cell_type": "code",
   "execution_count": 47,
   "metadata": {},
   "outputs": [
    {
     "data": {
      "text/plain": [
       "2.9982786885245902"
      ]
     },
     "execution_count": 47,
     "metadata": {},
     "output_type": "execute_result"
    }
   ],
   "source": [
    "# simpler notation\n",
    "df.tip.mean()"
   ]
  },
  {
   "cell_type": "markdown",
   "metadata": {},
   "source": [
    "### *Applying a method to the whole DataFrame applies it to each column, and returns a Series containing the values.  Here, the non-numeric columns are omitted.*"
   ]
  },
  {
   "cell_type": "code",
   "execution_count": 154,
   "metadata": {},
   "outputs": [
    {
     "data": {
      "text/plain": [
       "total_bill    19.785943\n",
       "tip            2.998279\n",
       "size           2.569672\n",
       "rate           0.160803\n",
       "dtype: float64"
      ]
     },
     "execution_count": 154,
     "metadata": {},
     "output_type": "execute_result"
    }
   ],
   "source": [
    "df.mean()"
   ]
  },
  {
   "cell_type": "markdown",
   "metadata": {},
   "source": [
    "### *A boolean operation returns a series that can be used to select a subset of the rows*"
   ]
  },
  {
   "cell_type": "code",
   "execution_count": 157,
   "metadata": {},
   "outputs": [
    {
     "data": {
      "text/plain": [
       "0     True\n",
       "1    False\n",
       "2    False\n",
       "3    False\n",
       "4     True\n",
       "Name: sex, dtype: bool"
      ]
     },
     "execution_count": 157,
     "metadata": {},
     "output_type": "execute_result"
    }
   ],
   "source": [
    "# This is a series that is essentially a boolean vector\n",
    "ser = (df.sex == 'Female')\n",
    "ser.head()\n"
   ]
  },
  {
   "cell_type": "code",
   "execution_count": 159,
   "metadata": {},
   "outputs": [
    {
     "data": {
      "text/html": [
       "<div>\n",
       "<style>\n",
       "    .dataframe thead tr:only-child th {\n",
       "        text-align: right;\n",
       "    }\n",
       "\n",
       "    .dataframe thead th {\n",
       "        text-align: left;\n",
       "    }\n",
       "\n",
       "    .dataframe tbody tr th {\n",
       "        vertical-align: top;\n",
       "    }\n",
       "</style>\n",
       "<table border=\"1\" class=\"dataframe\">\n",
       "  <thead>\n",
       "    <tr style=\"text-align: right;\">\n",
       "      <th></th>\n",
       "      <th>total_bill</th>\n",
       "      <th>tip</th>\n",
       "      <th>sex</th>\n",
       "      <th>smoker</th>\n",
       "      <th>day</th>\n",
       "      <th>size</th>\n",
       "      <th>rate</th>\n",
       "    </tr>\n",
       "  </thead>\n",
       "  <tbody>\n",
       "    <tr>\n",
       "      <th>0</th>\n",
       "      <td>16.99</td>\n",
       "      <td>1.01</td>\n",
       "      <td>Female</td>\n",
       "      <td>No</td>\n",
       "      <td>Sun</td>\n",
       "      <td>2</td>\n",
       "      <td>0.059447</td>\n",
       "    </tr>\n",
       "    <tr>\n",
       "      <th>4</th>\n",
       "      <td>24.59</td>\n",
       "      <td>3.61</td>\n",
       "      <td>Female</td>\n",
       "      <td>No</td>\n",
       "      <td>Sun</td>\n",
       "      <td>4</td>\n",
       "      <td>0.146808</td>\n",
       "    </tr>\n",
       "    <tr>\n",
       "      <th>11</th>\n",
       "      <td>35.26</td>\n",
       "      <td>5.00</td>\n",
       "      <td>Female</td>\n",
       "      <td>No</td>\n",
       "      <td>Sun</td>\n",
       "      <td>4</td>\n",
       "      <td>0.141804</td>\n",
       "    </tr>\n",
       "    <tr>\n",
       "      <th>14</th>\n",
       "      <td>14.83</td>\n",
       "      <td>3.02</td>\n",
       "      <td>Female</td>\n",
       "      <td>No</td>\n",
       "      <td>Sun</td>\n",
       "      <td>2</td>\n",
       "      <td>0.203641</td>\n",
       "    </tr>\n",
       "    <tr>\n",
       "      <th>16</th>\n",
       "      <td>10.33</td>\n",
       "      <td>1.67</td>\n",
       "      <td>Female</td>\n",
       "      <td>No</td>\n",
       "      <td>Sun</td>\n",
       "      <td>3</td>\n",
       "      <td>0.161665</td>\n",
       "    </tr>\n",
       "  </tbody>\n",
       "</table>\n",
       "</div>"
      ],
      "text/plain": [
       "    total_bill   tip     sex smoker  day  size      rate\n",
       "0        16.99  1.01  Female     No  Sun     2  0.059447\n",
       "4        24.59  3.61  Female     No  Sun     4  0.146808\n",
       "11       35.26  5.00  Female     No  Sun     4  0.141804\n",
       "14       14.83  3.02  Female     No  Sun     2  0.203641\n",
       "16       10.33  1.67  Female     No  Sun     3  0.161665"
      ]
     },
     "execution_count": 159,
     "metadata": {},
     "output_type": "execute_result"
    }
   ],
   "source": [
    "# Can select from dataframe based on boolean vector\n",
    "women = df[df.sex == 'Female']\n",
    "women.head()"
   ]
  },
  {
   "cell_type": "code",
   "execution_count": 160,
   "metadata": {},
   "outputs": [
    {
     "data": {
      "text/plain": [
       "0.16649073632892475"
      ]
     },
     "execution_count": 160,
     "metadata": {},
     "output_type": "execute_result"
    }
   ],
   "source": [
    "women.rate.mean()"
   ]
  },
  {
   "cell_type": "markdown",
   "metadata": {},
   "source": [
    "### *The* `groupby` *method is another way to get the tip rate for women*"
   ]
  },
  {
   "cell_type": "code",
   "execution_count": 161,
   "metadata": {},
   "outputs": [
    {
     "data": {
      "text/plain": [
       "sex\n",
       "Female    0.166491\n",
       "Male      0.157651\n",
       "Name: rate, dtype: float64"
      ]
     },
     "execution_count": 161,
     "metadata": {},
     "output_type": "execute_result"
    }
   ],
   "source": [
    "s = df.groupby('sex').rate.mean()\n",
    "s"
   ]
  },
  {
   "cell_type": "markdown",
   "metadata": {},
   "source": [
    "### *The* `plot` *method is a wrapper for the corresponding operation of* `matplotlib`. *Here is one simple example.  See<br> http://pandas.pydata.org/pandas-docs/version/0.15.0/visualization.html\n"
   ]
  },
  {
   "cell_type": "code",
   "execution_count": 162,
   "metadata": {},
   "outputs": [
    {
     "data": {
      "application/javascript": [
       "/* Put everything inside the global mpl namespace */\n",
       "window.mpl = {};\n",
       "\n",
       "\n",
       "mpl.get_websocket_type = function() {\n",
       "    if (typeof(WebSocket) !== 'undefined') {\n",
       "        return WebSocket;\n",
       "    } else if (typeof(MozWebSocket) !== 'undefined') {\n",
       "        return MozWebSocket;\n",
       "    } else {\n",
       "        alert('Your browser does not have WebSocket support.' +\n",
       "              'Please try Chrome, Safari or Firefox ≥ 6. ' +\n",
       "              'Firefox 4 and 5 are also supported but you ' +\n",
       "              'have to enable WebSockets in about:config.');\n",
       "    };\n",
       "}\n",
       "\n",
       "mpl.figure = function(figure_id, websocket, ondownload, parent_element) {\n",
       "    this.id = figure_id;\n",
       "\n",
       "    this.ws = websocket;\n",
       "\n",
       "    this.supports_binary = (this.ws.binaryType != undefined);\n",
       "\n",
       "    if (!this.supports_binary) {\n",
       "        var warnings = document.getElementById(\"mpl-warnings\");\n",
       "        if (warnings) {\n",
       "            warnings.style.display = 'block';\n",
       "            warnings.textContent = (\n",
       "                \"This browser does not support binary websocket messages. \" +\n",
       "                    \"Performance may be slow.\");\n",
       "        }\n",
       "    }\n",
       "\n",
       "    this.imageObj = new Image();\n",
       "\n",
       "    this.context = undefined;\n",
       "    this.message = undefined;\n",
       "    this.canvas = undefined;\n",
       "    this.rubberband_canvas = undefined;\n",
       "    this.rubberband_context = undefined;\n",
       "    this.format_dropdown = undefined;\n",
       "\n",
       "    this.image_mode = 'full';\n",
       "\n",
       "    this.root = $('<div/>');\n",
       "    this._root_extra_style(this.root)\n",
       "    this.root.attr('style', 'display: inline-block');\n",
       "\n",
       "    $(parent_element).append(this.root);\n",
       "\n",
       "    this._init_header(this);\n",
       "    this._init_canvas(this);\n",
       "    this._init_toolbar(this);\n",
       "\n",
       "    var fig = this;\n",
       "\n",
       "    this.waiting = false;\n",
       "\n",
       "    this.ws.onopen =  function () {\n",
       "            fig.send_message(\"supports_binary\", {value: fig.supports_binary});\n",
       "            fig.send_message(\"send_image_mode\", {});\n",
       "            if (mpl.ratio != 1) {\n",
       "                fig.send_message(\"set_dpi_ratio\", {'dpi_ratio': mpl.ratio});\n",
       "            }\n",
       "            fig.send_message(\"refresh\", {});\n",
       "        }\n",
       "\n",
       "    this.imageObj.onload = function() {\n",
       "            if (fig.image_mode == 'full') {\n",
       "                // Full images could contain transparency (where diff images\n",
       "                // almost always do), so we need to clear the canvas so that\n",
       "                // there is no ghosting.\n",
       "                fig.context.clearRect(0, 0, fig.canvas.width, fig.canvas.height);\n",
       "            }\n",
       "            fig.context.drawImage(fig.imageObj, 0, 0);\n",
       "        };\n",
       "\n",
       "    this.imageObj.onunload = function() {\n",
       "        this.ws.close();\n",
       "    }\n",
       "\n",
       "    this.ws.onmessage = this._make_on_message_function(this);\n",
       "\n",
       "    this.ondownload = ondownload;\n",
       "}\n",
       "\n",
       "mpl.figure.prototype._init_header = function() {\n",
       "    var titlebar = $(\n",
       "        '<div class=\"ui-dialog-titlebar ui-widget-header ui-corner-all ' +\n",
       "        'ui-helper-clearfix\"/>');\n",
       "    var titletext = $(\n",
       "        '<div class=\"ui-dialog-title\" style=\"width: 100%; ' +\n",
       "        'text-align: center; padding: 3px;\"/>');\n",
       "    titlebar.append(titletext)\n",
       "    this.root.append(titlebar);\n",
       "    this.header = titletext[0];\n",
       "}\n",
       "\n",
       "\n",
       "\n",
       "mpl.figure.prototype._canvas_extra_style = function(canvas_div) {\n",
       "\n",
       "}\n",
       "\n",
       "\n",
       "mpl.figure.prototype._root_extra_style = function(canvas_div) {\n",
       "\n",
       "}\n",
       "\n",
       "mpl.figure.prototype._init_canvas = function() {\n",
       "    var fig = this;\n",
       "\n",
       "    var canvas_div = $('<div/>');\n",
       "\n",
       "    canvas_div.attr('style', 'position: relative; clear: both; outline: 0');\n",
       "\n",
       "    function canvas_keyboard_event(event) {\n",
       "        return fig.key_event(event, event['data']);\n",
       "    }\n",
       "\n",
       "    canvas_div.keydown('key_press', canvas_keyboard_event);\n",
       "    canvas_div.keyup('key_release', canvas_keyboard_event);\n",
       "    this.canvas_div = canvas_div\n",
       "    this._canvas_extra_style(canvas_div)\n",
       "    this.root.append(canvas_div);\n",
       "\n",
       "    var canvas = $('<canvas/>');\n",
       "    canvas.addClass('mpl-canvas');\n",
       "    canvas.attr('style', \"left: 0; top: 0; z-index: 0; outline: 0\")\n",
       "\n",
       "    this.canvas = canvas[0];\n",
       "    this.context = canvas[0].getContext(\"2d\");\n",
       "\n",
       "    var backingStore = this.context.backingStorePixelRatio ||\n",
       "\tthis.context.webkitBackingStorePixelRatio ||\n",
       "\tthis.context.mozBackingStorePixelRatio ||\n",
       "\tthis.context.msBackingStorePixelRatio ||\n",
       "\tthis.context.oBackingStorePixelRatio ||\n",
       "\tthis.context.backingStorePixelRatio || 1;\n",
       "\n",
       "    mpl.ratio = (window.devicePixelRatio || 1) / backingStore;\n",
       "\n",
       "    var rubberband = $('<canvas/>');\n",
       "    rubberband.attr('style', \"position: absolute; left: 0; top: 0; z-index: 1;\")\n",
       "\n",
       "    var pass_mouse_events = true;\n",
       "\n",
       "    canvas_div.resizable({\n",
       "        start: function(event, ui) {\n",
       "            pass_mouse_events = false;\n",
       "        },\n",
       "        resize: function(event, ui) {\n",
       "            fig.request_resize(ui.size.width, ui.size.height);\n",
       "        },\n",
       "        stop: function(event, ui) {\n",
       "            pass_mouse_events = true;\n",
       "            fig.request_resize(ui.size.width, ui.size.height);\n",
       "        },\n",
       "    });\n",
       "\n",
       "    function mouse_event_fn(event) {\n",
       "        if (pass_mouse_events)\n",
       "            return fig.mouse_event(event, event['data']);\n",
       "    }\n",
       "\n",
       "    rubberband.mousedown('button_press', mouse_event_fn);\n",
       "    rubberband.mouseup('button_release', mouse_event_fn);\n",
       "    // Throttle sequential mouse events to 1 every 20ms.\n",
       "    rubberband.mousemove('motion_notify', mouse_event_fn);\n",
       "\n",
       "    rubberband.mouseenter('figure_enter', mouse_event_fn);\n",
       "    rubberband.mouseleave('figure_leave', mouse_event_fn);\n",
       "\n",
       "    canvas_div.on(\"wheel\", function (event) {\n",
       "        event = event.originalEvent;\n",
       "        event['data'] = 'scroll'\n",
       "        if (event.deltaY < 0) {\n",
       "            event.step = 1;\n",
       "        } else {\n",
       "            event.step = -1;\n",
       "        }\n",
       "        mouse_event_fn(event);\n",
       "    });\n",
       "\n",
       "    canvas_div.append(canvas);\n",
       "    canvas_div.append(rubberband);\n",
       "\n",
       "    this.rubberband = rubberband;\n",
       "    this.rubberband_canvas = rubberband[0];\n",
       "    this.rubberband_context = rubberband[0].getContext(\"2d\");\n",
       "    this.rubberband_context.strokeStyle = \"#000000\";\n",
       "\n",
       "    this._resize_canvas = function(width, height) {\n",
       "        // Keep the size of the canvas, canvas container, and rubber band\n",
       "        // canvas in synch.\n",
       "        canvas_div.css('width', width)\n",
       "        canvas_div.css('height', height)\n",
       "\n",
       "        canvas.attr('width', width * mpl.ratio);\n",
       "        canvas.attr('height', height * mpl.ratio);\n",
       "        canvas.attr('style', 'width: ' + width + 'px; height: ' + height + 'px;');\n",
       "\n",
       "        rubberband.attr('width', width);\n",
       "        rubberband.attr('height', height);\n",
       "    }\n",
       "\n",
       "    // Set the figure to an initial 600x600px, this will subsequently be updated\n",
       "    // upon first draw.\n",
       "    this._resize_canvas(600, 600);\n",
       "\n",
       "    // Disable right mouse context menu.\n",
       "    $(this.rubberband_canvas).bind(\"contextmenu\",function(e){\n",
       "        return false;\n",
       "    });\n",
       "\n",
       "    function set_focus () {\n",
       "        canvas.focus();\n",
       "        canvas_div.focus();\n",
       "    }\n",
       "\n",
       "    window.setTimeout(set_focus, 100);\n",
       "}\n",
       "\n",
       "mpl.figure.prototype._init_toolbar = function() {\n",
       "    var fig = this;\n",
       "\n",
       "    var nav_element = $('<div/>')\n",
       "    nav_element.attr('style', 'width: 100%');\n",
       "    this.root.append(nav_element);\n",
       "\n",
       "    // Define a callback function for later on.\n",
       "    function toolbar_event(event) {\n",
       "        return fig.toolbar_button_onclick(event['data']);\n",
       "    }\n",
       "    function toolbar_mouse_event(event) {\n",
       "        return fig.toolbar_button_onmouseover(event['data']);\n",
       "    }\n",
       "\n",
       "    for(var toolbar_ind in mpl.toolbar_items) {\n",
       "        var name = mpl.toolbar_items[toolbar_ind][0];\n",
       "        var tooltip = mpl.toolbar_items[toolbar_ind][1];\n",
       "        var image = mpl.toolbar_items[toolbar_ind][2];\n",
       "        var method_name = mpl.toolbar_items[toolbar_ind][3];\n",
       "\n",
       "        if (!name) {\n",
       "            // put a spacer in here.\n",
       "            continue;\n",
       "        }\n",
       "        var button = $('<button/>');\n",
       "        button.addClass('ui-button ui-widget ui-state-default ui-corner-all ' +\n",
       "                        'ui-button-icon-only');\n",
       "        button.attr('role', 'button');\n",
       "        button.attr('aria-disabled', 'false');\n",
       "        button.click(method_name, toolbar_event);\n",
       "        button.mouseover(tooltip, toolbar_mouse_event);\n",
       "\n",
       "        var icon_img = $('<span/>');\n",
       "        icon_img.addClass('ui-button-icon-primary ui-icon');\n",
       "        icon_img.addClass(image);\n",
       "        icon_img.addClass('ui-corner-all');\n",
       "\n",
       "        var tooltip_span = $('<span/>');\n",
       "        tooltip_span.addClass('ui-button-text');\n",
       "        tooltip_span.html(tooltip);\n",
       "\n",
       "        button.append(icon_img);\n",
       "        button.append(tooltip_span);\n",
       "\n",
       "        nav_element.append(button);\n",
       "    }\n",
       "\n",
       "    var fmt_picker_span = $('<span/>');\n",
       "\n",
       "    var fmt_picker = $('<select/>');\n",
       "    fmt_picker.addClass('mpl-toolbar-option ui-widget ui-widget-content');\n",
       "    fmt_picker_span.append(fmt_picker);\n",
       "    nav_element.append(fmt_picker_span);\n",
       "    this.format_dropdown = fmt_picker[0];\n",
       "\n",
       "    for (var ind in mpl.extensions) {\n",
       "        var fmt = mpl.extensions[ind];\n",
       "        var option = $(\n",
       "            '<option/>', {selected: fmt === mpl.default_extension}).html(fmt);\n",
       "        fmt_picker.append(option)\n",
       "    }\n",
       "\n",
       "    // Add hover states to the ui-buttons\n",
       "    $( \".ui-button\" ).hover(\n",
       "        function() { $(this).addClass(\"ui-state-hover\");},\n",
       "        function() { $(this).removeClass(\"ui-state-hover\");}\n",
       "    );\n",
       "\n",
       "    var status_bar = $('<span class=\"mpl-message\"/>');\n",
       "    nav_element.append(status_bar);\n",
       "    this.message = status_bar[0];\n",
       "}\n",
       "\n",
       "mpl.figure.prototype.request_resize = function(x_pixels, y_pixels) {\n",
       "    // Request matplotlib to resize the figure. Matplotlib will then trigger a resize in the client,\n",
       "    // which will in turn request a refresh of the image.\n",
       "    this.send_message('resize', {'width': x_pixels, 'height': y_pixels});\n",
       "}\n",
       "\n",
       "mpl.figure.prototype.send_message = function(type, properties) {\n",
       "    properties['type'] = type;\n",
       "    properties['figure_id'] = this.id;\n",
       "    this.ws.send(JSON.stringify(properties));\n",
       "}\n",
       "\n",
       "mpl.figure.prototype.send_draw_message = function() {\n",
       "    if (!this.waiting) {\n",
       "        this.waiting = true;\n",
       "        this.ws.send(JSON.stringify({type: \"draw\", figure_id: this.id}));\n",
       "    }\n",
       "}\n",
       "\n",
       "\n",
       "mpl.figure.prototype.handle_save = function(fig, msg) {\n",
       "    var format_dropdown = fig.format_dropdown;\n",
       "    var format = format_dropdown.options[format_dropdown.selectedIndex].value;\n",
       "    fig.ondownload(fig, format);\n",
       "}\n",
       "\n",
       "\n",
       "mpl.figure.prototype.handle_resize = function(fig, msg) {\n",
       "    var size = msg['size'];\n",
       "    if (size[0] != fig.canvas.width || size[1] != fig.canvas.height) {\n",
       "        fig._resize_canvas(size[0], size[1]);\n",
       "        fig.send_message(\"refresh\", {});\n",
       "    };\n",
       "}\n",
       "\n",
       "mpl.figure.prototype.handle_rubberband = function(fig, msg) {\n",
       "    var x0 = msg['x0'] / mpl.ratio;\n",
       "    var y0 = (fig.canvas.height - msg['y0']) / mpl.ratio;\n",
       "    var x1 = msg['x1'] / mpl.ratio;\n",
       "    var y1 = (fig.canvas.height - msg['y1']) / mpl.ratio;\n",
       "    x0 = Math.floor(x0) + 0.5;\n",
       "    y0 = Math.floor(y0) + 0.5;\n",
       "    x1 = Math.floor(x1) + 0.5;\n",
       "    y1 = Math.floor(y1) + 0.5;\n",
       "    var min_x = Math.min(x0, x1);\n",
       "    var min_y = Math.min(y0, y1);\n",
       "    var width = Math.abs(x1 - x0);\n",
       "    var height = Math.abs(y1 - y0);\n",
       "\n",
       "    fig.rubberband_context.clearRect(\n",
       "        0, 0, fig.canvas.width, fig.canvas.height);\n",
       "\n",
       "    fig.rubberband_context.strokeRect(min_x, min_y, width, height);\n",
       "}\n",
       "\n",
       "mpl.figure.prototype.handle_figure_label = function(fig, msg) {\n",
       "    // Updates the figure title.\n",
       "    fig.header.textContent = msg['label'];\n",
       "}\n",
       "\n",
       "mpl.figure.prototype.handle_cursor = function(fig, msg) {\n",
       "    var cursor = msg['cursor'];\n",
       "    switch(cursor)\n",
       "    {\n",
       "    case 0:\n",
       "        cursor = 'pointer';\n",
       "        break;\n",
       "    case 1:\n",
       "        cursor = 'default';\n",
       "        break;\n",
       "    case 2:\n",
       "        cursor = 'crosshair';\n",
       "        break;\n",
       "    case 3:\n",
       "        cursor = 'move';\n",
       "        break;\n",
       "    }\n",
       "    fig.rubberband_canvas.style.cursor = cursor;\n",
       "}\n",
       "\n",
       "mpl.figure.prototype.handle_message = function(fig, msg) {\n",
       "    fig.message.textContent = msg['message'];\n",
       "}\n",
       "\n",
       "mpl.figure.prototype.handle_draw = function(fig, msg) {\n",
       "    // Request the server to send over a new figure.\n",
       "    fig.send_draw_message();\n",
       "}\n",
       "\n",
       "mpl.figure.prototype.handle_image_mode = function(fig, msg) {\n",
       "    fig.image_mode = msg['mode'];\n",
       "}\n",
       "\n",
       "mpl.figure.prototype.updated_canvas_event = function() {\n",
       "    // Called whenever the canvas gets updated.\n",
       "    this.send_message(\"ack\", {});\n",
       "}\n",
       "\n",
       "// A function to construct a web socket function for onmessage handling.\n",
       "// Called in the figure constructor.\n",
       "mpl.figure.prototype._make_on_message_function = function(fig) {\n",
       "    return function socket_on_message(evt) {\n",
       "        if (evt.data instanceof Blob) {\n",
       "            /* FIXME: We get \"Resource interpreted as Image but\n",
       "             * transferred with MIME type text/plain:\" errors on\n",
       "             * Chrome.  But how to set the MIME type?  It doesn't seem\n",
       "             * to be part of the websocket stream */\n",
       "            evt.data.type = \"image/png\";\n",
       "\n",
       "            /* Free the memory for the previous frames */\n",
       "            if (fig.imageObj.src) {\n",
       "                (window.URL || window.webkitURL).revokeObjectURL(\n",
       "                    fig.imageObj.src);\n",
       "            }\n",
       "\n",
       "            fig.imageObj.src = (window.URL || window.webkitURL).createObjectURL(\n",
       "                evt.data);\n",
       "            fig.updated_canvas_event();\n",
       "            fig.waiting = false;\n",
       "            return;\n",
       "        }\n",
       "        else if (typeof evt.data === 'string' && evt.data.slice(0, 21) == \"data:image/png;base64\") {\n",
       "            fig.imageObj.src = evt.data;\n",
       "            fig.updated_canvas_event();\n",
       "            fig.waiting = false;\n",
       "            return;\n",
       "        }\n",
       "\n",
       "        var msg = JSON.parse(evt.data);\n",
       "        var msg_type = msg['type'];\n",
       "\n",
       "        // Call the  \"handle_{type}\" callback, which takes\n",
       "        // the figure and JSON message as its only arguments.\n",
       "        try {\n",
       "            var callback = fig[\"handle_\" + msg_type];\n",
       "        } catch (e) {\n",
       "            console.log(\"No handler for the '\" + msg_type + \"' message type: \", msg);\n",
       "            return;\n",
       "        }\n",
       "\n",
       "        if (callback) {\n",
       "            try {\n",
       "                // console.log(\"Handling '\" + msg_type + \"' message: \", msg);\n",
       "                callback(fig, msg);\n",
       "            } catch (e) {\n",
       "                console.log(\"Exception inside the 'handler_\" + msg_type + \"' callback:\", e, e.stack, msg);\n",
       "            }\n",
       "        }\n",
       "    };\n",
       "}\n",
       "\n",
       "// from http://stackoverflow.com/questions/1114465/getting-mouse-location-in-canvas\n",
       "mpl.findpos = function(e) {\n",
       "    //this section is from http://www.quirksmode.org/js/events_properties.html\n",
       "    var targ;\n",
       "    if (!e)\n",
       "        e = window.event;\n",
       "    if (e.target)\n",
       "        targ = e.target;\n",
       "    else if (e.srcElement)\n",
       "        targ = e.srcElement;\n",
       "    if (targ.nodeType == 3) // defeat Safari bug\n",
       "        targ = targ.parentNode;\n",
       "\n",
       "    // jQuery normalizes the pageX and pageY\n",
       "    // pageX,Y are the mouse positions relative to the document\n",
       "    // offset() returns the position of the element relative to the document\n",
       "    var x = e.pageX - $(targ).offset().left;\n",
       "    var y = e.pageY - $(targ).offset().top;\n",
       "\n",
       "    return {\"x\": x, \"y\": y};\n",
       "};\n",
       "\n",
       "/*\n",
       " * return a copy of an object with only non-object keys\n",
       " * we need this to avoid circular references\n",
       " * http://stackoverflow.com/a/24161582/3208463\n",
       " */\n",
       "function simpleKeys (original) {\n",
       "  return Object.keys(original).reduce(function (obj, key) {\n",
       "    if (typeof original[key] !== 'object')\n",
       "        obj[key] = original[key]\n",
       "    return obj;\n",
       "  }, {});\n",
       "}\n",
       "\n",
       "mpl.figure.prototype.mouse_event = function(event, name) {\n",
       "    var canvas_pos = mpl.findpos(event)\n",
       "\n",
       "    if (name === 'button_press')\n",
       "    {\n",
       "        this.canvas.focus();\n",
       "        this.canvas_div.focus();\n",
       "    }\n",
       "\n",
       "    var x = canvas_pos.x * mpl.ratio;\n",
       "    var y = canvas_pos.y * mpl.ratio;\n",
       "\n",
       "    this.send_message(name, {x: x, y: y, button: event.button,\n",
       "                             step: event.step,\n",
       "                             guiEvent: simpleKeys(event)});\n",
       "\n",
       "    /* This prevents the web browser from automatically changing to\n",
       "     * the text insertion cursor when the button is pressed.  We want\n",
       "     * to control all of the cursor setting manually through the\n",
       "     * 'cursor' event from matplotlib */\n",
       "    event.preventDefault();\n",
       "    return false;\n",
       "}\n",
       "\n",
       "mpl.figure.prototype._key_event_extra = function(event, name) {\n",
       "    // Handle any extra behaviour associated with a key event\n",
       "}\n",
       "\n",
       "mpl.figure.prototype.key_event = function(event, name) {\n",
       "\n",
       "    // Prevent repeat events\n",
       "    if (name == 'key_press')\n",
       "    {\n",
       "        if (event.which === this._key)\n",
       "            return;\n",
       "        else\n",
       "            this._key = event.which;\n",
       "    }\n",
       "    if (name == 'key_release')\n",
       "        this._key = null;\n",
       "\n",
       "    var value = '';\n",
       "    if (event.ctrlKey && event.which != 17)\n",
       "        value += \"ctrl+\";\n",
       "    if (event.altKey && event.which != 18)\n",
       "        value += \"alt+\";\n",
       "    if (event.shiftKey && event.which != 16)\n",
       "        value += \"shift+\";\n",
       "\n",
       "    value += 'k';\n",
       "    value += event.which.toString();\n",
       "\n",
       "    this._key_event_extra(event, name);\n",
       "\n",
       "    this.send_message(name, {key: value,\n",
       "                             guiEvent: simpleKeys(event)});\n",
       "    return false;\n",
       "}\n",
       "\n",
       "mpl.figure.prototype.toolbar_button_onclick = function(name) {\n",
       "    if (name == 'download') {\n",
       "        this.handle_save(this, null);\n",
       "    } else {\n",
       "        this.send_message(\"toolbar_button\", {name: name});\n",
       "    }\n",
       "};\n",
       "\n",
       "mpl.figure.prototype.toolbar_button_onmouseover = function(tooltip) {\n",
       "    this.message.textContent = tooltip;\n",
       "};\n",
       "mpl.toolbar_items = [[\"Home\", \"Reset original view\", \"fa fa-home icon-home\", \"home\"], [\"Back\", \"Back to  previous view\", \"fa fa-arrow-left icon-arrow-left\", \"back\"], [\"Forward\", \"Forward to next view\", \"fa fa-arrow-right icon-arrow-right\", \"forward\"], [\"\", \"\", \"\", \"\"], [\"Pan\", \"Pan axes with left mouse, zoom with right\", \"fa fa-arrows icon-move\", \"pan\"], [\"Zoom\", \"Zoom to rectangle\", \"fa fa-square-o icon-check-empty\", \"zoom\"], [\"\", \"\", \"\", \"\"], [\"Download\", \"Download plot\", \"fa fa-floppy-o icon-save\", \"download\"]];\n",
       "\n",
       "mpl.extensions = [\"eps\", \"jpeg\", \"pdf\", \"png\", \"ps\", \"raw\", \"svg\", \"tif\"];\n",
       "\n",
       "mpl.default_extension = \"png\";var comm_websocket_adapter = function(comm) {\n",
       "    // Create a \"websocket\"-like object which calls the given IPython comm\n",
       "    // object with the appropriate methods. Currently this is a non binary\n",
       "    // socket, so there is still some room for performance tuning.\n",
       "    var ws = {};\n",
       "\n",
       "    ws.close = function() {\n",
       "        comm.close()\n",
       "    };\n",
       "    ws.send = function(m) {\n",
       "        //console.log('sending', m);\n",
       "        comm.send(m);\n",
       "    };\n",
       "    // Register the callback with on_msg.\n",
       "    comm.on_msg(function(msg) {\n",
       "        //console.log('receiving', msg['content']['data'], msg);\n",
       "        // Pass the mpl event to the overriden (by mpl) onmessage function.\n",
       "        ws.onmessage(msg['content']['data'])\n",
       "    });\n",
       "    return ws;\n",
       "}\n",
       "\n",
       "mpl.mpl_figure_comm = function(comm, msg) {\n",
       "    // This is the function which gets called when the mpl process\n",
       "    // starts-up an IPython Comm through the \"matplotlib\" channel.\n",
       "\n",
       "    var id = msg.content.data.id;\n",
       "    // Get hold of the div created by the display call when the Comm\n",
       "    // socket was opened in Python.\n",
       "    var element = $(\"#\" + id);\n",
       "    var ws_proxy = comm_websocket_adapter(comm)\n",
       "\n",
       "    function ondownload(figure, format) {\n",
       "        window.open(figure.imageObj.src);\n",
       "    }\n",
       "\n",
       "    var fig = new mpl.figure(id, ws_proxy,\n",
       "                           ondownload,\n",
       "                           element.get(0));\n",
       "\n",
       "    // Call onopen now - mpl needs it, as it is assuming we've passed it a real\n",
       "    // web socket which is closed, not our websocket->open comm proxy.\n",
       "    ws_proxy.onopen();\n",
       "\n",
       "    fig.parent_element = element.get(0);\n",
       "    fig.cell_info = mpl.find_output_cell(\"<div id='\" + id + \"'></div>\");\n",
       "    if (!fig.cell_info) {\n",
       "        console.error(\"Failed to find cell for figure\", id, fig);\n",
       "        return;\n",
       "    }\n",
       "\n",
       "    var output_index = fig.cell_info[2]\n",
       "    var cell = fig.cell_info[0];\n",
       "\n",
       "};\n",
       "\n",
       "mpl.figure.prototype.handle_close = function(fig, msg) {\n",
       "    var width = fig.canvas.width/mpl.ratio\n",
       "    fig.root.unbind('remove')\n",
       "\n",
       "    // Update the output cell to use the data from the current canvas.\n",
       "    fig.push_to_output();\n",
       "    var dataURL = fig.canvas.toDataURL();\n",
       "    // Re-enable the keyboard manager in IPython - without this line, in FF,\n",
       "    // the notebook keyboard shortcuts fail.\n",
       "    IPython.keyboard_manager.enable()\n",
       "    $(fig.parent_element).html('<img src=\"' + dataURL + '\" width=\"' + width + '\">');\n",
       "    fig.close_ws(fig, msg);\n",
       "}\n",
       "\n",
       "mpl.figure.prototype.close_ws = function(fig, msg){\n",
       "    fig.send_message('closing', msg);\n",
       "    // fig.ws.close()\n",
       "}\n",
       "\n",
       "mpl.figure.prototype.push_to_output = function(remove_interactive) {\n",
       "    // Turn the data on the canvas into data in the output cell.\n",
       "    var width = this.canvas.width/mpl.ratio\n",
       "    var dataURL = this.canvas.toDataURL();\n",
       "    this.cell_info[1]['text/html'] = '<img src=\"' + dataURL + '\" width=\"' + width + '\">';\n",
       "}\n",
       "\n",
       "mpl.figure.prototype.updated_canvas_event = function() {\n",
       "    // Tell IPython that the notebook contents must change.\n",
       "    IPython.notebook.set_dirty(true);\n",
       "    this.send_message(\"ack\", {});\n",
       "    var fig = this;\n",
       "    // Wait a second, then push the new image to the DOM so\n",
       "    // that it is saved nicely (might be nice to debounce this).\n",
       "    setTimeout(function () { fig.push_to_output() }, 1000);\n",
       "}\n",
       "\n",
       "mpl.figure.prototype._init_toolbar = function() {\n",
       "    var fig = this;\n",
       "\n",
       "    var nav_element = $('<div/>')\n",
       "    nav_element.attr('style', 'width: 100%');\n",
       "    this.root.append(nav_element);\n",
       "\n",
       "    // Define a callback function for later on.\n",
       "    function toolbar_event(event) {\n",
       "        return fig.toolbar_button_onclick(event['data']);\n",
       "    }\n",
       "    function toolbar_mouse_event(event) {\n",
       "        return fig.toolbar_button_onmouseover(event['data']);\n",
       "    }\n",
       "\n",
       "    for(var toolbar_ind in mpl.toolbar_items){\n",
       "        var name = mpl.toolbar_items[toolbar_ind][0];\n",
       "        var tooltip = mpl.toolbar_items[toolbar_ind][1];\n",
       "        var image = mpl.toolbar_items[toolbar_ind][2];\n",
       "        var method_name = mpl.toolbar_items[toolbar_ind][3];\n",
       "\n",
       "        if (!name) { continue; };\n",
       "\n",
       "        var button = $('<button class=\"btn btn-default\" href=\"#\" title=\"' + name + '\"><i class=\"fa ' + image + ' fa-lg\"></i></button>');\n",
       "        button.click(method_name, toolbar_event);\n",
       "        button.mouseover(tooltip, toolbar_mouse_event);\n",
       "        nav_element.append(button);\n",
       "    }\n",
       "\n",
       "    // Add the status bar.\n",
       "    var status_bar = $('<span class=\"mpl-message\" style=\"text-align:right; float: right;\"/>');\n",
       "    nav_element.append(status_bar);\n",
       "    this.message = status_bar[0];\n",
       "\n",
       "    // Add the close button to the window.\n",
       "    var buttongrp = $('<div class=\"btn-group inline pull-right\"></div>');\n",
       "    var button = $('<button class=\"btn btn-mini btn-primary\" href=\"#\" title=\"Stop Interaction\"><i class=\"fa fa-power-off icon-remove icon-large\"></i></button>');\n",
       "    button.click(function (evt) { fig.handle_close(fig, {}); } );\n",
       "    button.mouseover('Stop Interaction', toolbar_mouse_event);\n",
       "    buttongrp.append(button);\n",
       "    var titlebar = this.root.find($('.ui-dialog-titlebar'));\n",
       "    titlebar.prepend(buttongrp);\n",
       "}\n",
       "\n",
       "mpl.figure.prototype._root_extra_style = function(el){\n",
       "    var fig = this\n",
       "    el.on(\"remove\", function(){\n",
       "\tfig.close_ws(fig, {});\n",
       "    });\n",
       "}\n",
       "\n",
       "mpl.figure.prototype._canvas_extra_style = function(el){\n",
       "    // this is important to make the div 'focusable\n",
       "    el.attr('tabindex', 0)\n",
       "    // reach out to IPython and tell the keyboard manager to turn it's self\n",
       "    // off when our div gets focus\n",
       "\n",
       "    // location in version 3\n",
       "    if (IPython.notebook.keyboard_manager) {\n",
       "        IPython.notebook.keyboard_manager.register_events(el);\n",
       "    }\n",
       "    else {\n",
       "        // location in version 2\n",
       "        IPython.keyboard_manager.register_events(el);\n",
       "    }\n",
       "\n",
       "}\n",
       "\n",
       "mpl.figure.prototype._key_event_extra = function(event, name) {\n",
       "    var manager = IPython.notebook.keyboard_manager;\n",
       "    if (!manager)\n",
       "        manager = IPython.keyboard_manager;\n",
       "\n",
       "    // Check for shift+enter\n",
       "    if (event.shiftKey && event.which == 13) {\n",
       "        this.canvas_div.blur();\n",
       "        // select the cell after this one\n",
       "        var index = IPython.notebook.find_cell_index(this.cell_info[0]);\n",
       "        IPython.notebook.select(index + 1);\n",
       "    }\n",
       "}\n",
       "\n",
       "mpl.figure.prototype.handle_save = function(fig, msg) {\n",
       "    fig.ondownload(fig, null);\n",
       "}\n",
       "\n",
       "\n",
       "mpl.find_output_cell = function(html_output) {\n",
       "    // Return the cell and output element which can be found *uniquely* in the notebook.\n",
       "    // Note - this is a bit hacky, but it is done because the \"notebook_saving.Notebook\"\n",
       "    // IPython event is triggered only after the cells have been serialised, which for\n",
       "    // our purposes (turning an active figure into a static one), is too late.\n",
       "    var cells = IPython.notebook.get_cells();\n",
       "    var ncells = cells.length;\n",
       "    for (var i=0; i<ncells; i++) {\n",
       "        var cell = cells[i];\n",
       "        if (cell.cell_type === 'code'){\n",
       "            for (var j=0; j<cell.output_area.outputs.length; j++) {\n",
       "                var data = cell.output_area.outputs[j];\n",
       "                if (data.data) {\n",
       "                    // IPython >= 3 moved mimebundle to data attribute of output\n",
       "                    data = data.data;\n",
       "                }\n",
       "                if (data['text/html'] == html_output) {\n",
       "                    return [cell, data, j];\n",
       "                }\n",
       "            }\n",
       "        }\n",
       "    }\n",
       "}\n",
       "\n",
       "// Register the function which deals with the matplotlib target/channel.\n",
       "// The kernel may be null if the page has been refreshed.\n",
       "if (IPython.notebook.kernel != null) {\n",
       "    IPython.notebook.kernel.comm_manager.register_target('matplotlib', mpl.mpl_figure_comm);\n",
       "}\n"
      ],
      "text/plain": [
       "<IPython.core.display.Javascript object>"
      ]
     },
     "metadata": {},
     "output_type": "display_data"
    },
    {
     "data": {
      "text/html": [
       "<img src=\"data:image/png;base64,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\" width=\"639.9999861283738\">"
      ],
      "text/plain": [
       "<IPython.core.display.HTML object>"
      ]
     },
     "metadata": {},
     "output_type": "display_data"
    },
    {
     "data": {
      "text/plain": [
       "<matplotlib.axes._subplots.AxesSubplot at 0x118bd21d0>"
      ]
     },
     "execution_count": 162,
     "metadata": {},
     "output_type": "execute_result"
    }
   ],
   "source": [
    "df.plot(kind='scatter', x='total_bill', y='tip')"
   ]
  },
  {
   "cell_type": "markdown",
   "metadata": {},
   "source": [
    "<div style=\"height:350px;padding:10px;background:#eeeeee;\">\n",
    "<h1 align=\"center\">Thank you!\n",
    "</h1>\n",
    "\n",
    "</div>"
   ]
  }
 ],
 "metadata": {
  "kernelspec": {
   "display_name": "Python 3",
   "language": "python",
   "name": "python3"
  },
  "language_info": {
   "codemirror_mode": {
    "name": "ipython",
    "version": 3
   },
   "file_extension": ".py",
   "mimetype": "text/x-python",
   "name": "python",
   "nbconvert_exporter": "python",
   "pygments_lexer": "ipython3",
   "version": "3.6.1"
  }
 },
 "nbformat": 4,
 "nbformat_minor": 1
}
